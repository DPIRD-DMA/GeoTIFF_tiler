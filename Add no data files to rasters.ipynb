{
 "cells": [
  {
   "cell_type": "code",
   "execution_count": 21,
   "id": "99c9350d",
   "metadata": {},
   "outputs": [],
   "source": [
    "import rasterio\n",
    "import glob\n",
    "import numpy as np\n",
    "from multiprocess import pool\n",
    "from tqdm.auto import tqdm"
   ]
  },
  {
   "cell_type": "code",
   "execution_count": 22,
   "id": "c30f7907",
   "metadata": {},
   "outputs": [
    {
     "data": {
      "text/plain": [
       "7"
      ]
     },
     "execution_count": 22,
     "metadata": {},
     "output_type": "execute_result"
    }
   ],
   "source": [
    "input_raster_folder = '/media/nick/4TB Working/Dataset/AW3D tiles/rows'\n",
    "rasters = glob.glob(input_dem_folder+'/*.tif')\n",
    "len(rasters)"
   ]
  },
  {
   "cell_type": "code",
   "execution_count": 19,
   "id": "81b2e688",
   "metadata": {},
   "outputs": [],
   "source": [
    "def add_msk(raster):\n",
    "# for raster in rasters:\n",
    "    src = rasterio.open(raster, mode=\"r+\")\n",
    "    src.write_mask(True)\n",
    "    src.read_masks(1).all()\n",
    "    src.close()"
   ]
  },
  {
   "cell_type": "code",
   "execution_count": 18,
   "id": "57c08baa",
   "metadata": {},
   "outputs": [],
   "source": [
    "with Pool() as p:\n",
    "    r = list(tqdm(p.imap(add_msk, rasters)), total=len(rasters)))"
   ]
  },
  {
   "cell_type": "code",
   "execution_count": null,
   "id": "771a925d",
   "metadata": {},
   "outputs": [],
   "source": []
  }
 ],
 "metadata": {
  "kernelspec": {
   "display_name": "Python 3",
   "language": "python",
   "name": "python3"
  },
  "language_info": {
   "codemirror_mode": {
    "name": "ipython",
    "version": 3
   },
   "file_extension": ".py",
   "mimetype": "text/x-python",
   "name": "python",
   "nbconvert_exporter": "python",
   "pygments_lexer": "ipython3",
   "version": "3.8.8"
  }
 },
 "nbformat": 4,
 "nbformat_minor": 5
}
