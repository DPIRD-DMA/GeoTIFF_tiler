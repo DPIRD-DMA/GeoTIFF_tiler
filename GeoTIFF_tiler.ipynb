{
 "cells": [
  {
   "cell_type": "code",
   "execution_count": 1,
   "id": "2ad4c117",
   "metadata": {},
   "outputs": [
    {
     "name": "stderr",
     "output_type": "stream",
     "text": [
      "/home/nick/anaconda3/envs/fastai/lib/python3.7/site-packages/ipykernel_launcher.py:14: TqdmExperimentalWarning: Using `tqdm.autonotebook.tqdm` in notebook mode. Use `tqdm.tqdm` instead to force console mode (e.g. in jupyter console)\n",
      "  \n"
     ]
    }
   ],
   "source": [
    "import os\n",
    "import geopandas as gpd\n",
    "import sys\n",
    "wos = 'win' in sys.platform\n",
    "if wos:\n",
    "    from osgeo import gdal\n",
    "    from multiprocess import Pool\n",
    "    from funcs import get_bounds\n",
    "else:\n",
    "    import gdal\n",
    "    from multiprocessing import Pool\n",
    "import numpy as np\n",
    "from numba import jit\n",
    "from tqdm.autonotebook import tqdm\n",
    "import math\n",
    "from shapely import geometry"
   ]
  },
  {
   "cell_type": "code",
   "execution_count": 100,
   "id": "fcbe66cf",
   "metadata": {},
   "outputs": [],
   "source": [
    "tile_size_px = [1000,1000] #x,y\n",
    "tile_oxerlap_px = 150\n",
    "output_downsample = 0.5\n",
    "output_folder = r'/media/nick/2TB Working 2/Projects/GeoTIFF_tiler_data/tiles'\n",
    "geotiff_folder = r'/media/nick/2TB Working 2/Projects/GeoTIFF_tiler_data/VIVID_Landgate_20190910_112102323' if not wos else r'{}'.format(os.getcwd())+r'\\\\test_imagery\\\\VIVID_Landgate_20190910_112102323'\n",
    "input_file_ext = '.tif'"
   ]
  },
  {
   "cell_type": "code",
   "execution_count": 3,
   "id": "f0143eee",
   "metadata": {},
   "outputs": [
    {
     "data": {
      "text/plain": [
       "'0.9.0'"
      ]
     },
     "execution_count": 3,
     "metadata": {},
     "output_type": "execute_result"
    }
   ],
   "source": [
    "# you must have v0.8 or up to use use_pygeos\n",
    "import pkg_resources\n",
    "pkg_resources.get_distribution('geopandas').version"
   ]
  },
  {
   "cell_type": "code",
   "execution_count": 4,
   "id": "6963f304",
   "metadata": {},
   "outputs": [
    {
     "name": "stdout",
     "output_type": "stream",
     "text": [
      "True\n"
     ]
    }
   ],
   "source": [
    "# !conda install -c conda-forge pygeos\n",
    "gpd.options.use_pygeos = True\n",
    "print(gpd.options.use_pygeos)"
   ]
  },
  {
   "cell_type": "code",
   "execution_count": 5,
   "id": "456f5571",
   "metadata": {},
   "outputs": [
    {
     "name": "stdout",
     "output_type": "stream",
     "text": [
      "CPU times: user 3.33 ms, sys: 283 µs, total: 3.62 ms\n",
      "Wall time: 1.86 ms\n"
     ]
    },
    {
     "data": {
      "text/plain": [
       "17"
      ]
     },
     "execution_count": 5,
     "metadata": {},
     "output_type": "execute_result"
    }
   ],
   "source": [
    "%%time\n",
    "# search folder and all sub folders for 'input_file_ext' files\n",
    "geo_tiff_list = []\n",
    "for root, dirs, files in os.walk(geotiff_folder):\n",
    "    for file in files:\n",
    "        if file.endswith(input_file_ext):\n",
    "            geo_tiff_list.append(os.path.join(root, file))\n",
    "            \n",
    "len(geo_tiff_list) "
   ]
  },
  {
   "cell_type": "code",
   "execution_count": 6,
   "id": "e395ebda",
   "metadata": {},
   "outputs": [],
   "source": [
    "if not wos:\n",
    "    def get_bounds(tif_path):\n",
    "    #     open file\n",
    "        data = gdal.Open(tif_path)\n",
    "    #     grab bounds\n",
    "        geoTransform = data.GetGeoTransform()\n",
    "        left = geoTransform[0]\n",
    "        top = geoTransform[3]\n",
    "        right = left + geoTransform[1] * data.RasterXSize\n",
    "        bottom = top + geoTransform[5] * data.RasterYSize\n",
    "        geo_tiff_bounds_dict = {'top':top,'left':left,'bottom':bottom,'right':right,'tif_path':tif_path}\n",
    "        return geo_tiff_bounds_dict"
   ]
  },
  {
   "cell_type": "code",
   "execution_count": 7,
   "id": "f4d1b08d",
   "metadata": {},
   "outputs": [
    {
     "data": {
      "text/plain": [
       "{'top': -34.27734375,\n",
       " 'left': 116.455078125,\n",
       " 'bottom': -34.365234375,\n",
       " 'right': 116.54296875,\n",
       " 'tif_path': '/media/nick/2TB Working 2/Projects/GeoTIFF_tiler_data/VIVID_Landgate_20190910_112102323/VIVID_Landgate_20190910_112102323103.tif'}"
      ]
     },
     "execution_count": 7,
     "metadata": {},
     "output_type": "execute_result"
    }
   ],
   "source": [
    "geo_tiff_bounds =get_bounds(geo_tiff_list[0])\n",
    "geo_tiff_bounds"
   ]
  },
  {
   "cell_type": "code",
   "execution_count": 8,
   "id": "82789b9c",
   "metadata": {},
   "outputs": [
    {
     "data": {
      "application/vnd.jupyter.widget-view+json": {
       "model_id": "d367718f19d94617929e9a1ffe2543ef",
       "version_major": 2,
       "version_minor": 0
      },
      "text/plain": [
       "  0%|          | 0/3 [00:00<?, ?it/s]"
      ]
     },
     "metadata": {},
     "output_type": "display_data"
    }
   ],
   "source": [
    "pool = Pool(3)\n",
    "with pool:\n",
    "    list(tqdm(pool.imap(get_bounds,geo_tiff_list[:3]), total=3))"
   ]
  },
  {
   "cell_type": "code",
   "execution_count": 9,
   "id": "b75cc0cc",
   "metadata": {},
   "outputs": [
    {
     "name": "stdout",
     "output_type": "stream",
     "text": [
      "CPU times: user 2.85 ms, sys: 0 ns, total: 2.85 ms\n",
      "Wall time: 2.32 ms\n"
     ]
    }
   ],
   "source": [
    "%%time\n",
    "for i in geo_tiff_list:\n",
    "    get_bounds(i)"
   ]
  },
  {
   "cell_type": "code",
   "execution_count": 10,
   "id": "4c482463",
   "metadata": {},
   "outputs": [
    {
     "data": {
      "application/vnd.jupyter.widget-view+json": {
       "model_id": "74d2a668317c48fda3fafa5de5a67711",
       "version_major": 2,
       "version_minor": 0
      },
      "text/plain": [
       "  0%|          | 0/17 [00:00<?, ?it/s]"
      ]
     },
     "metadata": {},
     "output_type": "display_data"
    },
    {
     "name": "stdout",
     "output_type": "stream",
     "text": [
      "CPU times: user 27.2 ms, sys: 37.2 ms, total: 64.4 ms\n",
      "Wall time: 169 ms\n"
     ]
    }
   ],
   "source": [
    "%%time\n",
    "# use multiprocessing to extract raster bounds\n",
    "# interesting when using a small number of geotiffs its is slightly quicker to just run this as a loop\n",
    "# however once you get over a 100 or so this method is much quicker\n",
    "with Pool() as pool:\n",
    "    geo_tiff_bounds = list(tqdm(pool.imap(get_bounds, geo_tiff_list), total=len(geo_tiff_list)))\n",
    "\n",
    "# make new array with only bounds \n",
    "pure_bounds = []\n",
    "for geo_tif_bounds in geo_tiff_bounds:\n",
    "    pure_bounds.append([geo_tif_bounds['top'],geo_tif_bounds['left'],geo_tif_bounds['bottom'],geo_tif_bounds['right']])\n",
    "# convert into numpy array\n",
    "pure_bounds_np = np.array(pure_bounds)\n",
    "# # grab max extents\n",
    "bound_y_max = float(pure_bounds_np[:,0].max()) #top\n",
    "bound_x_min = float(pure_bounds_np[:,1].min()) #left\n",
    "bound_y_min = float(pure_bounds_np[:,2].min()) #bottom\n",
    "bound_x_max = float(pure_bounds_np[:,3].max()) #right"
   ]
  },
  {
   "cell_type": "code",
   "execution_count": 11,
   "id": "524737ee",
   "metadata": {},
   "outputs": [
    {
     "name": "stdout",
     "output_type": "stream",
     "text": [
      "4.487879136029412e-06 -4.487879136029412e-06\n"
     ]
    }
   ],
   "source": [
    "# open one image to get the pixel size\n",
    "test_raster = gdal.Open(geo_tiff_list[0])\n",
    "test_raster_gt =test_raster.GetGeoTransform()\n",
    "pixel_size_x = test_raster_gt[1]\n",
    "pixel_size_y = test_raster_gt[5]\n",
    "print(pixel_size_x,pixel_size_y)"
   ]
  },
  {
   "cell_type": "code",
   "execution_count": 12,
   "id": "dc5b6ed6",
   "metadata": {},
   "outputs": [
    {
     "name": "stdout",
     "output_type": "stream",
     "text": [
      "0.003814697265625 -0.003814697265625\n"
     ]
    }
   ],
   "source": [
    "x_move = pixel_size_x*(tile_size_px[0]-tile_oxerlap_px)\n",
    "y_move = pixel_size_y*(tile_size_px[1]-tile_oxerlap_px)\n",
    "\n",
    "x_tile_size = pixel_size_x*tile_size_px[0]\n",
    "y_tile_size = pixel_size_y*tile_size_px[1]\n",
    "print(x_move,y_move)"
   ]
  },
  {
   "cell_type": "code",
   "execution_count": 13,
   "id": "4478f8e8",
   "metadata": {},
   "outputs": [
    {
     "data": {
      "text/plain": [
       "139"
      ]
     },
     "execution_count": 13,
     "metadata": {},
     "output_type": "execute_result"
    }
   ],
   "source": [
    "# calc the number of cols so we can avoid using while loops\n",
    "number_of_cols = math.ceil(abs((bound_x_max-bound_x_min)/x_move))\n",
    "number_of_cols"
   ]
  },
  {
   "cell_type": "code",
   "execution_count": 14,
   "id": "7a372a04",
   "metadata": {},
   "outputs": [
    {
     "data": {
      "text/plain": [
       "93"
      ]
     },
     "execution_count": 14,
     "metadata": {},
     "output_type": "execute_result"
    }
   ],
   "source": [
    "# calc the number of rows so we can avoid using while loops\n",
    "number_of_rows = math.ceil(abs((bound_y_max-bound_y_min)/y_move))\n",
    "number_of_rows"
   ]
  },
  {
   "cell_type": "code",
   "execution_count": 20,
   "id": "7c5c1488",
   "metadata": {},
   "outputs": [
    {
     "data": {
      "text/plain": [
       "-34.27734375"
      ]
     },
     "execution_count": 20,
     "metadata": {},
     "output_type": "execute_result"
    }
   ],
   "source": [
    "geo_tiff_bounds[0]['top']"
   ]
  },
  {
   "cell_type": "code",
   "execution_count": 47,
   "id": "4519ee7e",
   "metadata": {},
   "outputs": [],
   "source": [
    "# will return a list of geotiffs which intersect \n",
    "def intersect_tile_with_geotiffs(tile_dict,geo_tiff_bounds):\n",
    "#     loop over each geotiff\n",
    "    intersecting_geotiffs = []\n",
    "    \n",
    "    for geo_bounds in geo_tiff_bounds:\n",
    "#         check is tile top or bottom is inside geotiff\n",
    "        if (geo_bounds['top'] > tile_dict['top'] > geo_bounds['bottom'] or \n",
    "            geo_bounds['top'] > tile_dict['bottom'] > geo_bounds['bottom']):\n",
    "#         check if left or right are inside a geotiff\n",
    "            if geo_bounds['right'] > tile_dict['left'] > geo_bounds['left']:\n",
    "                intersecting_geotiffs.append(geo_bounds['tif_path'])\n",
    "            if geo_bounds['right'] > tile_dict['right'] > geo_bounds['left']:\n",
    "                intersecting_geotiffs.append(geo_bounds['tif_path'])\n",
    "    return intersecting_geotiffs"
   ]
  },
  {
   "cell_type": "code",
   "execution_count": 52,
   "id": "72c8a5d1",
   "metadata": {},
   "outputs": [],
   "source": [
    "# will take tile bounds and only export them if they fall within a geotiff\n",
    "# this is called row by row by pool below\n",
    "def make_polygons(row):\n",
    "    tile_polygon_list = []\n",
    "    tile_top = bound_y_max + y_move*row\n",
    "    tile_bottom = tile_top + y_tile_size\n",
    "    tile_left = bound_x_min\n",
    "\n",
    "    for col in range(0,number_of_cols):\n",
    "        tile_left = bound_x_min + col*x_move\n",
    "        tile_right = tile_left + x_tile_size\n",
    "        tile_dict = {'top':tile_top,'left':tile_left,'bottom':tile_bottom,'right':tile_right}\n",
    "        tile_list = np.array([tile_top,tile_left,tile_bottom,tile_right])\n",
    "#         check if valid tile\n",
    "        intersect = intersect_tile_with_geotiffs(tile_dict,geo_tiff_bounds)\n",
    "        if len(intersect) > 0:\n",
    "            polygon = {'geometry':geometry.Polygon([[tile_left, tile_top], [tile_right, tile_top], [tile_right, tile_bottom], [tile_left, tile_bottom]]),\n",
    "                      'intersect':intersect}\n",
    "            tile_polygon_list.append(polygon)\n",
    "    return tile_polygon_list\n"
   ]
  },
  {
   "cell_type": "code",
   "execution_count": 53,
   "id": "388307a0",
   "metadata": {},
   "outputs": [
    {
     "name": "stdout",
     "output_type": "stream",
     "text": [
      "CPU times: user 157 ms, sys: 4.17 ms, total: 162 ms\n",
      "Wall time: 155 ms\n"
     ]
    }
   ],
   "source": [
    "%%time\n",
    "tile_polygon_list = []\n",
    "for i in range(0,number_of_rows):\n",
    "    tile_polygon_list.append(make_polygons(i))"
   ]
  },
  {
   "cell_type": "code",
   "execution_count": 76,
   "id": "6a041f8d",
   "metadata": {},
   "outputs": [
    {
     "name": "stdout",
     "output_type": "stream",
     "text": [
      "CPU times: user 69.5 ms, sys: 44.6 ms, total: 114 ms\n",
      "Wall time: 157 ms\n"
     ]
    }
   ],
   "source": [
    "%%time\n",
    "# multiprocess making polygons\n",
    "with Pool() as pool:\n",
    "    tile_polygon_list = pool.map(make_polygons, range(0,number_of_rows))\n",
    "\n",
    "# this is returned as a list of list so it must be flattened\n",
    "tile_polygon_list = list(np.concatenate(tile_polygon_list).ravel())"
   ]
  },
  {
   "cell_type": "code",
   "execution_count": null,
   "id": "000c8e88",
   "metadata": {},
   "outputs": [],
   "source": []
  },
  {
   "cell_type": "code",
   "execution_count": 77,
   "id": "da723fad",
   "metadata": {},
   "outputs": [
    {
     "name": "stdout",
     "output_type": "stream",
     "text": [
      "CPU times: user 18 ms, sys: 3.67 ms, total: 21.6 ms\n",
      "Wall time: 19.8 ms\n"
     ]
    }
   ],
   "source": [
    "%%time\n",
    "#  convert into geodataframe\n",
    "polygon_tiles_gpd = gpd.GeoDataFrame(tile_polygon_list,geometry='geometry',crs='EPSG:4326')\n",
    "del polygon_tiles_gpd['intersect']"
   ]
  },
  {
   "cell_type": "code",
   "execution_count": 78,
   "id": "a7e89aa0",
   "metadata": {},
   "outputs": [
    {
     "data": {
      "text/html": [
       "<div>\n",
       "<style scoped>\n",
       "    .dataframe tbody tr th:only-of-type {\n",
       "        vertical-align: middle;\n",
       "    }\n",
       "\n",
       "    .dataframe tbody tr th {\n",
       "        vertical-align: top;\n",
       "    }\n",
       "\n",
       "    .dataframe thead th {\n",
       "        text-align: right;\n",
       "    }\n",
       "</style>\n",
       "<table border=\"1\" class=\"dataframe\">\n",
       "  <thead>\n",
       "    <tr style=\"text-align: right;\">\n",
       "      <th></th>\n",
       "      <th>geometry</th>\n",
       "    </tr>\n",
       "  </thead>\n",
       "  <tbody>\n",
       "    <tr>\n",
       "      <th>0</th>\n",
       "      <td>POLYGON ((116.01562 -34.10156, 116.02011 -34.1...</td>\n",
       "    </tr>\n",
       "    <tr>\n",
       "      <th>1</th>\n",
       "      <td>POLYGON ((116.01944 -34.10156, 116.02393 -34.1...</td>\n",
       "    </tr>\n",
       "    <tr>\n",
       "      <th>2</th>\n",
       "      <td>POLYGON ((116.02325 -34.10156, 116.02774 -34.1...</td>\n",
       "    </tr>\n",
       "    <tr>\n",
       "      <th>3</th>\n",
       "      <td>POLYGON ((116.02707 -34.10156, 116.03156 -34.1...</td>\n",
       "    </tr>\n",
       "    <tr>\n",
       "      <th>4</th>\n",
       "      <td>POLYGON ((116.03088 -34.10156, 116.03537 -34.1...</td>\n",
       "    </tr>\n",
       "    <tr>\n",
       "      <th>...</th>\n",
       "      <td>...</td>\n",
       "    </tr>\n",
       "    <tr>\n",
       "      <th>9311</th>\n",
       "      <td>POLYGON ((116.52679 -34.45251, 116.53128 -34.4...</td>\n",
       "    </tr>\n",
       "    <tr>\n",
       "      <th>9312</th>\n",
       "      <td>POLYGON ((116.53061 -34.45251, 116.53510 -34.4...</td>\n",
       "    </tr>\n",
       "    <tr>\n",
       "      <th>9313</th>\n",
       "      <td>POLYGON ((116.53442 -34.45251, 116.53891 -34.4...</td>\n",
       "    </tr>\n",
       "    <tr>\n",
       "      <th>9314</th>\n",
       "      <td>POLYGON ((116.53824 -34.45251, 116.54273 -34.4...</td>\n",
       "    </tr>\n",
       "    <tr>\n",
       "      <th>9315</th>\n",
       "      <td>POLYGON ((116.54205 -34.45251, 116.54654 -34.4...</td>\n",
       "    </tr>\n",
       "  </tbody>\n",
       "</table>\n",
       "<p>9316 rows × 1 columns</p>\n",
       "</div>"
      ],
      "text/plain": [
       "                                               geometry\n",
       "0     POLYGON ((116.01562 -34.10156, 116.02011 -34.1...\n",
       "1     POLYGON ((116.01944 -34.10156, 116.02393 -34.1...\n",
       "2     POLYGON ((116.02325 -34.10156, 116.02774 -34.1...\n",
       "3     POLYGON ((116.02707 -34.10156, 116.03156 -34.1...\n",
       "4     POLYGON ((116.03088 -34.10156, 116.03537 -34.1...\n",
       "...                                                 ...\n",
       "9311  POLYGON ((116.52679 -34.45251, 116.53128 -34.4...\n",
       "9312  POLYGON ((116.53061 -34.45251, 116.53510 -34.4...\n",
       "9313  POLYGON ((116.53442 -34.45251, 116.53891 -34.4...\n",
       "9314  POLYGON ((116.53824 -34.45251, 116.54273 -34.4...\n",
       "9315  POLYGON ((116.54205 -34.45251, 116.54654 -34.4...\n",
       "\n",
       "[9316 rows x 1 columns]"
      ]
     },
     "execution_count": 78,
     "metadata": {},
     "output_type": "execute_result"
    }
   ],
   "source": [
    "polygon_tiles_gpd"
   ]
  },
  {
   "cell_type": "code",
   "execution_count": 79,
   "id": "f3528cd7",
   "metadata": {},
   "outputs": [],
   "source": [
    "if not wos:\n",
    "    polygon_tiles_gpd.to_file(\"/media/nick/2TB Working 2/Projects/GeoTIFF_tiler_data/output.gpkg\", driver=\"GPKG\")\n",
    "else:\n",
    "    polygon_tiles_gpd.to_file(r'{}'.format(os.getcwd())+r'\\\\test_imagery\\\\VIVID_Landgate_20190910_112102323\\\\output.gpkg', driver=\"GPKG\")    \n",
    "\n"
   ]
  },
  {
   "cell_type": "code",
   "execution_count": 80,
   "id": "28fceed7",
   "metadata": {},
   "outputs": [
    {
     "name": "stdout",
     "output_type": "stream",
     "text": [
      "CPU times: user 21.6 ms, sys: 154 µs, total: 21.7 ms\n",
      "Wall time: 21.1 ms\n"
     ]
    }
   ],
   "source": [
    "%%time\n",
    "geo_tiff_with_tiles = []\n",
    "# make a list of which tiles are within which geotiffs\n",
    "for geo_tiff in geo_tiff_list:\n",
    "    tiles_inside_geo_tiff = []\n",
    "    for tile in tile_polygon_list:\n",
    "        if geo_tiff in tile['intersect']:\n",
    "            tiles_inside_geo_tiff.append(tile['geometry'])\n",
    "    geo_tiff_with_tiles.append([geo_tiff,tiles_inside_geo_tiff])   "
   ]
  },
  {
   "cell_type": "code",
   "execution_count": 101,
   "id": "17140803",
   "metadata": {},
   "outputs": [],
   "source": [
    "for geotiff in geo_tiff_with_tiles:\n",
    "    geotiff_open = gdal.Open(geotiff[0])\n",
    "    for tile in geotiff[1]:\n",
    "        top = list(tile.bounds)[3]\n",
    "        bottom = list(tile.bounds)[1]\n",
    "        left = list(tile.bounds)[0]\n",
    "        right =list(tile.bounds)[2]\n",
    "        \n",
    "        save_path = os.path.join(output_folder,'some_name.tif')\n",
    "        tile_clip = gdal.Translate(save_path, geotiff_open, projWin = [left,top,right,bottom])\n",
    "        tile_clip = None\n",
    "        break\n",
    "    break\n",
    "    "
   ]
  },
  {
   "cell_type": "code",
   "execution_count": null,
   "id": "f3922225",
   "metadata": {},
   "outputs": [],
   "source": []
  },
  {
   "cell_type": "code",
   "execution_count": null,
   "id": "91315773",
   "metadata": {},
   "outputs": [],
   "source": []
  },
  {
   "cell_type": "code",
   "execution_count": null,
   "id": "3845413a",
   "metadata": {},
   "outputs": [],
   "source": []
  },
  {
   "cell_type": "code",
   "execution_count": null,
   "id": "6ca401b9",
   "metadata": {},
   "outputs": [],
   "source": []
  },
  {
   "cell_type": "code",
   "execution_count": null,
   "id": "ac2af147",
   "metadata": {},
   "outputs": [],
   "source": []
  }
 ],
 "metadata": {
  "kernelspec": {
   "display_name": "Python 3",
   "language": "python",
   "name": "python3"
  },
  "language_info": {
   "codemirror_mode": {
    "name": "ipython",
    "version": 3
   },
   "file_extension": ".py",
   "mimetype": "text/x-python",
   "name": "python",
   "nbconvert_exporter": "python",
   "pygments_lexer": "ipython3",
   "version": "3.7.10"
  }
 },
 "nbformat": 4,
 "nbformat_minor": 5
}
