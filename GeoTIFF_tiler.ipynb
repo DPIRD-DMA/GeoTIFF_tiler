{
 "cells": [
  {
   "cell_type": "code",
   "execution_count": 1,
   "id": "4942492d",
   "metadata": {},
   "outputs": [
    {
     "name": "stderr",
     "output_type": "stream",
     "text": [
      "/home/nick/anaconda3/envs/fastai/lib/python3.7/site-packages/ipykernel_launcher.py:14: TqdmExperimentalWarning: Using `tqdm.autonotebook.tqdm` in notebook mode. Use `tqdm.tqdm` instead to force console mode (e.g. in jupyter console)\n",
      "  \n"
     ]
    }
   ],
   "source": [
    "import os\n",
    "import geopandas as gpd\n",
    "import sys\n",
    "wos = 'win' in sys.platform\n",
    "if wos:\n",
    "    from osgeo import gdal\n",
    "    from multiprocess import Pool\n",
    "    from funcs import get_bounds\n",
    "else:\n",
    "    import gdal\n",
    "    from multiprocessing import Pool\n",
    "import numpy as np\n",
    "import numba\n",
    "from tqdm.autonotebook import tqdm\n",
    "import math\n",
    "from shapely import geometry"
   ]
  },
  {
   "cell_type": "code",
   "execution_count": 2,
   "id": "8add9578",
   "metadata": {},
   "outputs": [
    {
     "data": {
      "text/plain": [
       "'0.9.0'"
      ]
     },
     "execution_count": 2,
     "metadata": {},
     "output_type": "execute_result"
    }
   ],
   "source": [
    "import pkg_resources\n",
    "pkg_resources.get_distribution('geopandas').version"
   ]
  },
  {
   "cell_type": "code",
   "execution_count": 17,
   "id": "aadae892",
   "metadata": {},
   "outputs": [],
   "source": [
    "tile_size_px = [1000,1000] #x,y\n",
    "tile_oxerlap_px = 150\n",
    "output_downsample = 0.5\n",
    "output_folder = r''\n",
    "geotiff_folder = r'/media/nick/2TB Working 2/Projects/GeoTIFF_tiler_data/VIVID_Landgate_20190910_112102323' if not wos else r'{}'.format(os.getcwd())+r'\\\\test_imagery\\\\VIVID_Landgate_20190910_112102323'\n",
    "input_file_ext = '.tif'"
   ]
  },
  {
   "cell_type": "code",
   "execution_count": 18,
   "id": "4bf4c6e0",
   "metadata": {},
   "outputs": [
    {
     "name": "stdout",
     "output_type": "stream",
     "text": [
      "CPU times: user 1.27 ms, sys: 257 µs, total: 1.53 ms\n",
      "Wall time: 888 µs\n"
     ]
    },
    {
     "data": {
      "text/plain": [
       "17"
      ]
     },
     "execution_count": 18,
     "metadata": {},
     "output_type": "execute_result"
    }
   ],
   "source": [
    "%%time\n",
    "# search folder and all sub folders for '.tif' files\n",
    "geo_tiff_list = []\n",
    "for root, dirs, files in os.walk(geotiff_folder):\n",
    "    for file in files:\n",
    "        if file.endswith(input_file_ext):\n",
    "            geo_tiff_list.append(os.path.join(root, file))\n",
    "            \n",
    "len(geo_tiff_list) "
   ]
  },
  {
   "cell_type": "code",
   "execution_count": 19,
   "id": "7bc44a06",
   "metadata": {},
   "outputs": [],
   "source": [
    "if not wos:\n",
    "    def get_bounds(tif_path):\n",
    "    #     open file\n",
    "        data = gdal.Open(tif_path)\n",
    "    #     grab bounds\n",
    "        geoTransform = data.GetGeoTransform()\n",
    "        left = geoTransform[0]\n",
    "        top = geoTransform[3]\n",
    "        right = left + geoTransform[1] * data.RasterXSize\n",
    "        bottom = top + geoTransform[5] * data.RasterYSize\n",
    "        return[top, left, bottom, right]"
   ]
  },
  {
   "cell_type": "code",
   "execution_count": 20,
   "id": "d87dc6ff",
   "metadata": {},
   "outputs": [
    {
     "data": {
      "text/plain": [
       "[-34.27734375, 116.455078125, -34.365234375, 116.54296875]"
      ]
     },
     "execution_count": 20,
     "metadata": {},
     "output_type": "execute_result"
    }
   ],
   "source": [
    "geo_tiff_bounds =get_bounds(geo_tiff_list[0])\n",
    "geo_tiff_bounds"
   ]
  },
  {
   "cell_type": "code",
   "execution_count": 21,
   "id": "413182c6",
   "metadata": {},
   "outputs": [
    {
     "data": {
      "application/vnd.jupyter.widget-view+json": {
       "model_id": "c6d7571a4a4c45ff890a2702c07f6713",
       "version_major": 2,
       "version_minor": 0
      },
      "text/plain": [
       "  0%|          | 0/3 [00:00<?, ?it/s]"
      ]
     },
     "metadata": {},
     "output_type": "display_data"
    }
   ],
   "source": [
    "pool = Pool(3)\n",
    "with pool:\n",
    "    list(tqdm(pool.imap(get_bounds,geo_tiff_list[:3]), total=3))"
   ]
  },
  {
   "cell_type": "code",
   "execution_count": 22,
   "id": "80bd9a11",
   "metadata": {},
   "outputs": [
    {
     "data": {
      "application/vnd.jupyter.widget-view+json": {
       "model_id": "e2bc84dcfb6b45a786cd87317d55e69c",
       "version_major": 2,
       "version_minor": 0
      },
      "text/plain": [
       "  0%|          | 0/17 [00:00<?, ?it/s]"
      ]
     },
     "metadata": {},
     "output_type": "display_data"
    },
    {
     "name": "stdout",
     "output_type": "stream",
     "text": [
      "CPU times: user 22.1 ms, sys: 51.8 ms, total: 73.9 ms\n",
      "Wall time: 167 ms\n"
     ]
    }
   ],
   "source": [
    "%%time\n",
    "# use multiprocessing to extract raster bounds\n",
    "# interesting when using a small number of geotiffs its is slightly quicker to just run this as a loop\n",
    "# however once you get over a 100 or so this method is much quicker\n",
    "with Pool() as pool:\n",
    "    geo_tiff_bounds = list(tqdm(pool.imap(get_bounds, geo_tiff_list), total=len(geo_tiff_list)))\n",
    "# convert list to np array\n",
    "geo_tiff_bounds = np.array(geo_tiff_bounds)\n",
    "# grab max extents\n",
    "bound_y_max = float(geo_tiff_bounds[:,0].max()) #top\n",
    "bound_x_min = float(geo_tiff_bounds[:,1].min()) #left\n",
    "bound_y_min = float(geo_tiff_bounds[:,2].min()) #bottom\n",
    "bound_x_max = float(geo_tiff_bounds[:,3].max()) #right"
   ]
  },
  {
   "cell_type": "code",
   "execution_count": 23,
   "id": "cd0c8a73",
   "metadata": {},
   "outputs": [
    {
     "name": "stdout",
     "output_type": "stream",
     "text": [
      "4.487879136029412e-06 -4.487879136029412e-06\n"
     ]
    }
   ],
   "source": [
    "# open one image to get the pixel size\n",
    "test_raster = gdal.Open(geo_tiff_list[0])\n",
    "test_raster_gt =test_raster.GetGeoTransform()\n",
    "pixel_size_x = test_raster_gt[1]\n",
    "pixel_size_y = test_raster_gt[5]\n",
    "print(pixel_size_x,pixel_size_y)"
   ]
  },
  {
   "cell_type": "code",
   "execution_count": 24,
   "id": "66bc3a57",
   "metadata": {},
   "outputs": [
    {
     "name": "stdout",
     "output_type": "stream",
     "text": [
      "0.003814697265625 -0.003814697265625\n"
     ]
    }
   ],
   "source": [
    "x_move = pixel_size_x*(tile_size_px[0]-tile_oxerlap_px)\n",
    "y_move = pixel_size_y*(tile_size_px[1]-tile_oxerlap_px)\n",
    "\n",
    "x_tile_size = pixel_size_x*tile_size_px[0]\n",
    "y_tile_size = pixel_size_y*tile_size_px[1]\n",
    "print(x_move,y_move)"
   ]
  },
  {
   "cell_type": "code",
   "execution_count": 25,
   "id": "528cb52c",
   "metadata": {},
   "outputs": [
    {
     "data": {
      "text/plain": [
       "139"
      ]
     },
     "execution_count": 25,
     "metadata": {},
     "output_type": "execute_result"
    }
   ],
   "source": [
    "number_of_cols = math.ceil(abs((bound_x_max-bound_x_min)/x_move))\n",
    "number_of_cols"
   ]
  },
  {
   "cell_type": "code",
   "execution_count": 26,
   "id": "7aae9221",
   "metadata": {},
   "outputs": [
    {
     "data": {
      "text/plain": [
       "93"
      ]
     },
     "execution_count": 26,
     "metadata": {},
     "output_type": "execute_result"
    }
   ],
   "source": [
    "number_of_rows = math.ceil(abs((bound_y_max-bound_y_min)/y_move))\n",
    "number_of_rows"
   ]
  },
  {
   "cell_type": "code",
   "execution_count": 27,
   "id": "f7ced886",
   "metadata": {},
   "outputs": [
    {
     "name": "stdout",
     "output_type": "stream",
     "text": [
      "True\n"
     ]
    }
   ],
   "source": [
    "# !conda install -c conda-forge pygeos\n",
    "gpd.options.use_pygeos = True\n",
    "print(gpd.options.use_pygeos)"
   ]
  },
  {
   "cell_type": "code",
   "execution_count": 28,
   "id": "f0c42228",
   "metadata": {},
   "outputs": [],
   "source": [
    "def is_tile_in_bounds(tile_dict,geo_tiff_bounds):\n",
    "#     print(tile_dict)\n",
    "    for geo_bounds in geo_tiff_bounds:\n",
    "#         check is tile top is inside tif\n",
    "        if (geo_bounds[0] > tile_dict['top'] > geo_bounds[2] or \n",
    "            geo_bounds[0] > tile_dict['bottom'] > geo_bounds[2]):\n",
    "#             print('some')\n",
    "            if geo_bounds[3] > tile_dict['left'] > geo_bounds[1]:\n",
    "#                 print('yes')\n",
    "                return True\n",
    "#                 break\n",
    "            if geo_bounds[3] > tile_dict['right'] > geo_bounds[1]:\n",
    "#                 print('yes')\n",
    "                return True\n",
    "#                 break\n",
    "    return False\n",
    "            "
   ]
  },
  {
   "cell_type": "code",
   "execution_count": 29,
   "id": "d72393b9",
   "metadata": {},
   "outputs": [],
   "source": [
    "# probs worth trying to speed this up with PyGEOS\n",
    "# tile_coord_list = []\n",
    "def make_polygons(row):\n",
    "    tile_polygon_list = []\n",
    "#     for row in range(0,number_of_rows):\n",
    "    tile_top = bound_y_max + y_move*row\n",
    "    tile_bottom = tile_top + y_tile_size\n",
    "\n",
    "    tile_left = bound_x_min\n",
    "\n",
    "    for col in range(0,number_of_cols):\n",
    "        tile_left = bound_x_min + col*x_move\n",
    "        tile_right = tile_left + x_tile_size\n",
    "        tile_dict = {'top':tile_top,'left':tile_left,'bottom':tile_bottom,'right':tile_right}\n",
    "        \n",
    "        if is_tile_in_bounds(tile_dict,geo_tiff_bounds):\n",
    "        \n",
    "            polygon = {'geometry':geometry.Polygon([[tile_left, tile_top], [tile_right, tile_top], [tile_right, tile_bottom], [tile_left, tile_bottom]])}\n",
    "            tile_polygon_list.append(polygon)\n",
    "    return tile_polygon_list\n"
   ]
  },
  {
   "cell_type": "code",
   "execution_count": 37,
   "id": "e9316394",
   "metadata": {},
   "outputs": [
    {
     "name": "stdout",
     "output_type": "stream",
     "text": [
      "CPU times: user 77.8 ms, sys: 32.8 ms, total: 111 ms\n",
      "Wall time: 159 ms\n"
     ]
    }
   ],
   "source": [
    "%%time\n",
    "# multiprocess making polygons\n",
    "with Pool() as pool:\n",
    "    tile_polygon_list = pool.map(make_polygons, range(0,number_of_rows))\n",
    "\n",
    "# this is returned as a list of list so it must be flattened\n",
    "\n",
    "tile_polygon_list = list(np.concatenate(tile_polygon_list).ravel())"
   ]
  },
  {
   "cell_type": "code",
   "execution_count": 39,
   "id": "113cf237",
   "metadata": {},
   "outputs": [
    {
     "name": "stdout",
     "output_type": "stream",
     "text": [
      "CPU times: user 20.5 ms, sys: 4.09 ms, total: 24.6 ms\n",
      "Wall time: 23.3 ms\n"
     ]
    }
   ],
   "source": [
    "%%time\n",
    "#  convert into geodataframe\n",
    "polygon_tiles_gpd = gpd.GeoDataFrame(tile_polygon_list,geometry='geometry',crs='EPSG:4326')"
   ]
  },
  {
   "cell_type": "code",
   "execution_count": 41,
   "id": "5944240a",
   "metadata": {},
   "outputs": [],
   "source": [
    "if not wos:\n",
    "    polygon_tiles_gpd.to_file(\"/media/nick/2TB Working 2/Projects/GeoTIFF_tiler_data/output.gpkg\", driver=\"GPKG\")\n",
    "else:\n",
    "    polygon_tiles_gpd.to_file(r'{}'.format(os.getcwd())+r'\\\\test_imagery\\\\VIVID_Landgate_20190910_112102323\\\\output.gpkg', driver=\"GPKG\")    \n",
    "\n"
   ]
  },
  {
   "cell_type": "code",
   "execution_count": null,
   "id": "2b8c26b7",
   "metadata": {},
   "outputs": [],
   "source": []
  },
  {
   "cell_type": "code",
   "execution_count": null,
   "id": "86b50c8b",
   "metadata": {},
   "outputs": [],
   "source": []
  },
  {
   "cell_type": "code",
   "execution_count": null,
   "id": "bd8987f9",
   "metadata": {},
   "outputs": [],
   "source": []
  },
  {
   "cell_type": "code",
   "execution_count": null,
   "id": "2f89c974",
   "metadata": {},
   "outputs": [],
   "source": []
  },
  {
   "cell_type": "code",
   "execution_count": null,
   "id": "9145b2b0",
   "metadata": {},
   "outputs": [],
   "source": []
  },
  {
   "cell_type": "code",
   "execution_count": null,
   "id": "ad32ff52",
   "metadata": {},
   "outputs": [],
   "source": []
  },
  {
   "cell_type": "code",
   "execution_count": null,
   "id": "a838d95f",
   "metadata": {},
   "outputs": [],
   "source": []
  },
  {
   "cell_type": "code",
   "execution_count": null,
   "id": "ed8c4f04",
   "metadata": {},
   "outputs": [],
   "source": []
  }
 ],
 "metadata": {
  "kernelspec": {
   "display_name": "Python 3",
   "language": "python",
   "name": "python3"
  },
  "language_info": {
   "codemirror_mode": {
    "name": "ipython",
    "version": 3
   },
   "file_extension": ".py",
   "mimetype": "text/x-python",
   "name": "python",
   "nbconvert_exporter": "python",
   "pygments_lexer": "ipython3",
   "version": "3.7.10"
  }
 },
 "nbformat": 4,
 "nbformat_minor": 5
}
