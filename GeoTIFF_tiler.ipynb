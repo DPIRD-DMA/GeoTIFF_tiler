{
 "cells": [
  {
   "cell_type": "code",
   "execution_count": 1,
   "id": "c7a000b9",
   "metadata": {},
   "outputs": [],
   "source": [
    "import os\n",
    "import geopandas as gpd\n",
    "import gdal\n",
    "import numpy as np\n",
    "import numba\n",
    "import glob"
   ]
  },
  {
   "cell_type": "code",
   "execution_count": 2,
   "id": "26e86519",
   "metadata": {},
   "outputs": [
    {
     "name": "stdout",
     "output_type": "stream",
     "text": [
      "17 files\n",
      "CPU times: user 463 µs, sys: 56 µs, total: 519 µs\n",
      "Wall time: 341 µs\n"
     ]
    }
   ],
   "source": [
    "%%time\n",
    "geotiff_folder = r'/media/nick/2TB Working 2/Projects/GeoTIFF_tiler_data/VIVID_Landgate_20190910_112102323'\n",
    "geo_tiff_list = glob.glob(geotiff_folder+'/*.tif')\n",
    "print(len(geo_tiff_list),'files')"
   ]
  },
  {
   "cell_type": "code",
   "execution_count": 5,
   "id": "299a43ed",
   "metadata": {},
   "outputs": [],
   "source": [
    "def get_bounds(tif_path):\n",
    "    data = gdal.Open(tif_path)\n",
    "    geoTransform = data.GetGeoTransform()\n",
    "    left = geoTransform[0]\n",
    "    top = geoTransform[3]\n",
    "    right = left + geoTransform[1] * data.RasterXSize\n",
    "    bottom = top + geoTransform[5] * data.RasterYSize\n",
    "    return[top, left, bottom, right]"
   ]
  },
  {
   "cell_type": "code",
   "execution_count": 6,
   "id": "6e79e402",
   "metadata": {},
   "outputs": [
    {
     "name": "stdout",
     "output_type": "stream",
     "text": [
      "CPU times: user 2.49 ms, sys: 330 µs, total: 2.82 ms\n",
      "Wall time: 2.24 ms\n"
     ]
    }
   ],
   "source": [
    "%%time\n",
    "geo_tiff_bounds = []\n",
    "for tif in geo_tiff_list:\n",
    "    geo_tiff_bounds.append(get_bounds(tif))\n",
    "geo_tiff_bounds = np.array(geo_tiff_bounds)\n",
    "\n",
    "top_max = geo_tiff_bounds[:,0].max()\n",
    "left_max = geo_tiff_bounds[:,1].min()\n",
    "bottom_max = geo_tiff_bounds[:,2].min()\n",
    "right_max = geo_tiff_bounds[:,3].max()"
   ]
  },
  {
   "cell_type": "code",
   "execution_count": null,
   "id": "8f4ac44d",
   "metadata": {},
   "outputs": [],
   "source": []
  }
 ],
 "metadata": {
  "kernelspec": {
   "display_name": "Python 3",
   "language": "python",
   "name": "python3"
  },
  "language_info": {
   "codemirror_mode": {
    "name": "ipython",
    "version": 3
   },
   "file_extension": ".py",
   "mimetype": "text/x-python",
   "name": "python",
   "nbconvert_exporter": "python",
   "pygments_lexer": "ipython3",
   "version": "3.7.10"
  }
 },
 "nbformat": 4,
 "nbformat_minor": 5
}
