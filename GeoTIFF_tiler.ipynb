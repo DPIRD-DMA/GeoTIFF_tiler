{
 "cells": [
  {
   "cell_type": "code",
   "execution_count": 16,
   "id": "38ca6387",
   "metadata": {},
   "outputs": [],
   "source": [
    "import os\n",
    "import geopandas as gpd\n",
    "import sys\n",
    "wos = 'win' in sys.platform\n",
    "if wos:\n",
    "    from osgeo import gdal\n",
    "    from multiprocess import Pool\n",
    "    from funcs import get_bounds\n",
    "else:\n",
    "    import gdal\n",
    "    from multiprocessing import Pool\n",
    "import numpy as np\n",
    "import numba\n",
    "# import glob\n",
    "from tqdm.autonotebook import tqdm\n",
    "import math\n",
    "from shapely import geometry\n",
    "  "
   ]
  },
  {
   "cell_type": "code",
   "execution_count": null,
   "id": "0f93ed88",
   "metadata": {},
   "outputs": [],
   "source": []
  },
  {
   "cell_type": "code",
   "execution_count": 2,
   "id": "40861013",
   "metadata": {},
   "outputs": [],
   "source": [
    "tile_size_px = [1000,1000] #x,y\n",
    "tile_oxerlap_px = 150\n",
    "output_downsample = 0.5\n",
    "output_folder = r''\n",
    "geotiff_folder = r'/media/nick/2TB Working 2/Projects/GeoTIFF_tiler_data/VIVID_Landgate_20190910_112102323 (copy)' if not wos else r'{}'.format(os.getcwd())+r'\\\\test_imagery\\\\VIVID_Landgate_20190910_112102323'\n",
    "input_file_ext = '.tif'"
   ]
  },
  {
   "cell_type": "code",
   "execution_count": 3,
   "id": "a6f72508",
   "metadata": {},
   "outputs": [
    {
     "output_type": "stream",
     "name": "stdout",
     "text": [
      "Wall time: 1 ms\n"
     ]
    },
    {
     "output_type": "execute_result",
     "data": {
      "text/plain": [
       "17"
      ]
     },
     "metadata": {},
     "execution_count": 3
    }
   ],
   "source": [
    "%%time\n",
    "# search folder and all sub folders for '.tif' files\n",
    "geo_tiff_list = []\n",
    "for root, dirs, files in os.walk(geotiff_folder):\n",
    "    for file in files:\n",
    "        if file.endswith(input_file_ext):\n",
    "            geo_tiff_list.append(os.path.join(root, file))\n",
    "            \n",
    "len(geo_tiff_list) "
   ]
  },
  {
   "cell_type": "code",
   "execution_count": 4,
   "id": "2026838d",
   "metadata": {},
   "outputs": [],
   "source": [
    "if not wos:\n",
    "    def get_bounds(tif_path):\n",
    "    #     open file\n",
    "        data = gdal.Open(tif_path)\n",
    "    #     grab bounds\n",
    "        geoTransform = data.GetGeoTransform()\n",
    "        left = geoTransform[0]\n",
    "        top = geoTransform[3]\n",
    "        right = left + geoTransform[1] * data.RasterXSize\n",
    "        bottom = top + geoTransform[5] * data.RasterYSize\n",
    "        return[top, left, bottom, right]"
   ]
  },
  {
   "cell_type": "code",
   "execution_count": 5,
   "id": "600f3ea5",
   "metadata": {},
   "outputs": [
    {
     "output_type": "execute_result",
     "data": {
      "text/plain": [
       "[-34.27734375, 116.103515625, -34.365234375, 116.19140625]"
      ]
     },
     "metadata": {},
     "execution_count": 5
    }
   ],
   "source": [
    "geo_tiff_bounds =get_bounds(geo_tiff_list[0])\n",
    "geo_tiff_bounds"
   ]
  },
  {
   "cell_type": "code",
   "execution_count": 6,
   "id": "8a397cea",
   "metadata": {},
   "outputs": [
    {
     "output_type": "stream",
     "name": "stderr",
     "text": [
      "100%|██████████| 3/3 [00:00<00:00, 10.53it/s]\n"
     ]
    }
   ],
   "source": [
    "pool = Pool(3)\n",
    "with pool:\n",
    "    list(tqdm(pool.imap(get_bounds,geo_tiff_list[:3]), total=3))"
   ]
  },
  {
   "cell_type": "code",
   "execution_count": 7,
   "id": "57b5ca83",
   "metadata": {},
   "outputs": [
    {
     "output_type": "stream",
     "name": "stderr",
     "text": [
      "100%|██████████| 17/17 [00:00<00:00, 33.53it/s]Wall time: 813 ms\n",
      "\n"
     ]
    }
   ],
   "source": [
    "%%time\n",
    "# use multiprocessing to extract raster bounds\n",
    "# interesting when using a small number of geotiffs its is slightly quicker to just run this as a loop\n",
    "# however once you get over a 100 or so this method is much quicker\n",
    "with Pool() as pool:\n",
    "    geo_tiff_bounds = list(tqdm(pool.imap(get_bounds, geo_tiff_list), total=len(geo_tiff_list)))\n",
    "# convert list to np array\n",
    "geo_tiff_bounds = np.array(geo_tiff_bounds)\n",
    "# grab max extents\n",
    "bound_y_max = float(geo_tiff_bounds[:,0].max()) #top\n",
    "bound_x_min = float(geo_tiff_bounds[:,1].min()) #left\n",
    "bound_y_min = float(geo_tiff_bounds[:,2].min()) #bottom\n",
    "bound_x_max = float(geo_tiff_bounds[:,3].max()) #right"
   ]
  },
  {
   "cell_type": "code",
   "execution_count": 8,
   "id": "beb30fc8",
   "metadata": {},
   "outputs": [
    {
     "output_type": "stream",
     "name": "stdout",
     "text": [
      "4.487879136029412e-06 -4.487879136029412e-06\n"
     ]
    }
   ],
   "source": [
    "# open one image to get the pixel size\n",
    "test_raster = gdal.Open(geo_tiff_list[0])\n",
    "test_raster_gt =test_raster.GetGeoTransform()\n",
    "pixel_size_x = test_raster_gt[1]\n",
    "pixel_size_y = test_raster_gt[5]\n",
    "print(pixel_size_x,pixel_size_y)"
   ]
  },
  {
   "cell_type": "code",
   "execution_count": 9,
   "id": "5ad9df42",
   "metadata": {},
   "outputs": [
    {
     "output_type": "stream",
     "name": "stdout",
     "text": [
      "0.003814697265625 -0.003814697265625\n"
     ]
    }
   ],
   "source": [
    "x_move = pixel_size_x*(tile_size_px[0]-tile_oxerlap_px)\n",
    "y_move = pixel_size_y*(tile_size_px[1]-tile_oxerlap_px)\n",
    "\n",
    "x_tile_size = pixel_size_x*tile_size_px[0]\n",
    "y_tile_size = pixel_size_y*tile_size_px[1]\n",
    "print(x_move,y_move)"
   ]
  },
  {
   "cell_type": "code",
   "execution_count": 10,
   "id": "d75f43b2",
   "metadata": {},
   "outputs": [
    {
     "output_type": "execute_result",
     "data": {
      "text/plain": [
       "139"
      ]
     },
     "metadata": {},
     "execution_count": 10
    }
   ],
   "source": [
    "number_of_cols = math.ceil(abs((bound_x_max-bound_x_min)/x_move))\n",
    "number_of_cols"
   ]
  },
  {
   "cell_type": "code",
   "execution_count": 11,
   "id": "aa8491a5",
   "metadata": {},
   "outputs": [
    {
     "output_type": "execute_result",
     "data": {
      "text/plain": [
       "93"
      ]
     },
     "metadata": {},
     "execution_count": 11
    }
   ],
   "source": [
    "number_of_rows = math.ceil(abs((bound_y_max-bound_y_min)/y_move))\n",
    "number_of_rows"
   ]
  },
  {
   "cell_type": "code",
   "execution_count": 19,
   "metadata": {},
   "outputs": [
    {
     "output_type": "stream",
     "name": "stdout",
     "text": [
      "True\n"
     ]
    }
   ],
   "source": [
    "#!conda install -c conda-forge pygeos\n",
    "gpd.options.use_pygeos = True\n",
    "print(gpd.options.use_pygeos)"
   ]
  },
  {
   "cell_type": "code",
   "execution_count": 20,
   "id": "db91e4eb",
   "metadata": {},
   "outputs": [
    {
     "output_type": "stream",
     "name": "stderr",
     "text": [
      "100%|██████████| 93/93 [00:00<00:00, 1068.98it/s]Wall time: 89 ms\n",
      "\n"
     ]
    }
   ],
   "source": [
    "%%time\n",
    "# probs worth trying to speed this up with PyGEOS\n",
    "tile_coord_list = []\n",
    "\n",
    "tile_top = bound_y_max\n",
    "\n",
    "for row in tqdm(range(0,number_of_rows)):\n",
    "    tile_top = bound_y_max + y_move*row\n",
    "    tile_bottom = tile_top + y_tile_size\n",
    "    \n",
    "    tile_left = bound_x_min\n",
    "    \n",
    "    for col in range(0,number_of_cols):\n",
    "        tile_left = bound_x_min + col*x_move\n",
    "        tile_right = tile_left + x_tile_size        \n",
    "        polygon = {'geometry':geometry.Polygon([[tile_left, tile_top], [tile_right, tile_top], [tile_right, tile_bottom], [tile_left, tile_bottom]])}\n",
    "        tile_coord_list.append(polygon)\n",
    "\n"
   ]
  },
  {
   "cell_type": "code",
   "execution_count": 13,
   "id": "caf13f38",
   "metadata": {},
   "outputs": [],
   "source": [
    "polygon_tiles = gpd.GeoDataFrame(tile_coord_list,geometry='geometry',crs='EPSG:4326')"
   ]
  },
  {
   "cell_type": "code",
   "execution_count": 14,
   "id": "dea33617",
   "metadata": {},
   "outputs": [],
   "source": [
    "if not wos:\n",
    "    polygon_tiles.to_file(\"/media/nick/2TB Working 2/Projects/GeoTIFF_tiler_data/output.gpkg\", driver=\"GPKG\")\n",
    "else:\n",
    "    polygon_tiles.to_file(r'{}'.format(os.getcwd())+r'\\\\test_imagery\\\\VIVID_Landgate_20190910_112102323\\\\output.gpkg', driver=\"GPKG\")    \n",
    "\n"
   ]
  },
  {
   "cell_type": "code",
   "execution_count": null,
   "id": "9821a67d",
   "metadata": {},
   "outputs": [],
   "source": []
  },
  {
   "cell_type": "code",
   "execution_count": null,
   "id": "0da7282a",
   "metadata": {},
   "outputs": [],
   "source": []
  },
  {
   "cell_type": "code",
   "execution_count": null,
   "id": "a8a23e67",
   "metadata": {},
   "outputs": [],
   "source": []
  },
  {
   "cell_type": "code",
   "execution_count": null,
   "id": "99907b8a",
   "metadata": {},
   "outputs": [],
   "source": []
  },
  {
   "cell_type": "code",
   "execution_count": null,
   "id": "5c37d4d6",
   "metadata": {},
   "outputs": [],
   "source": []
  },
  {
   "cell_type": "code",
   "execution_count": null,
   "id": "b6926be4",
   "metadata": {},
   "outputs": [],
   "source": []
  },
  {
   "cell_type": "code",
   "execution_count": null,
   "id": "6f2ae25b",
   "metadata": {},
   "outputs": [],
   "source": []
  },
  {
   "cell_type": "code",
   "execution_count": null,
   "id": "b1b9b83e",
   "metadata": {},
   "outputs": [],
   "source": []
  }
 ],
 "metadata": {
  "kernelspec": {
   "name": "python392jvsc74a57bd0e716252397570bdb90e200276504cac1537501093cefd165a1ede3c5ad7d98fb",
   "display_name": "Python 3.9.2 64-bit ('gdal': conda)"
  },
  "language_info": {
   "codemirror_mode": {
    "name": "ipython",
    "version": 3
   },
   "file_extension": ".py",
   "mimetype": "text/x-python",
   "name": "python",
   "nbconvert_exporter": "python",
   "pygments_lexer": "ipython3",
   "version": "3.9.2"
  }
 },
 "nbformat": 4,
 "nbformat_minor": 5
}