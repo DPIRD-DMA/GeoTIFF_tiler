{
 "cells": [
  {
   "cell_type": "code",
   "execution_count": 13,
   "id": "3f3bd57b",
   "metadata": {},
   "outputs": [],
   "source": [
    "import os\n",
    "import geopandas as gpd\n",
    "import gdal\n",
    "import numpy\n",
    "import numba as np\n",
    "import glob"
   ]
  },
  {
   "cell_type": "code",
   "execution_count": 14,
   "id": "daf4f138",
   "metadata": {},
   "outputs": [
    {
     "name": "stdout",
     "output_type": "stream",
     "text": [
      "17 files\n",
      "CPU times: user 791 µs, sys: 77 µs, total: 868 µs\n",
      "Wall time: 511 µs\n"
     ]
    }
   ],
   "source": [
    "%%time\n",
    "geotiff_folder = r'/media/nick/2TB Working 2/Projects/GeoTIFF_tiler_data/VIVID_Landgate_20190910_112102323'\n",
    "geo_tiff_list = glob.glob(geotiff_folder+'/*.tif')\n",
    "print(len(geo_tiff_list),'files')"
   ]
  },
  {
   "cell_type": "code",
   "execution_count": 23,
   "id": "13d3bdc0",
   "metadata": {},
   "outputs": [],
   "source": [
    "def get_bounds(tif_path):\n",
    "    data = gdal.Open(tif_path)\n",
    "    geoTransform = data.GetGeoTransform()\n",
    "    minx = geoTransform[0]\n",
    "    maxy = geoTransform[3]\n",
    "    maxx = minx + geoTransform[1] * data.RasterXSize\n",
    "    miny = maxy + geoTransform[5] * data.RasterYSize\n",
    "    return[minx, miny, maxx, maxy]\n"
   ]
  },
  {
   "cell_type": "code",
   "execution_count": 24,
   "id": "51c30a78",
   "metadata": {},
   "outputs": [],
   "source": [
    "geo_tiff_bounds = []\n",
    "for tif in geo_tiff_list:\n",
    "    geo_tiff_bounds.append(get_bounds(tif))"
   ]
  },
  {
   "cell_type": "code",
   "execution_count": 25,
   "id": "9bc7eb78",
   "metadata": {},
   "outputs": [
    {
     "data": {
      "text/plain": [
       "[[116.455078125, -34.365234375, 116.54296875, -34.27734375],\n",
       " [116.103515625, -34.189453125, 116.19140625, -34.1015625],\n",
       " [116.19140625, -34.27734375, 116.279296875, -34.189453125],\n",
       " [116.3671875, -34.365234375, 116.455078125, -34.27734375],\n",
       " [116.279296875, -34.27734375, 116.3671875, -34.189453125],\n",
       " [116.279296875, -34.453125, 116.3671875, -34.365234375],\n",
       " [116.279296875, -34.365234375, 116.3671875, -34.27734375],\n",
       " [116.015625, -34.189453125, 116.103515625, -34.1015625],\n",
       " [116.3671875, -34.453125, 116.455078125, -34.365234375],\n",
       " [116.103515625, -34.27734375, 116.19140625, -34.189453125],\n",
       " [116.19140625, -34.189453125, 116.279296875, -34.1015625],\n",
       " [116.19140625, -34.453125, 116.279296875, -34.365234375],\n",
       " [116.015625, -34.27734375, 116.103515625, -34.189453125],\n",
       " [116.455078125, -34.453125, 116.54296875, -34.365234375],\n",
       " [116.279296875, -34.189453125, 116.3671875, -34.1015625],\n",
       " [116.19140625, -34.365234375, 116.279296875, -34.27734375],\n",
       " [116.103515625, -34.365234375, 116.19140625, -34.27734375]]"
      ]
     },
     "execution_count": 25,
     "metadata": {},
     "output_type": "execute_result"
    }
   ],
   "source": [
    "geo_tiff_bounds"
   ]
  },
  {
   "cell_type": "code",
   "execution_count": null,
   "id": "edc9ba73",
   "metadata": {},
   "outputs": [],
   "source": []
  }
 ],
 "metadata": {
  "kernelspec": {
   "display_name": "Python 3",
   "language": "python",
   "name": "python3"
  },
  "language_info": {
   "codemirror_mode": {
    "name": "ipython",
    "version": 3
   },
   "file_extension": ".py",
   "mimetype": "text/x-python",
   "name": "python",
   "nbconvert_exporter": "python",
   "pygments_lexer": "ipython3",
   "version": "3.7.10"
  }
 },
 "nbformat": 4,
 "nbformat_minor": 5
}
