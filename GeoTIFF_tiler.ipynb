{
 "cells": [
  {
   "cell_type": "code",
   "execution_count": null,
   "id": "3aabf57a",
   "metadata": {},
   "outputs": [],
   "source": [
    "import os\n",
    "import geopandas as gpd\n",
    "import sys\n",
    "wos = 'win' in sys.platform\n",
    "if wos:\n",
    "    from osgeo import gdal\n",
    "    from multiprocess import Pool\n",
    "    from funcs import get_bounds\n",
    "else:\n",
    "#     import gdal\n",
    "    from osgeo import gdal\n",
    "    from multiprocessing import Pool\n",
    "import numpy as np\n",
    "from numba import jit\n",
    "from tqdm.auto import tqdm\n",
    "import math\n",
    "from shapely import geometry\n",
    "from pathlib import Path\n",
    "import getpass\n",
    "import cProfile, pstats\n",
    "%load_ext snakeviz"
   ]
  },
  {
   "cell_type": "code",
   "execution_count": null,
   "id": "a79e9cac",
   "metadata": {},
   "outputs": [],
   "source": [
    "tile_size_px = [1000,1000] #x,y\n",
    "tile_oxerlap_px = 150\n",
    "output_downsample = 0.5\n",
    "if wos:\n",
    "    r'{}'.format(os.getcwd())+r'\\\\test_imagery\\\\VIVID_Landgate_20190910_112102323'\n",
    "else:\n",
    "    user = getpass.getuser()\n",
    "    paths = {'nick':{'output':  r'/media/nick/2TB Working 2/Projects/GeoTIFF_tiler_data/tiles',\n",
    "                     'geotiff': r'/media/nick/2TB Working 2/Projects/GeoTIFF_tiler_data/VIVID_Landgate_20190910_112102323',\n",
    "                     'data':r'/home/carlos/Pictures/vivid/GeoTIFF_tiler_data'},\n",
    "             'carlos':{'output':r'/home/carlos/Pictures/vivid/GeoTIFF_tiler_data/VIVID_Landgate_20190910_112102323_output',\n",
    "                      'geotiff':r'/home/carlos/Pictures/vivid/GeoTIFF_tiler_data/VIVID_Landgate_20190910_112102323',\n",
    "                      'data':r'/home/carlos/Pictures/vivid/GeoTIFF_tiler_data'}\n",
    "            }\n",
    "    \n",
    "    output_folder = paths[user]['output']\n",
    "    geotiff_folder = paths[user]['geotiff']\n",
    "    \n",
    "input_file_ext = '.tif'\n",
    "output_compression = 'JPEG'"
   ]
  },
  {
   "cell_type": "code",
   "execution_count": null,
   "id": "b1edd7de",
   "metadata": {},
   "outputs": [],
   "source": [
    "# !conda install -c conda-forge pygeos\n",
    "gpd.options.use_pygeos = True\n",
    "print(gpd.options.use_pygeos)"
   ]
  },
  {
   "cell_type": "code",
   "execution_count": null,
   "id": "ba747de6",
   "metadata": {},
   "outputs": [],
   "source": [
    "%%time\n",
    "# search folder and all sub folders for 'input_file_ext' files\n",
    "geo_tiff_list = []\n",
    "for root, dirs, files in os.walk(geotiff_folder):\n",
    "    for file in files:\n",
    "        if file.endswith(input_file_ext):\n",
    "            geo_tiff_list.append(os.path.join(root, file))\n",
    "            \n",
    "len(geo_tiff_list) "
   ]
  },
  {
   "cell_type": "code",
   "execution_count": null,
   "id": "1f9f0746",
   "metadata": {},
   "outputs": [],
   "source": [
    "if not wos:\n",
    "    def get_bounds(tif_path):\n",
    "    #     open file\n",
    "        data = gdal.Open(tif_path)\n",
    "    #     grab bounds\n",
    "        geoTransform = data.GetGeoTransform()\n",
    "        left = geoTransform[0]\n",
    "        top = geoTransform[3]\n",
    "        right = left + geoTransform[1] * data.RasterXSize\n",
    "        bottom = top + geoTransform[5] * data.RasterYSize\n",
    "        geo_tiff_bounds_dict = {'top':top,'left':left,'bottom':bottom,'right':right,'tif_path':tif_path}\n",
    "        return geo_tiff_bounds_dict"
   ]
  },
  {
   "cell_type": "code",
   "execution_count": null,
   "id": "8448352a",
   "metadata": {},
   "outputs": [],
   "source": [
    "geo_tiff_bounds =get_bounds(geo_tiff_list[0])\n",
    "geo_tiff_bounds"
   ]
  },
  {
   "cell_type": "code",
   "execution_count": null,
   "id": "2b54e618",
   "metadata": {},
   "outputs": [],
   "source": [
    "pool = Pool(3)\n",
    "with pool:\n",
    "    list(tqdm(pool.imap(get_bounds,geo_tiff_list[:3]), total=3))"
   ]
  },
  {
   "cell_type": "code",
   "execution_count": null,
   "id": "212b0841",
   "metadata": {},
   "outputs": [],
   "source": [
    "%%time\n",
    "for i in geo_tiff_list:\n",
    "    get_bounds(i)"
   ]
  },
  {
   "cell_type": "code",
   "execution_count": null,
   "id": "8637a06a",
   "metadata": {},
   "outputs": [],
   "source": [
    "%%time\n",
    "# use multiprocessing to extract raster bounds\n",
    "# interesting when using a small number of geotiffs its is slightly quicker to just run this as a loop\n",
    "# however once you get over a 100 or so this method is much quicker\n",
    "with Pool() as pool:\n",
    "    geo_tiff_bounds = list(tqdm(pool.imap(get_bounds, geo_tiff_list), total=len(geo_tiff_list)))\n",
    "\n",
    "# make new array with only bounds \n",
    "pure_bounds = []\n",
    "for geo_tif_bounds in geo_tiff_bounds:\n",
    "    pure_bounds.append([geo_tif_bounds['top'],geo_tif_bounds['left'],geo_tif_bounds['bottom'],geo_tif_bounds['right']])\n",
    "# convert into numpy array\n",
    "pure_bounds_np = np.array(pure_bounds)\n",
    "# # grab max extents\n",
    "bound_y_max = float(pure_bounds_np[:,0].max()) #top\n",
    "bound_x_min = float(pure_bounds_np[:,1].min()) #left\n",
    "bound_y_min = float(pure_bounds_np[:,2].min()) #bottom\n",
    "bound_x_max = float(pure_bounds_np[:,3].max()) #right"
   ]
  },
  {
   "cell_type": "code",
   "execution_count": null,
   "id": "61e211e2",
   "metadata": {},
   "outputs": [],
   "source": [
    "# open one image to get the pixel size\n",
    "test_raster = gdal.Open(geo_tiff_list[0])\n",
    "test_raster_gt =test_raster.GetGeoTransform()\n",
    "pixel_size_x = test_raster_gt[1]\n",
    "pixel_size_y = test_raster_gt[5]\n",
    "print(pixel_size_x,pixel_size_y)"
   ]
  },
  {
   "cell_type": "code",
   "execution_count": null,
   "id": "1d7c392c",
   "metadata": {},
   "outputs": [],
   "source": [
    "# calculate the geographical distance in each direction each tile must be from the last tile\n",
    "x_move = pixel_size_x*(tile_size_px[0]-tile_oxerlap_px)\n",
    "y_move = pixel_size_y*(tile_size_px[1]-tile_oxerlap_px)\n",
    "\n",
    "# calculate the geographical size of each tile\n",
    "x_tile_size = pixel_size_x*tile_size_px[0]\n",
    "y_tile_size = pixel_size_y*tile_size_px[1]\n",
    "print(x_move,y_move)"
   ]
  },
  {
   "cell_type": "code",
   "execution_count": null,
   "id": "ccd5502b",
   "metadata": {},
   "outputs": [],
   "source": [
    "# calculate the number of cols so we can avoid using while loops\n",
    "number_of_cols = math.ceil(abs((bound_x_max-bound_x_min)/x_move))\n",
    "number_of_cols"
   ]
  },
  {
   "cell_type": "code",
   "execution_count": null,
   "id": "d8d020a9",
   "metadata": {},
   "outputs": [],
   "source": [
    "# calculate the number of rows so we can avoid using while loops\n",
    "number_of_rows = math.ceil(abs((bound_y_max-bound_y_min)/y_move))\n",
    "number_of_rows"
   ]
  },
  {
   "cell_type": "code",
   "execution_count": null,
   "id": "bbeb748d",
   "metadata": {},
   "outputs": [],
   "source": [
    "geo_tiff_bounds[0]['top']"
   ]
  },
  {
   "cell_type": "code",
   "execution_count": null,
   "id": "2f016525",
   "metadata": {},
   "outputs": [],
   "source": [
    "# will return a list of geotiffs which intersect \n",
    "def intersect_tile_with_geotiffs(tile_dict,geo_tiff_bounds):\n",
    "#     loop over each geotiff\n",
    "    intersecting_geotiffs = set()\n",
    "    \n",
    "    for geo_bounds in geo_tiff_bounds:\n",
    "#         check is tile top or bottom is inside geotiff\n",
    "        if (geo_bounds['top'] > tile_dict['top'] > geo_bounds['bottom'] or \n",
    "            geo_bounds['top'] > tile_dict['bottom'] > geo_bounds['bottom']):\n",
    "#         check if left or right are inside a geotiff\n",
    "            if geo_bounds['right'] > tile_dict['left'] > geo_bounds['left']:\n",
    "                intersecting_geotiffs.add(geo_bounds['tif_path'])\n",
    "            if geo_bounds['right'] > tile_dict['right'] > geo_bounds['left']:\n",
    "                intersecting_geotiffs.add(geo_bounds['tif_path'])\n",
    "    return intersecting_geotiffs"
   ]
  },
  {
   "cell_type": "code",
   "execution_count": null,
   "id": "02ce53d7",
   "metadata": {},
   "outputs": [],
   "source": [
    "# will take tile bounds and only export them if they fall within a geotiff\n",
    "# this is called row by row by pool below\n",
    "def make_polygons(row):\n",
    "    tile_polygon_list = []\n",
    "    tile_top = bound_y_max + y_move*row\n",
    "    tile_bottom = tile_top + y_tile_size\n",
    "    tile_left = bound_x_min\n",
    "\n",
    "    for col in range(0,number_of_cols):\n",
    "        tile_left = bound_x_min + col*x_move\n",
    "        tile_right = tile_left + x_tile_size\n",
    "        tile_dict = {'top':tile_top,'left':tile_left,'bottom':tile_bottom,'right':tile_right}\n",
    "        tile_list = np.array([tile_top,tile_left,tile_bottom,tile_right])\n",
    "#         check if valid tile\n",
    "        intersect = intersect_tile_with_geotiffs(tile_dict,geo_tiff_bounds)\n",
    "        if len(intersect) > 0:\n",
    "            polygon = {'geometry':geometry.Polygon([[tile_left, tile_top], [tile_right, tile_top], [tile_right, tile_bottom], [tile_left, tile_bottom]]),\n",
    "                      'intersect':intersect, 'row':row, 'col':col}\n",
    "            tile_polygon_list.append(polygon)\n",
    "    return tile_polygon_list\n"
   ]
  },
  {
   "cell_type": "code",
   "execution_count": null,
   "id": "d0fe4be6",
   "metadata": {},
   "outputs": [],
   "source": [
    "%%time\n",
    "tile_polygon_list = []\n",
    "for row in range(0,number_of_rows):\n",
    "    tile_polygon_list.append(make_polygons(row))"
   ]
  },
  {
   "cell_type": "code",
   "execution_count": null,
   "id": "f27b806b",
   "metadata": {},
   "outputs": [],
   "source": [
    "%%time\n",
    "# multiprocess making polygons\n",
    "with Pool() as pool:\n",
    "    tile_polygon_list = pool.map(make_polygons, range(0,number_of_rows))\n",
    "\n",
    "# this is returned as a list of list so it must be flattened\n",
    "tile_polygon_list = list(np.concatenate(tile_polygon_list).ravel())"
   ]
  },
  {
   "cell_type": "code",
   "execution_count": null,
   "id": "01b8069f",
   "metadata": {},
   "outputs": [],
   "source": [
    "tile_polygon_list[0]"
   ]
  },
  {
   "cell_type": "code",
   "execution_count": null,
   "id": "46639a71",
   "metadata": {},
   "outputs": [],
   "source": [
    "%%time\n",
    "#  convert into geodataframe\n",
    "polygon_tiles_gpd = gpd.GeoDataFrame(tile_polygon_list,geometry='geometry',crs='EPSG:4326')\n",
    "del polygon_tiles_gpd['intersect']"
   ]
  },
  {
   "cell_type": "code",
   "execution_count": null,
   "id": "43e015da",
   "metadata": {},
   "outputs": [],
   "source": [
    "polygon_tiles_gpd.plot()"
   ]
  },
  {
   "cell_type": "code",
   "execution_count": null,
   "id": "1c5a3b95",
   "metadata": {},
   "outputs": [],
   "source": [
    "if not wos:\n",
    "    polygon_tiles_gpd.to_file(f'{paths[user][\"data\"]}/output.gpkg', driver=\"GPKG\")\n",
    "else:\n",
    "    polygon_tiles_gpd.to_file(r'{}'.format(os.getcwd())+r'\\\\test_imagery\\\\VIVID_Landgate_20190910_112102323\\\\output.gpkg', driver=\"GPKG\")    \n",
    "\n"
   ]
  },
  {
   "cell_type": "code",
   "execution_count": null,
   "id": "3d0b10dd",
   "metadata": {},
   "outputs": [],
   "source": [
    "tile_polygon_list[46]"
   ]
  },
  {
   "cell_type": "code",
   "execution_count": null,
   "id": "de06b782",
   "metadata": {
    "scrolled": true
   },
   "outputs": [],
   "source": [
    "# loop over each geotiff\n",
    "# for geotiff in tqdm(geo_tiff_with_tiles):\n",
    "def cut_tiles(geotiff):\n",
    "#     grab path to to file and open it\n",
    "    geotiff_open = gdal.Open(geotiff[0])\n",
    "#     grab the filename and strip the extention\n",
    "    geo_tiff_filename = os.path.basename(geotiff[0]).replace(input_file_ext,'')\n",
    "    for tile in geotiff[1]:\n",
    "        time_geometry = tile['geometry']\n",
    "#         shapely bounds returns \"minx, miny, maxx, maxy\" but we need minx, maxy, maxx, miny\n",
    "        top = list(time_geometry.bounds)[3]\n",
    "        bottom = list(time_geometry.bounds)[1]\n",
    "        left = list(time_geometry.bounds)[0]\n",
    "        right =list(time_geometry.bounds)[2]\n",
    "        \n",
    "#         make row folder path\n",
    "        output_row_folder = os.path.join(output_folder,str(tile['row']))\n",
    "#       make row folder if nessasary\n",
    "        Path(output_row_folder).mkdir(parents=True, exist_ok=True)\n",
    "        export_file_name = str(tile['row'])+'_'+str(tile['col'])+'.tif'\n",
    "        \n",
    "#         check if tile is incomplete if so append the getiff name so that it is unique\n",
    "        if tile['incomplete']:\n",
    "            append_name = '_'+geo_tiff_filename+'_incomplete.tif'\n",
    "            export_file_name = export_file_name.replace('.tif',append_name)\n",
    "#             print('yes')\n",
    "\n",
    "        export_file_path = os.path.join(output_row_folder,export_file_name)\n",
    "\n",
    "#     clip the data\n",
    "#         make a string of tile dims to pass as a command line arg, this is ugly, would like a better option\n",
    "        tile_clip_string = str(left) +' '+str(top) +' '+str(right) +' '+str(bottom)\n",
    "    \n",
    "        translate_options = gdal.TranslateOptions(gdal.ParseCommandLine(\"-projwin \"+tile_clip_string)\n",
    "                                                 ,creationOptions=['COMPRESS='+output_compression])\n",
    "        \n",
    "        tile_clip = gdal.Translate(export_file_path, geotiff_open, options = translate_options)\n",
    "#     close the tile\n",
    "        tile_clip = None\n",
    "#         break\n",
    "\n",
    "    "
   ]
  },
  {
   "cell_type": "code",
   "execution_count": null,
   "id": "a5614926",
   "metadata": {},
   "outputs": [],
   "source": [
    "%%time\n",
    "geo_tiff_with_tiles = []\n",
    "# make a list of which tiles are within which geotiffs\n",
    "# loop over each geotiff\n",
    "for geo_tiff in tqdm(geo_tiff_list):\n",
    "    tiles_inside_geo_tiff = []\n",
    "#     loop over each tile and check if the geotiff is the the intersect list\n",
    "    for tile in tile_polygon_list:\n",
    "        if geo_tiff in tile['intersect']:\n",
    "#             we count this so we know if the tile will be incomplete or not\n",
    "            incomplete = len(tile['intersect'])>1\n",
    "#             build dict with geom the current row and col for naming\n",
    "            tiles_inside_geo_tiff.append({'geometry':tile['geometry'],'row':tile['row'],'col':tile['col'],'incomplete':incomplete})\n",
    "    geo_tiff_with_tiles.append([geo_tiff,tiles_inside_geo_tiff])   "
   ]
  },
  {
   "cell_type": "code",
   "execution_count": null,
   "id": "b87b8346",
   "metadata": {},
   "outputs": [],
   "source": [
    "gtwt = {k:v for k,v in geo_tiff_with_tiles}             # Dictionary that resembles geo_tiff_with_tiles\n",
    "gtwt_keys = {i:k for i,k in enumerate(gtwt.keys())}     # Keys that hold tile_id (incremental int) to tilepath\n",
    "chip_count = sum( len(v) for v in list(gtwt.values()))  # Confirm total count of chips\n",
    "# _ = [ print(len(shape_list)) for shape_list in gtwt.values() # Individual count check\n",
    "chip_count"
   ]
  },
  {
   "cell_type": "code",
   "execution_count": null,
   "id": "b4fe4b14",
   "metadata": {},
   "outputs": [],
   "source": [
    "gtwt_keys[0]"
   ]
  },
  {
   "cell_type": "code",
   "execution_count": null,
   "id": "06b9535e",
   "metadata": {},
   "outputs": [],
   "source": [
    "%%time\n",
    "# make dictionary form geo_tiffs_with_tiles --  key is (tile_key, tile_chip_key), both zero-based int\n",
    "#                                               val is {'geometry','row','col','incomplete'} (chip {})\n",
    "def get_dict(geoTifWithTiles):\n",
    "    d = {}\n",
    "    gtwt = {k:v for k,v in geoTifWithTiles}\n",
    "    gtwt_keys = {i:k for i,k in enumerate(gtwt.keys())}\n",
    "    chip_count = sum( len(v) for v in list(gtwt.values()))\n",
    "    ixn_keys = [[(ik,nk) for nk,_ in enumerate(gtwt[ gtwt_keys[ik] ])] for ik in tuple(gtwt_keys.keys())]\n",
    "    dummy_dict = {}\n",
    "    for inkl, nl in zip( ixn_keys,gtwt.values() ):\n",
    "        # print(f'associate members of {nl} to {inkl}')\n",
    "        for ink,n in zip(inkl,nl):\n",
    "            # print(f'{ink} <-- {n}')\n",
    "            d[ink] = n\n",
    "    return d\n",
    "geo_dict = get_dict(geo_tiff_with_tiles)"
   ]
  },
  {
   "cell_type": "code",
   "execution_count": null,
   "id": "1d6d8dc4",
   "metadata": {},
   "outputs": [],
   "source": [
    "tiles_md = {k:[] for k,v in geo_dict.items()}\n",
    "gtwt_basenames = {}\n",
    "for k, geotiff in gtwt_keys.items():\n",
    "    geo_tiff_filename = os.path.basename(geotiff).replace(input_file_ext,'')\n",
    "    gtwt_basenames[k] = geo_tiff_filename\n",
    "# md_template = {k:v for k,v in zip(['out','gdal_ds','to'],[None]*3)}\n",
    "tiles_md = {k:[] for k,v in geo_dict.items()}\n",
    "# populate pre-generated dict with \n",
    "# value will be (outpath, gdal_dataset translate_option)\n",
    "# gdal translate receives export_fp, geotiff_open or path, translate options w/ tile_clip_string\n",
    "def prep_tiles_md(geotiff):\n",
    "    key, tile = geotiff\n",
    "    (tile_key, node_key) = key\n",
    "    time_geometry = tile['geometry']\n",
    "#         shapely bounds returns \"minx, miny, maxx, maxy\" but we need minx, maxy, maxx, miny\n",
    "    top = list(time_geometry.bounds)[3]\n",
    "    bottom = list(time_geometry.bounds)[1]\n",
    "    left = list(time_geometry.bounds)[0]\n",
    "    right =list(time_geometry.bounds)[2]\n",
    "    \n",
    "#         make row folder path\n",
    "    output_row_folder = os.path.join(output_folder,str(tile['row']))\n",
    "#       make row folder if nessasary\n",
    "    Path(output_row_folder).mkdir(parents=True, exist_ok=True)\n",
    "    export_file_name = str(tile['row'])+'_'+str(tile['col'])+'.tif'\n",
    "    \n",
    "#         check if tile is incomplete if so append the getiff name so that it is unique\n",
    "    if tile['incomplete']:\n",
    "        append_name = '_'+gtwt_basenames[tile_key]+'_incomplete.tif'\n",
    "        export_file_name = export_file_name.replace('.tif',append_name)\n",
    "#             print('yes')\n",
    "\n",
    "    export_file_path = os.path.join(output_row_folder,export_file_name)\n",
    "\n",
    "#     clip the data\n",
    "#         make a string of tile dims to pass as a command line arg, this is ugly, would like a better option\n",
    "    # tile_clip_string = str(left) +' '+str(top) +' '+str(right) +' '+str(bottom)\n",
    "    tile_clip_string = f'{left} {top} {right} {bottom}'\n",
    "    # translate_options = gdal.TranslateOptions(gdal.ParseCommandLine(\"-projwin \"+tile_clip_string)\n",
    "                                                # ,creationOptions=['COMPRESS='+output_compression])\n",
    "\n",
    "    # paired-key dict holds args for translate command\n",
    "    # tiles_md[key] = [export_file_path, open_gdal[tile_key], translate_options] # pool: cannot pickle SwigPy Object\n",
    "    tiles_md[key] = [export_file_path, gtwt_keys[tile_key], tile_clip_string]"
   ]
  },
  {
   "cell_type": "code",
   "execution_count": null,
   "id": "5f75350d",
   "metadata": {},
   "outputs": [],
   "source": [
    "%%time\n",
    "# This is meant to save values to cut_tiles while running in multithread, but doesn't -- use next block --- _ = [ prep_tiles_md(item) for item in list(geo_dict.items()) ]\n",
    "def prep():\n",
    "    pool = Pool()\n",
    "    with pool:\n",
    "        tuple(tqdm(pool.imap(prep_tiles_md,tuple( geo_dict.items() )), total=len(geo_tiff_with_tiles)))\n",
    "\n",
    "prep()"
   ]
  },
  {
   "cell_type": "code",
   "execution_count": null,
   "id": "1ba5fd12",
   "metadata": {},
   "outputs": [],
   "source": [
    "%%time\n",
    "_ = [ prep_tiles_md(item) for item in list(geo_dict.items()) ]"
   ]
  },
  {
   "cell_type": "code",
   "execution_count": null,
   "id": "22b8d616-2b51-4b81-883b-c01528b2ff34",
   "metadata": {},
   "outputs": [],
   "source": [
    "# get bash gdal string of parameters from chip\n",
    "def get_arg_string(args_ls):\n",
    "    out, src, tcs = args_ls\n",
    "    arg_str = f'-projwin {tcs} -co \"COMPRESS\"={output_compression} -co \"NUM_THREADS\"=ALL_CPUS {src} {out}'\n",
    "    return arg_str\n",
    "arg_str = get_arg_string(tiles_md[(0,0)])"
   ]
  },
  {
   "cell_type": "code",
   "execution_count": null,
   "id": "ccb15c87",
   "metadata": {},
   "outputs": [],
   "source": [
    "# These iterate through all chips in one loop\n",
    "tiles_ls = list(tiles_md.values())\n",
    "tiles_md[(0,0)]     # dictionary to access chip arguments for gdal.Translate() (given tile i chip j)\n",
    "tiles_ls[0]         # list of each chip's string arguments for gdal.Translate() "
   ]
  },
  {
   "cell_type": "code",
   "execution_count": null,
   "id": "e1d28455-7073-4c08-9d28-cb0b8f28a8c3",
   "metadata": {},
   "outputs": [],
   "source": [
    "# Re-create geo_tiff_with_tiles as list of tiles, each associated with its list of chips' string arguments for gdal.Translate()\n",
    "args_per_tile = [[] for _ in range(len(gtwt))]\n",
    "arg_ls_per_tile = [[] for _ in range(len(gtwt))]\n",
    "len(args_per_tile)\n",
    "\n",
    "for (tk,ik), args in tiles_md.items():\n",
    "    arg_ls_per_tile[tk].append(args)\n",
    "    args_per_tile[tk].append(get_arg_string(args))\n",
    "\n",
    "print('As list -- to be used with python gdal') #[['src', ['out_path', 'src', 'left top right bottom'], ... ]\n",
    "print(arg_ls_per_tile[0][0])\n",
    "print('As string -- to be used with bash gdal') #[['src', \"-projwin left top right bottom -co \"COMPRESS\"=JPEG -co \"NUM_THREADS\"=ALL_CPUS 'src' 'out'\"], ...]\n",
    "print(args_per_tile[0][0])\n"
   ]
  },
  {
   "cell_type": "code",
   "execution_count": null,
   "id": "0546ef7e",
   "metadata": {},
   "outputs": [],
   "source": [
    "# cut tiles from prepared list of args -- to be used with iterable of gdal_translate arg lists [out, src, tcs] e.g. tiles_ls or sublist of arg_ls_per_tile\n",
    "def cut_tiles_from_md(gt_args):\n",
    "    out, src, tcs = gt_args\n",
    "    to = gdal.TranslateOptions(gdal.ParseCommandLine(\"-projwin \"+tcs)\n",
    "                                ,creationOptions=['COMPRESS='+output_compression,'','NUM_THREADS=ALL_CPUS'])\n",
    "    tile_clip = gdal.Translate(out, src, options=to)\n",
    "    tile_clip = None   "
   ]
  },
  {
   "cell_type": "code",
   "execution_count": null,
   "metadata": {},
   "outputs": [],
   "source": [
    "# cut tiles from prepared list of args -- to be used with arg_ls_per_tile\n",
    "def cut_tiles_from_md_forloop(gt_args_ls):\n",
    "    for gt_args in gt_args_ls:\n",
    "        cut_tiles_from_md(gt_args)"
   ]
  },
  {
   "cell_type": "code",
   "execution_count": null,
   "id": "2bcd38ab",
   "metadata": {},
   "outputs": [],
   "source": [
    "# cut tiles from prepared list of args, iterated in order -- to be used with args_per_tile ## TODO: Test numba prange?\n",
    "def cut_tiles_from_md_dict(N=None):\n",
    "    pk = tuple(tiles_md.keys())\n",
    "    for t,n in pk:\n",
    "        cut_tiles_from_md(tiles_md[t,n])"
   ]
  },
  {
   "cell_type": "code",
   "execution_count": null,
   "id": "6f76d3c5",
   "metadata": {},
   "outputs": [],
   "source": [
    "def cut_tiles_bash(gt_args):            # to be used with tiles_ls\n",
    "    out, src, tcs = gt_args\n",
    "    arg_str = f'-projwin {tcs} -co \"COMPRESS\"={output_compression} -co \"NUM_THREADS\"=ALL_CPUS {src} {out}'\n",
    "    !gdal_translate $arg_str"
   ]
  },
  {
   "cell_type": "code",
   "execution_count": null,
   "id": "8ddaea77-b32c-4120-81c3-78e13edbe7bb",
   "metadata": {
    "tags": []
   },
   "outputs": [],
   "source": [
    "def cut_tiles_bash_forlooped(args_list): # to be used with arg_ls_per_tile\n",
    "    for args in args_list:\n",
    "        cut_tiles_bash(args)"
   ]
  },
  {
   "cell_type": "code",
   "execution_count": null,
   "id": "c377b8c0",
   "metadata": {},
   "outputs": [],
   "source": [
    "def mt_func(f,a):                  # multi_thread tiling function\n",
    "    pool = Pool()\n",
    "    with pool:\n",
    "        list(tqdm(pool.imap(f, a), total=len(a)))"
   ]
  },
  {
   "cell_type": "code",
   "execution_count": null,
   "id": "66f003ee",
   "metadata": {},
   "outputs": [],
   "source": [
    "def st_func(f, a, N=None):         # single_thread tiling function\n",
    "    for md in a[:N]:\n",
    "        f(md)"
   ]
  },
  {
   "cell_type": "code",
   "execution_count": null,
   "id": "66da2501",
   "metadata": {},
   "outputs": [],
   "source": [
    "def profile_f(test_f,f,a):\n",
    "    profiler = cProfile.Profile()\n",
    "    profiler.enable()\n",
    "    test_f(f,a)\n",
    "    profiler.disable()\n",
    "    stats = pstats.Stats(profiler).sort_stats('tottime')\n",
    "    return stats"
   ]
  },
  {
   "cell_type": "code",
   "execution_count": null,
   "id": "204e2fed",
   "metadata": {},
   "outputs": [],
   "source": [
    "short_gtwt = lambda N: [[name, tiles[:N]] for [name, tiles] in geo_tiff_with_tiles] # Short version of geo_tiff_with_tiles (up to N tiles per geotiff)\n",
    "orig = profile_f(mt_func, cut_tiles, short_gtwt(10))                                # Profile original function and save stats\n",
    "orig.dump_stats(f'{paths[user][\"data\"]}/original.txt')                  # Optionally dump stats to disk\n",
    "# %snakeviz orig                                                                    # Optionally visualise with snakeviz"
   ]
  },
  {
   "cell_type": "code",
   "execution_count": null,
   "id": "bf0cb477",
   "metadata": {},
   "outputs": [],
   "source": [
    "short_agpt = lambda N: [[name, args[:N]] for [name, args] in arg_ls_per_tile]\n",
    "prep = profile_f(mt_func, cut_tiles_from_md, short_gtwt(10))                        # Profile original function and save stats\n",
    "prep.dump_stats(f'{paths[user][\"data\"]}/py_gdalt_only-looped.txt')                  # Optionally dump stats to disk\n",
    "# %snakeviz orig                                                                    # Optionally visualise with snakeviz"
   ]
  },
  {
   "cell_type": "markdown",
   "metadata": {},
   "source": []
  },
  {
   "cell_type": "code",
   "execution_count": null,
   "id": "bb0b9a0a-6ddf-4715-bc23-e3988e90329b",
   "metadata": {},
   "outputs": [],
   "source": [
    "%%time\n",
    "N = 100\n",
    "for i in range(N):\n",
    "    arg_str = get_arg_string(tiles_ls[i])\n",
    "    !gdal_translate --config GDAL_CACHEMAX 512 $arg_str\n",
    "%%time\n",
    "for i in range(N):\n",
    "    arg_str = get_arg_string(tiles_ls[i])\n",
    "    os.popen(f'gdal_translate --config GDAL_CACHEMAX 512 {arg_str}').readlines()\n",
    "%%time\n",
    "for i in range (N):\n",
    "    cut_tiles_from_md(tiles_md[(0,i)])\n",
    "%%time\n",
    "for i in range(600):def get_arg_string(args_ls):\n",
    "    out, src, tcs = args_ls\n",
    "    arg_str = f'-projwin {tcs} -co \"COMPRESS\"={output_compression} -co \"NUM_THREADS\"=ALL_CPUS {src} {out}'\n",
    "    return arg_str\n",
    "    cut_tiles([geo_tiff_with_tiles[0][0],[geo_tiff_with_tiles[0][1][i]]])"
   ]
  }
 ],
 "metadata": {
  "kernelspec": {
   "display_name": "Python 3.8.8 64-bit ('geotiff_tiler': conda)",
   "language": "python",
   "name": "python38864bitgeotifftilerconda473bcde926cf4313b8a555f984deadad"
  },
  "language_info": {
   "codemirror_mode": {
    "name": "ipython",
    "version": 3
   },
   "file_extension": ".py",
   "mimetype": "text/x-python",
   "name": "python",
   "nbconvert_exporter": "python",
   "pygments_lexer": "ipython3",
   "version": "3.8.8-final"
  }
 },
 "nbformat": 4,
 "nbformat_minor": 5
}