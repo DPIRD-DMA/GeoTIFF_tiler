{
 "cells": [
  {
   "cell_type": "code",
   "execution_count": 1,
   "id": "bd851083",
   "metadata": {},
   "outputs": [],
   "source": [
    "import os\n",
    "import geopandas as gpd\n",
    "import gdal\n",
    "import numpy as np\n",
    "import numba\n",
    "import glob\n",
    "from multiprocessing import Pool\n",
    "import tqdm.auto as tqdm"
   ]
  },
  {
   "cell_type": "code",
   "execution_count": 8,
   "id": "19fb9e4d",
   "metadata": {},
   "outputs": [
    {
     "name": "stdout",
     "output_type": "stream",
     "text": [
      "272 files\n",
      "CPU times: user 1.9 ms, sys: 306 µs, total: 2.2 ms\n",
      "Wall time: 1.52 ms\n"
     ]
    }
   ],
   "source": [
    "%%time\n",
    "geotiff_folder = r'/media/nick/2TB Working 2/Projects/GeoTIFF_tiler_data/VIVID_Landgate_20190910_112102323 (copy)'\n",
    "geo_tiff_list = glob.glob(geotiff_folder+'/*.tif')\n",
    "print(len(geo_tiff_list),'files')"
   ]
  },
  {
   "cell_type": "code",
   "execution_count": 9,
   "id": "9ca47981",
   "metadata": {},
   "outputs": [],
   "source": [
    "def get_bounds(tif_path):\n",
    "#     open file\n",
    "    data = gdal.Open(tif_path)\n",
    "#     grab bounds\n",
    "    geoTransform = data.GetGeoTransform()\n",
    "    left = geoTransform[0]\n",
    "    top = geoTransform[3]\n",
    "    right = left + geoTransform[1] * data.RasterXSize\n",
    "    bottom = top + geoTransform[5] * data.RasterYSize\n",
    "    return[top, left, bottom, right]"
   ]
  },
  {
   "cell_type": "code",
   "execution_count": 11,
   "id": "b562e3fe",
   "metadata": {},
   "outputs": [
    {
     "data": {
      "application/vnd.jupyter.widget-view+json": {
       "model_id": "232a02b3bfa949368a9b141b3481df33",
       "version_major": 2,
       "version_minor": 0
      },
      "text/plain": [
       "  0%|          | 0/272 [00:00<?, ?it/s]"
      ]
     },
     "metadata": {},
     "output_type": "display_data"
    },
    {
     "name": "stdout",
     "output_type": "stream",
     "text": [
      "CPU times: user 37 ms, sys: 32.4 ms, total: 69.4 ms\n",
      "Wall time: 143 ms\n"
     ]
    }
   ],
   "source": [
    "%%time\n",
    "# use multiprocessing to extract raster bounds\n",
    "with Pool() as pool:\n",
    "    geo_tiff_bounds = list(tqdm.tqdm(pool.imap(get_bounds, geo_tiff_list), total=len(geo_tiff_list)))\n",
    "# convert list to np array\n",
    "geo_tiff_bounds = np.array(geo_tiff_bounds)\n",
    "# grab max extents\n",
    "top_max = geo_tiff_bounds[:,0].max()\n",
    "left_max = geo_tiff_bounds[:,1].min()\n",
    "bottom_max = geo_tiff_bounds[:,2].min()\n",
    "right_max = geo_tiff_bounds[:,3].max()"
   ]
  },
  {
   "cell_type": "code",
   "execution_count": null,
   "id": "68e211fa",
   "metadata": {},
   "outputs": [],
   "source": []
  }
 ],
 "metadata": {
  "kernelspec": {
   "display_name": "Python 3",
   "language": "python",
   "name": "python3"
  },
  "language_info": {
   "codemirror_mode": {
    "name": "ipython",
    "version": 3
   },
   "file_extension": ".py",
   "mimetype": "text/x-python",
   "name": "python",
   "nbconvert_exporter": "python",
   "pygments_lexer": "ipython3",
   "version": "3.7.10"
  }
 },
 "nbformat": 4,
 "nbformat_minor": 5
}
