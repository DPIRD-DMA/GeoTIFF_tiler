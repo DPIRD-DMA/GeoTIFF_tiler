{
 "cells": [
  {
   "cell_type": "markdown",
   "id": "a3d87967",
   "metadata": {},
   "source": [
    "This script will create a tiled version of a raster dataset, it is expected that the input imagery is either one large raster or multible edge matched raster of the same resolution. You are able to define the size of the tiles and the amout of overlap between tiles."
   ]
  },
  {
   "cell_type": "code",
   "execution_count": 14,
   "id": "74725eb2",
   "metadata": {},
   "outputs": [],
   "source": [
    "import os\n",
    "import subprocess\n",
    "from pathlib import Path\n",
    "\n",
    "import math\n",
    "from pathlib import Path\n",
    "from tqdm.auto import tqdm\n",
    "#note using multiprocess instead of multiprocessing to keep mac os and windows happy\n",
    "from multiprocess import Pool \n",
    "\n",
    "from osgeo import gdal,osr\n",
    "import geopandas as gpd\n",
    "from shapely import geometry\n",
    "import pandas as pd\n",
    "import numpy as np"
   ]
  },
  {
   "cell_type": "code",
   "execution_count": 51,
   "id": "a79e9cac",
   "metadata": {},
   "outputs": [],
   "source": [
    "tile_size_px = [500,500] #x,y\n",
    "tile_oxerlap_px = 150\n",
    "\n",
    "geotiff_folder = '/Users/nicholaswright/Desktop/Landgate/Aveley 2/raster'\n",
    "output_folder = '/Users/nicholaswright/Desktop/Landgate/Aveley 2/tiles'\n",
    "#if you want to use all of your rasters set the below value to None\n",
    "valid_rasters_csv = None\n",
    "    \n",
    "input_file_ext = '.tif'\n",
    "output_compression = 'JPEG'  #use JPEG for images and LZW for raw data "
   ]
  },
  {
   "cell_type": "code",
   "execution_count": 52,
   "id": "b132849a",
   "metadata": {},
   "outputs": [
    {
     "data": {
      "text/plain": [
       "True"
      ]
     },
     "execution_count": 52,
     "metadata": {},
     "output_type": "execute_result"
    }
   ],
   "source": [
    "Path(output_folder).mkdir(parents=True, exist_ok=True)\n",
    "os.path.isdir(geotiff_folder)"
   ]
  },
  {
   "cell_type": "code",
   "execution_count": 53,
   "id": "ba747de6",
   "metadata": {},
   "outputs": [
    {
     "name": "stdout",
     "output_type": "stream",
     "text": [
      "We found  1 .tif files\n"
     ]
    }
   ],
   "source": [
    "# search folder and sub folders for 'input_file_ext' files\n",
    "geo_tiff_list = []\n",
    "for root, dirs, files in os.walk(geotiff_folder):\n",
    "    for file in files:\n",
    "        if file.endswith(input_file_ext):\n",
    "            geo_tiff_list.append(os.path.join(root, file))\n",
    "            \n",
    "print('We found ',len(geo_tiff_list),input_file_ext,'files')"
   ]
  },
  {
   "cell_type": "code",
   "execution_count": 54,
   "id": "648aadea",
   "metadata": {},
   "outputs": [],
   "source": [
    "# if you want to filter our input raster use this\n",
    "if valid_rasters_csv:\n",
    "    valid_raster_df = pd.read_csv(valid_rasters_csv)\n",
    "    print(valid_raster_df.head())"
   ]
  },
  {
   "cell_type": "code",
   "execution_count": 55,
   "id": "6b72565e",
   "metadata": {},
   "outputs": [],
   "source": [
    "# conver the valid raster names into a set so the lookup if much faster\n",
    "if valid_rasters_csv:\n",
    "    valid_raster_names = set(valid_raster_df.raster_name.tolist())"
   ]
  },
  {
   "cell_type": "code",
   "execution_count": 56,
   "id": "4d87f981",
   "metadata": {},
   "outputs": [],
   "source": [
    "if valid_rasters_csv:\n",
    "    short_list = []\n",
    "\n",
    "    for tif in tqdm(geo_tiff_list):\n",
    "    #     my csv file does not have the file extentions so we are stripping out the '.tif' to find a match\n",
    "        file_name = os.path.basename(tif).replace('.tif','') \n",
    "    #     check if the current raster is in the list, if so add it to the clean list\n",
    "        if file_name in valid_raster_names:\n",
    "            short_list.append(tif)\n",
    "    # reset the full list to the clean list        \n",
    "    geo_tiff_list = short_list\n",
    "    print(len(geo_tiff_list))"
   ]
  },
  {
   "cell_type": "code",
   "execution_count": 57,
   "id": "1f9f0746",
   "metadata": {},
   "outputs": [],
   "source": [
    "def get_bounds(tif_path):\n",
    "#     open file\n",
    "    data = gdal.Open(tif_path)\n",
    "#     grab bounds\n",
    "    geoTransform = data.GetGeoTransform()\n",
    "    left = geoTransform[0]\n",
    "    top = geoTransform[3]\n",
    "    right = left + geoTransform[1] * data.RasterXSize\n",
    "    bottom = top + geoTransform[5] * data.RasterYSize\n",
    "#     build dict to file bounds\n",
    "    geo_tiff_bounds_dict = {'top':top,'left':left,'bottom':bottom,'right':right,'tif_path':tif_path}\n",
    "    return geo_tiff_bounds_dict"
   ]
  },
  {
   "cell_type": "code",
   "execution_count": 58,
   "id": "8448352a",
   "metadata": {},
   "outputs": [
    {
     "data": {
      "text/plain": [
       "{'top': 6482660.861972267,\n",
       " 'left': 403644.87345318747,\n",
       " 'bottom': 6481998.311972267,\n",
       " 'right': 403968.72345318744,\n",
       " 'tif_path': '/Users/nicholaswright/Desktop/Landgate/Aveley 2/raster/Aveley2_MGA50.tif'}"
      ]
     },
     "execution_count": 58,
     "metadata": {},
     "output_type": "execute_result"
    }
   ],
   "source": [
    "# test the above function by returning the bounds of the first raster\n",
    "geo_tiff_bounds = get_bounds(geo_tiff_list[0])\n",
    "geo_tiff_bounds"
   ]
  },
  {
   "cell_type": "code",
   "execution_count": 59,
   "id": "421f4aa4",
   "metadata": {},
   "outputs": [
    {
     "data": {
      "application/vnd.jupyter.widget-view+json": {
       "model_id": "92a33e15abc845728cbdfcd09f7c8b1d",
       "version_major": 2,
       "version_minor": 0
      },
      "text/plain": [
       "  0%|          | 0/1 [00:00<?, ?it/s]"
      ]
     },
     "metadata": {},
     "output_type": "display_data"
    }
   ],
   "source": [
    "# use multiprocessing to extract raster bounds\n",
    "with Pool() as pool:\n",
    "    geo_tiff_bounds = list(tqdm(pool.imap(get_bounds, geo_tiff_list), total=len(geo_tiff_list)))"
   ]
  },
  {
   "cell_type": "code",
   "execution_count": 60,
   "id": "8637a06a",
   "metadata": {},
   "outputs": [],
   "source": [
    "# make new array with only bounds to extract full raster extents\n",
    "pure_bounds = []\n",
    "for geo_tif_bounds in geo_tiff_bounds:\n",
    "    pure_bounds.append([geo_tif_bounds['top'],geo_tif_bounds['left'],geo_tif_bounds['bottom'],geo_tif_bounds['right']])\n",
    "# convert into numpy array\n",
    "pure_bounds_np = np.array(pure_bounds)\n",
    "# grab max extents\n",
    "bound_y_max = float(pure_bounds_np[:,0].max()) #top\n",
    "bound_x_min = float(pure_bounds_np[:,1].min()) #left\n",
    "bound_y_min = float(pure_bounds_np[:,2].min()) #bottom\n",
    "bound_x_max = float(pure_bounds_np[:,3].max()) #right"
   ]
  },
  {
   "cell_type": "code",
   "execution_count": 61,
   "id": "92b48823",
   "metadata": {},
   "outputs": [
    {
     "data": {
      "text/plain": [
       "('top', 6482660.861972267, 'left', 403644.87345318747)"
      ]
     },
     "execution_count": 61,
     "metadata": {},
     "output_type": "execute_result"
    }
   ],
   "source": [
    "'top',bound_y_max,'left',bound_x_min"
   ]
  },
  {
   "cell_type": "code",
   "execution_count": 62,
   "id": "61e211e2",
   "metadata": {},
   "outputs": [
    {
     "name": "stdout",
     "output_type": "stream",
     "text": [
      "0.14999999999998923 -0.14999999999995783\n"
     ]
    }
   ],
   "source": [
    "# open one image to get the pixel size, this is nessasary to know how to cut the rasters\n",
    "test_raster = gdal.Open(geo_tiff_list[0])\n",
    "test_raster_gt =test_raster.GetGeoTransform()\n",
    "pixel_size_x = test_raster_gt[1]\n",
    "pixel_size_y = test_raster_gt[5]\n",
    "print(pixel_size_x,pixel_size_y)"
   ]
  },
  {
   "cell_type": "code",
   "execution_count": 63,
   "id": "36e2df8f",
   "metadata": {},
   "outputs": [
    {
     "data": {
      "text/plain": [
       "'EPSG:28350'"
      ]
     },
     "execution_count": 63,
     "metadata": {},
     "output_type": "execute_result"
    }
   ],
   "source": [
    "proj = osr.SpatialReference(wkt=test_raster.GetProjection())\n",
    "crs = 'EPSG:'+proj.GetAttrValue('AUTHORITY',1)\n",
    "crs"
   ]
  },
  {
   "cell_type": "code",
   "execution_count": 64,
   "id": "1d7c392c",
   "metadata": {},
   "outputs": [
    {
     "name": "stdout",
     "output_type": "stream",
     "text": [
      "52.49999999999623 -52.49999999998524\n",
      "74.99999999999461 -74.99999999997891\n"
     ]
    }
   ],
   "source": [
    "# calculate the geographical distance in each direction each tile must be from the last tile\n",
    "x_move = pixel_size_x*(tile_size_px[0]-tile_oxerlap_px)\n",
    "y_move = pixel_size_y*(tile_size_px[1]-tile_oxerlap_px)\n",
    "print(x_move,y_move)\n",
    "\n",
    "# calculate the geographical size of each tile\n",
    "x_tile_size = pixel_size_x*tile_size_px[0]\n",
    "y_tile_size = pixel_size_y*tile_size_px[1]\n",
    "print(x_tile_size,y_tile_size)"
   ]
  },
  {
   "cell_type": "code",
   "execution_count": 65,
   "id": "ccd5502b",
   "metadata": {},
   "outputs": [
    {
     "data": {
      "text/plain": [
       "7"
      ]
     },
     "execution_count": 65,
     "metadata": {},
     "output_type": "execute_result"
    }
   ],
   "source": [
    "# calculate the number of cols so we can avoid using while loops\n",
    "number_of_cols = math.ceil(abs((bound_x_max-bound_x_min)/x_move))\n",
    "number_of_cols"
   ]
  },
  {
   "cell_type": "code",
   "execution_count": 66,
   "id": "d8d020a9",
   "metadata": {},
   "outputs": [
    {
     "data": {
      "text/plain": [
       "13"
      ]
     },
     "execution_count": 66,
     "metadata": {},
     "output_type": "execute_result"
    }
   ],
   "source": [
    "# calculate the number of rows so we can avoid using while loops\n",
    "number_of_rows = math.ceil(abs((bound_y_max-bound_y_min)/y_move))\n",
    "number_of_rows"
   ]
  },
  {
   "cell_type": "code",
   "execution_count": 67,
   "id": "2f016525",
   "metadata": {},
   "outputs": [],
   "source": [
    "# will return a list of geotiffs which intersect \n",
    "def intersect_tile_with_geotiffs(tile_dict,geo_tiff_bounds):\n",
    "#     setup set to collect results in, a set is used to avoid duplicates\n",
    "    intersecting_geotiffs = set()\n",
    "#     loop over each geotiff\n",
    "    for geo_bounds in geo_tiff_bounds:\n",
    "#         check is tile top or bottom is inside geotiff\n",
    "        if (geo_bounds['top'] > tile_dict['top'] > geo_bounds['bottom'] or \n",
    "            geo_bounds['top'] > tile_dict['bottom'] > geo_bounds['bottom']):\n",
    "#         check if left or right are inside a geotiff\n",
    "            if geo_bounds['right'] > tile_dict['left'] > geo_bounds['left']:\n",
    "                intersecting_geotiffs.add(geo_bounds['tif_path'])\n",
    "            if geo_bounds['right'] > tile_dict['right'] > geo_bounds['left']:\n",
    "                intersecting_geotiffs.add(geo_bounds['tif_path'])\n",
    "    return intersecting_geotiffs"
   ]
  },
  {
   "cell_type": "code",
   "execution_count": 68,
   "id": "02ce53d7",
   "metadata": {},
   "outputs": [],
   "source": [
    "# will take tile bounds and only export them if they fall within a geotiff\n",
    "# this is called row by row by pool below\n",
    "def make_polygons(row):\n",
    "    tile_polygon_list = []\n",
    "    tile_top = bound_y_max + y_move*row\n",
    "    tile_bottom = tile_top + y_tile_size\n",
    "    tile_left = bound_x_min\n",
    "\n",
    "    for col in tqdm(range(0,number_of_cols),total = number_of_cols):\n",
    "        tile_left = bound_x_min + col*x_move\n",
    "        tile_right = tile_left + x_tile_size\n",
    "        tile_dict = {'top':tile_top,'left':tile_left,'bottom':tile_bottom,'right':tile_right}\n",
    "        tile_list = np.array([tile_top,tile_left,tile_bottom,tile_right])\n",
    "#         check if valid tile\n",
    "        intersect = intersect_tile_with_geotiffs(tile_dict,geo_tiff_bounds)\n",
    "        raster_name = str(row)+'_'+str(col)+'.tif'\n",
    "        if len(intersect) > 0:\n",
    "            polygon = {'geometry':geometry.Polygon([[tile_left, tile_top], [tile_right, tile_top], [tile_right, tile_bottom], [tile_left, tile_bottom]]),\n",
    "                      'intersect':intersect, 'row':row, 'col':col, 'name':raster_name}\n",
    "            tile_polygon_list.append(polygon)\n",
    "    return tile_polygon_list\n"
   ]
  },
  {
   "cell_type": "code",
   "execution_count": 69,
   "id": "f27b806b",
   "metadata": {},
   "outputs": [
    {
     "data": {
      "application/vnd.jupyter.widget-view+json": {
       "model_id": "0de96093bb904a5b9acee51c706b5556",
       "version_major": 2,
       "version_minor": 0
      },
      "text/plain": [
       "  0%|          | 0/13 [00:00<?, ?it/s]"
      ]
     },
     "metadata": {},
     "output_type": "display_data"
    }
   ],
   "source": [
    "# multiprocess making polygons\n",
    "with Pool() as pool:\n",
    "#     tile_polygon_list = pool.map(make_polygons, range(0,number_of_rows))\n",
    "    tile_polygon_list = list(tqdm(pool.imap(make_polygons, range(0,number_of_rows)), total=len(range(0,number_of_rows))))\n",
    "\n",
    "# this is returned as a list of list so it must be flattened\n",
    "tile_polygon_list = list(np.concatenate(tile_polygon_list).ravel())"
   ]
  },
  {
   "cell_type": "code",
   "execution_count": 70,
   "id": "46639a71",
   "metadata": {},
   "outputs": [
    {
     "name": "stdout",
     "output_type": "stream",
     "text": [
      "CPU times: user 19.9 ms, sys: 6.28 ms, total: 26.2 ms\n",
      "Wall time: 31.7 ms\n"
     ]
    }
   ],
   "source": [
    "%%time\n",
    "#  convert into geodataframe\n",
    "polygon_tiles_gpd = gpd.GeoDataFrame(tile_polygon_list,geometry='geometry',crs=crs)\n",
    "del polygon_tiles_gpd['intersect']"
   ]
  },
  {
   "cell_type": "code",
   "execution_count": 71,
   "id": "1bd40f42",
   "metadata": {},
   "outputs": [
    {
     "data": {
      "text/html": [
       "<div>\n",
       "<style scoped>\n",
       "    .dataframe tbody tr th:only-of-type {\n",
       "        vertical-align: middle;\n",
       "    }\n",
       "\n",
       "    .dataframe tbody tr th {\n",
       "        vertical-align: top;\n",
       "    }\n",
       "\n",
       "    .dataframe thead th {\n",
       "        text-align: right;\n",
       "    }\n",
       "</style>\n",
       "<table border=\"1\" class=\"dataframe\">\n",
       "  <thead>\n",
       "    <tr style=\"text-align: right;\">\n",
       "      <th></th>\n",
       "      <th>geometry</th>\n",
       "      <th>row</th>\n",
       "      <th>col</th>\n",
       "      <th>name</th>\n",
       "    </tr>\n",
       "  </thead>\n",
       "  <tbody>\n",
       "    <tr>\n",
       "      <th>0</th>\n",
       "      <td>POLYGON ((403644.873 6482660.862, 403719.873 6...</td>\n",
       "      <td>0</td>\n",
       "      <td>0</td>\n",
       "      <td>0_0.tif</td>\n",
       "    </tr>\n",
       "    <tr>\n",
       "      <th>1</th>\n",
       "      <td>POLYGON ((403697.373 6482660.862, 403772.373 6...</td>\n",
       "      <td>0</td>\n",
       "      <td>1</td>\n",
       "      <td>0_1.tif</td>\n",
       "    </tr>\n",
       "    <tr>\n",
       "      <th>2</th>\n",
       "      <td>POLYGON ((403749.873 6482660.862, 403824.873 6...</td>\n",
       "      <td>0</td>\n",
       "      <td>2</td>\n",
       "      <td>0_2.tif</td>\n",
       "    </tr>\n",
       "    <tr>\n",
       "      <th>3</th>\n",
       "      <td>POLYGON ((403802.373 6482660.862, 403877.373 6...</td>\n",
       "      <td>0</td>\n",
       "      <td>3</td>\n",
       "      <td>0_3.tif</td>\n",
       "    </tr>\n",
       "    <tr>\n",
       "      <th>4</th>\n",
       "      <td>POLYGON ((403854.873 6482660.862, 403929.873 6...</td>\n",
       "      <td>0</td>\n",
       "      <td>4</td>\n",
       "      <td>0_4.tif</td>\n",
       "    </tr>\n",
       "    <tr>\n",
       "      <th>...</th>\n",
       "      <td>...</td>\n",
       "      <td>...</td>\n",
       "      <td>...</td>\n",
       "      <td>...</td>\n",
       "    </tr>\n",
       "    <tr>\n",
       "      <th>86</th>\n",
       "      <td>POLYGON ((403749.873 6482030.862, 403824.873 6...</td>\n",
       "      <td>12</td>\n",
       "      <td>2</td>\n",
       "      <td>12_2.tif</td>\n",
       "    </tr>\n",
       "    <tr>\n",
       "      <th>87</th>\n",
       "      <td>POLYGON ((403802.373 6482030.862, 403877.373 6...</td>\n",
       "      <td>12</td>\n",
       "      <td>3</td>\n",
       "      <td>12_3.tif</td>\n",
       "    </tr>\n",
       "    <tr>\n",
       "      <th>88</th>\n",
       "      <td>POLYGON ((403854.873 6482030.862, 403929.873 6...</td>\n",
       "      <td>12</td>\n",
       "      <td>4</td>\n",
       "      <td>12_4.tif</td>\n",
       "    </tr>\n",
       "    <tr>\n",
       "      <th>89</th>\n",
       "      <td>POLYGON ((403907.373 6482030.862, 403982.373 6...</td>\n",
       "      <td>12</td>\n",
       "      <td>5</td>\n",
       "      <td>12_5.tif</td>\n",
       "    </tr>\n",
       "    <tr>\n",
       "      <th>90</th>\n",
       "      <td>POLYGON ((403959.873 6482030.862, 404034.873 6...</td>\n",
       "      <td>12</td>\n",
       "      <td>6</td>\n",
       "      <td>12_6.tif</td>\n",
       "    </tr>\n",
       "  </tbody>\n",
       "</table>\n",
       "<p>91 rows × 4 columns</p>\n",
       "</div>"
      ],
      "text/plain": [
       "                                             geometry  row  col      name\n",
       "0   POLYGON ((403644.873 6482660.862, 403719.873 6...    0    0   0_0.tif\n",
       "1   POLYGON ((403697.373 6482660.862, 403772.373 6...    0    1   0_1.tif\n",
       "2   POLYGON ((403749.873 6482660.862, 403824.873 6...    0    2   0_2.tif\n",
       "3   POLYGON ((403802.373 6482660.862, 403877.373 6...    0    3   0_3.tif\n",
       "4   POLYGON ((403854.873 6482660.862, 403929.873 6...    0    4   0_4.tif\n",
       "..                                                ...  ...  ...       ...\n",
       "86  POLYGON ((403749.873 6482030.862, 403824.873 6...   12    2  12_2.tif\n",
       "87  POLYGON ((403802.373 6482030.862, 403877.373 6...   12    3  12_3.tif\n",
       "88  POLYGON ((403854.873 6482030.862, 403929.873 6...   12    4  12_4.tif\n",
       "89  POLYGON ((403907.373 6482030.862, 403982.373 6...   12    5  12_5.tif\n",
       "90  POLYGON ((403959.873 6482030.862, 404034.873 6...   12    6  12_6.tif\n",
       "\n",
       "[91 rows x 4 columns]"
      ]
     },
     "execution_count": 71,
     "metadata": {},
     "output_type": "execute_result"
    }
   ],
   "source": [
    "polygon_tiles_gpd"
   ]
  },
  {
   "cell_type": "code",
   "execution_count": 72,
   "id": "43e015da",
   "metadata": {},
   "outputs": [
    {
     "data": {
      "image/png": "[encoded data removed]",
      "text/plain": [
       "<Figure size 1332x756 with 2 Axes>"
      ]
     },
     "metadata": {
      "needs_background": "light"
     },
     "output_type": "display_data"
    }
   ],
   "source": [
    "# plot up a bunch of polygons\n",
    "import matplotlib.pyplot as plt\n",
    "from matplotlib.pyplot import figure\n",
    "from mpl_toolkits.axes_grid1 import make_axes_locatable\n",
    "\n",
    "fig, ax = plt.subplots()\n",
    "fig.set_size_inches(18.5, 10.5)\n",
    "divider = make_axes_locatable(ax)\n",
    "cax = divider.append_axes(\"right\", size=\"5%\", pad=0.1)\n",
    "polygon_tiles_gpd.head(10000).plot(column='col', ax=ax, legend=True,cax=cax);"
   ]
  },
  {
   "cell_type": "code",
   "execution_count": 73,
   "id": "b450090c",
   "metadata": {},
   "outputs": [
    {
     "data": {
      "text/plain": [
       "<AxesSubplot:>"
      ]
     },
     "execution_count": 73,
     "metadata": {},
     "output_type": "execute_result"
    },
    {
     "data": {
      "image/png": "[encoded data removed]",
      "text/plain": [
       "<Figure size 432x288 with 1 Axes>"
      ]
     },
     "metadata": {
      "needs_background": "light"
     },
     "output_type": "display_data"
    }
   ],
   "source": [
    "# plot a small number of polygon bounds\n",
    "polygon_tiles_gpd.head(10).boundary.plot()"
   ]
  },
  {
   "cell_type": "code",
   "execution_count": 74,
   "id": "1c5a3b95",
   "metadata": {},
   "outputs": [
    {
     "data": {
      "text/plain": [
       "'/Users/nicholaswright/Desktop/Landgate/Aveley 2/output.gpkg'"
      ]
     },
     "execution_count": 74,
     "metadata": {},
     "output_type": "execute_result"
    }
   ],
   "source": [
    "polygon_export_loc = os.path.join(os.path.dirname(output_folder),'output.gpkg')\n",
    "polygon_export_loc"
   ]
  },
  {
   "cell_type": "code",
   "execution_count": 75,
   "id": "8fd9b7a9",
   "metadata": {},
   "outputs": [],
   "source": [
    "polygon_tiles_gpd.to_file(polygon_export_loc, driver=\"GPKG\")    "
   ]
  },
  {
   "cell_type": "code",
   "execution_count": 76,
   "id": "d366200c",
   "metadata": {},
   "outputs": [],
   "source": [
    "# make a list of which tiles are within which geotiffs\n",
    "def intersector(geo_tiff):\n",
    "    tiles_inside_geo_tiff = []\n",
    "#     loop over each tile and check if the geotiff is the the intersect list\n",
    "    for tile in tile_polygon_list:\n",
    "        if geo_tiff in tile['intersect']:\n",
    "#             count this so we know if the tile will be incomplete or not\n",
    "            incomplete = len(tile['intersect'])>1\n",
    "#             build dict with geom the current row and col for naming\n",
    "            tiles_inside_geo_tiff.append({'geometry':tile['geometry'],'row':tile['row'],'col':tile['col'],'incomplete':incomplete})\n",
    "    return([geo_tiff,tiles_inside_geo_tiff])  "
   ]
  },
  {
   "cell_type": "code",
   "execution_count": 77,
   "id": "803304c5",
   "metadata": {},
   "outputs": [
    {
     "data": {
      "application/vnd.jupyter.widget-view+json": {
       "model_id": "a70962b3971d4175ab5a7846a53df9d7",
       "version_major": 2,
       "version_minor": 0
      },
      "text/plain": [
       "  0%|          | 0/1 [00:00<?, ?it/s]"
      ]
     },
     "metadata": {},
     "output_type": "display_data"
    }
   ],
   "source": [
    "with Pool() as pool:\n",
    "    geo_tiff_with_tiles = list(tqdm(pool.imap(intersector, geo_tiff_list), total=len(geo_tiff_list)))"
   ]
  },
  {
   "cell_type": "code",
   "execution_count": 78,
   "id": "de06b782",
   "metadata": {
    "scrolled": true
   },
   "outputs": [],
   "source": [
    "# cut tiles from rasters\n",
    "def cut_tiles(geotiff):\n",
    "#     grab path to to file and open it\n",
    "    geotiff_open = gdal.Open(geotiff[0])\n",
    "#     grab the filename and strip the extention\n",
    "    geo_tiff_filename = os.path.basename(geotiff[0]).replace(input_file_ext,'')\n",
    "    incomplete_tile_list = []\n",
    "    for tile in geotiff[1]:\n",
    "        time_geometry = tile['geometry']\n",
    "#         shapely bounds returns \"minx, miny, maxx, maxy\" but we need minx, maxy, maxx, miny\n",
    "        top = list(time_geometry.bounds)[3]\n",
    "        bottom = list(time_geometry.bounds)[1]\n",
    "        left = list(time_geometry.bounds)[0]\n",
    "        right =list(time_geometry.bounds)[2]\n",
    "        \n",
    "#         make row folder path\n",
    "        output_row_folder = os.path.join(output_folder,str(tile['row']))\n",
    "#       make row folder if nessasary\n",
    "        Path(output_row_folder).mkdir(parents=True, exist_ok=True)\n",
    "        export_file_name = str(tile['row'])+'_'+str(tile['col'])+'.tif'\n",
    "        \n",
    "#         check if tile is incomplete if so append the getiff name so that it is unique\n",
    "        if tile['incomplete']:\n",
    "            append_name = '-'+geo_tiff_filename+'_incomplete.tif'\n",
    "            export_file_name = export_file_name.replace('.tif',append_name)\n",
    "#             add tile to list so we dont need to refind them to compile incomplete tiles\n",
    "            export_file_path = os.path.join(output_row_folder,export_file_name)\n",
    "            incomplete_tile_list.append(export_file_path)\n",
    "        else:\n",
    "            export_file_path = os.path.join(output_row_folder,export_file_name)\n",
    "        \n",
    "#         check if already done\n",
    "        if not os.path.isfile(export_file_path):\n",
    "\n",
    "    #     clip the data\n",
    "    #         make a string of tile dims to pass as a command line arg, this is kinda of hacky, would like a better option\n",
    "            tile_clip_string = str(left) +' '+str(top) +' '+str(right) +' '+str(bottom)\n",
    "\n",
    "            translate_options = gdal.TranslateOptions(gdal.ParseCommandLine(\"-projwin \"+tile_clip_string)\n",
    "                                                     ,creationOptions=['COMPRESS='+output_compression])\n",
    "\n",
    "            tile_clip = gdal.Translate(export_file_path, geotiff_open, options = translate_options)\n",
    "    #     close the tile\n",
    "            tile_clip = None\n",
    "    return incomplete_tile_list\n",
    "\n",
    "    "
   ]
  },
  {
   "cell_type": "code",
   "execution_count": 79,
   "id": "0c5b1547-fe96-4636-a7bf-b61f6c692c51",
   "metadata": {},
   "outputs": [
    {
     "data": {
      "application/vnd.jupyter.widget-view+json": {
       "model_id": "3149f3a009a94a3099a61a1628884305",
       "version_major": 2,
       "version_minor": 0
      },
      "text/plain": [
       "  0%|          | 0/1 [00:00<?, ?it/s]"
      ]
     },
     "metadata": {},
     "output_type": "display_data"
    }
   ],
   "source": [
    "# run the above func with multithreading and return incomplete tile list\n",
    "pool = Pool()\n",
    "with pool:\n",
    "    incomplete_tile_list = list(tqdm(pool.imap(cut_tiles,geo_tiff_with_tiles), total=len(geo_tiff_with_tiles)))"
   ]
  },
  {
   "cell_type": "code",
   "execution_count": 80,
   "id": "ca407735",
   "metadata": {},
   "outputs": [
    {
     "name": "stdout",
     "output_type": "stream",
     "text": [
      "0 incomplete tiles\n"
     ]
    }
   ],
   "source": [
    "#%%timeit\n",
    "#  the pool above returns all the incomplete tiles as a list of list, we need a flat list\n",
    "flat_incomplete_tile_list = np.concatenate(incomplete_tile_list).ravel()\n",
    "print(len(flat_incomplete_tile_list),'incomplete tiles')"
   ]
  },
  {
   "cell_type": "code",
   "execution_count": 81,
   "id": "c387973c",
   "metadata": {},
   "outputs": [],
   "source": [
    "incomplete_tile_file_names = []\n",
    "# from the flat list make a new list with just rows and cols to filter by\n",
    "for incomplete_tile in flat_incomplete_tile_list:\n",
    "    incomplete_tile_file_names.append(os.path.basename(incomplete_tile).split('-')[0])"
   ]
  },
  {
   "cell_type": "code",
   "execution_count": 82,
   "id": "19367e0f",
   "metadata": {},
   "outputs": [
    {
     "data": {
      "text/html": [
       "<div>\n",
       "<style scoped>\n",
       "    .dataframe tbody tr th:only-of-type {\n",
       "        vertical-align: middle;\n",
       "    }\n",
       "\n",
       "    .dataframe tbody tr th {\n",
       "        vertical-align: top;\n",
       "    }\n",
       "\n",
       "    .dataframe thead th {\n",
       "        text-align: right;\n",
       "    }\n",
       "</style>\n",
       "<table border=\"1\" class=\"dataframe\">\n",
       "  <thead>\n",
       "    <tr style=\"text-align: right;\">\n",
       "      <th></th>\n",
       "      <th>incomplete_tiles</th>\n",
       "      <th>row_col</th>\n",
       "    </tr>\n",
       "  </thead>\n",
       "  <tbody>\n",
       "  </tbody>\n",
       "</table>\n",
       "</div>"
      ],
      "text/plain": [
       "Empty DataFrame\n",
       "Columns: [incomplete_tiles, row_col]\n",
       "Index: []"
      ]
     },
     "execution_count": 82,
     "metadata": {},
     "output_type": "execute_result"
    }
   ],
   "source": [
    "# make a new dataframe with paths and row/cols\n",
    "incomplete_tile_df = pd.DataFrame(\n",
    "    {'incomplete_tiles': flat_incomplete_tile_list,\n",
    "     'row_col': incomplete_tile_file_names\n",
    "    })\n",
    "\n",
    "unique_tiles_list = incomplete_tile_df.row_col.unique()\n",
    "\n",
    "incomplete_tile_df.head()"
   ]
  },
  {
   "cell_type": "code",
   "execution_count": 83,
   "id": "8da67c28",
   "metadata": {},
   "outputs": [],
   "source": [
    "# handy gdal tool to merge files\n",
    "def merge_tiles(merge_imgs, output_path):\n",
    "    merge_command = ['gdal_merge.py', '-o', output_path, '-co','COMPRESS='+output_compression]\n",
    "    for name in merge_imgs:\n",
    "        merge_command.append(name)\n",
    "    subprocess.run(merge_command)"
   ]
  },
  {
   "cell_type": "code",
   "execution_count": 84,
   "id": "90092fb0",
   "metadata": {},
   "outputs": [],
   "source": [
    "def join_incomplete_tile(unique_tiles):\n",
    "#     filter the datframe down to only one row and col\n",
    "    df_filt = incomplete_tile_df[incomplete_tile_df['row_col']==unique_tiles]\n",
    "#     get paths as list\n",
    "    combine_these = df_filt['incomplete_tiles'].tolist()\n",
    "#     get export name by removing the geotiff names from end\n",
    "    export_file_name = os.path.basename(combine_these[0]).split('-')[0]+'.tif'\n",
    "#     grab the folder from the first tile\n",
    "    export_dir_path = os.path.dirname(combine_these[0])\n",
    "#     biuld full export path\n",
    "    export_full_path = os.path.join(export_dir_path,export_file_name)\n",
    "#     use gdal gdal_merge.py to merge the tiles\n",
    "    merge_tiles(combine_these,export_full_path)\n",
    "#     remove the incomplete tiles and msk files\n",
    "    for incomplete_tile in combine_these:\n",
    "        try:\n",
    "            os.remove(incomplete_tile)\n",
    "        except:\n",
    "            print('could not remove')\n",
    "        try:\n",
    "            os.remove(incomplete_tile+'.msk')\n",
    "        except:\n",
    "            print('could not remove')    "
   ]
  },
  {
   "cell_type": "code",
   "execution_count": 85,
   "id": "e29d8828",
   "metadata": {
    "scrolled": true
   },
   "outputs": [
    {
     "data": {
      "application/vnd.jupyter.widget-view+json": {
       "model_id": "188d09fe3bb94bdf9d3d739448a983a9",
       "version_major": 2,
       "version_minor": 0
      },
      "text/plain": [
       "0it [00:00, ?it/s]"
      ]
     },
     "metadata": {},
     "output_type": "display_data"
    }
   ],
   "source": [
    "pool = Pool()\n",
    "with pool:\n",
    "    list(tqdm(pool.imap(join_incomplete_tile,unique_tiles_list), total=len(unique_tiles_list)))"
   ]
  },
  {
   "cell_type": "code",
   "execution_count": null,
   "id": "f5c0cbd6",
   "metadata": {},
   "outputs": [],
   "source": []
  }
 ],
 "metadata": {
  "kernelspec": {
   "display_name": "Python 3 (ipykernel)",
   "language": "python",
   "name": "python3"
  },
  "language_info": {
   "codemirror_mode": {
    "name": "ipython",
    "version": 3
   },
   "file_extension": ".py",
   "mimetype": "text/x-python",
   "name": "python",
   "nbconvert_exporter": "python",
   "pygments_lexer": "ipython3",
   "version": "3.8.10"
  }
 },
 "nbformat": 4,
 "nbformat_minor": 5
}
