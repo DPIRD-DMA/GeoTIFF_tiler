{
 "cells": [
  {
   "cell_type": "code",
   "execution_count": 53,
   "id": "3aabf57a",
   "metadata": {},
   "outputs": [],
   "source": [
    "import os\n",
    "import subprocess\n",
    "# import sys\n",
    "import math\n",
    "from pathlib import Path\n",
    "from tqdm.auto import tqdm\n",
    "from multiprocessing import Pool\n",
    "\n",
    "from osgeo import gdal\n",
    "import geopandas as gpd\n",
    "import pandas as pd\n",
    "\n",
    "import numpy as np\n",
    "from shapely import geometry"
   ]
  },
  {
   "cell_type": "code",
   "execution_count": 61,
   "id": "a79e9cac",
   "metadata": {},
   "outputs": [],
   "source": [
    "tile_size_px = [1000,1000] #x,y\n",
    "tile_oxerlap_px = 300\n",
    "\n",
    "    \n",
    "output_folder = '/media/nick/2TB Working 3/Dataset/VIVID South West 1000px'\n",
    "geotiff_folder = '/media/nick/Seagate Expansion Drive/Vivid 2.0 - Raster Tiles'\n",
    "    \n",
    "input_file_ext = '.tif'\n",
    "output_compression = 'LZW'"
   ]
  },
  {
   "cell_type": "code",
   "execution_count": 62,
   "id": "b132849a",
   "metadata": {},
   "outputs": [
    {
     "data": {
      "text/plain": [
       "'/media/nick/2TB Working 3/Dataset/VIVID South West 1000px'"
      ]
     },
     "execution_count": 62,
     "metadata": {},
     "output_type": "execute_result"
    }
   ],
   "source": [
    "output_folder"
   ]
  },
  {
   "cell_type": "code",
   "execution_count": 63,
   "id": "ba747de6",
   "metadata": {},
   "outputs": [
    {
     "name": "stdout",
     "output_type": "stream",
     "text": [
      "We found  31574 .tif files\n"
     ]
    }
   ],
   "source": [
    "# search folder and all sub folders for 'input_file_ext' files\n",
    "geo_tiff_list = []\n",
    "for root, dirs, files in os.walk(geotiff_folder):\n",
    "    for file in files:\n",
    "        if file.endswith(input_file_ext):\n",
    "            geo_tiff_list.append(os.path.join(root, file))\n",
    "            \n",
    "print('We found ',len(geo_tiff_list),input_file_ext,'files')"
   ]
  },
  {
   "cell_type": "code",
   "execution_count": 64,
   "id": "648aadea",
   "metadata": {},
   "outputs": [
    {
     "name": "stderr",
     "output_type": "stream",
     "text": [
      "/home/nick/anaconda3/envs/fastaiv2/lib/python3.8/site-packages/geopandas/geodataframe.py:422: RuntimeWarning: Sequential read of iterator was interrupted. Resetting iterator. This can negatively impact the performance.\n",
      "  for feature in features_lst:\n"
     ]
    },
    {
     "data": {
      "text/html": [
       "<div>\n",
       "<style scoped>\n",
       "    .dataframe tbody tr th:only-of-type {\n",
       "        vertical-align: middle;\n",
       "    }\n",
       "\n",
       "    .dataframe tbody tr th {\n",
       "        vertical-align: top;\n",
       "    }\n",
       "\n",
       "    .dataframe thead th {\n",
       "        text-align: right;\n",
       "    }\n",
       "</style>\n",
       "<table border=\"1\" class=\"dataframe\">\n",
       "  <thead>\n",
       "    <tr style=\"text-align: right;\">\n",
       "      <th></th>\n",
       "      <th>name</th>\n",
       "      <th>geometry</th>\n",
       "    </tr>\n",
       "  </thead>\n",
       "  <tbody>\n",
       "    <tr>\n",
       "      <th>0</th>\n",
       "      <td>VIVID_Landgate_20190910_112102331132.tif</td>\n",
       "      <td>POLYGON ((118.03711 -34.89258, 118.03711 -34.8...</td>\n",
       "    </tr>\n",
       "    <tr>\n",
       "      <th>1</th>\n",
       "      <td>VIVID_Landgate_20190910_112103222132.tif</td>\n",
       "      <td>POLYGON ((118.74023 -34.18945, 118.74023 -34.1...</td>\n",
       "    </tr>\n",
       "    <tr>\n",
       "      <th>2</th>\n",
       "      <td>VIVID_Landgate_20190910_112120102333.tif</td>\n",
       "      <td>POLYGON ((116.01562 -32.43164, 116.01562 -32.3...</td>\n",
       "    </tr>\n",
       "    <tr>\n",
       "      <th>3</th>\n",
       "      <td>VIVID_Landgate_20190910_112120320102.tif</td>\n",
       "      <td>POLYGON ((115.75195 -29.44336, 115.75195 -29.3...</td>\n",
       "    </tr>\n",
       "    <tr>\n",
       "      <th>4</th>\n",
       "      <td>VIVID_Landgate_20190910_112120232132.tif</td>\n",
       "      <td>POLYGON ((114.52148 -28.56445, 114.52148 -28.4...</td>\n",
       "    </tr>\n",
       "    <tr>\n",
       "      <th>...</th>\n",
       "      <td>...</td>\n",
       "      <td>...</td>\n",
       "    </tr>\n",
       "    <tr>\n",
       "      <th>3636</th>\n",
       "      <td>VIVID_Landgate_20190910_112120112021.tif</td>\n",
       "      <td>POLYGON ((116.89453 -32.87109, 116.89453 -32.7...</td>\n",
       "    </tr>\n",
       "    <tr>\n",
       "      <th>3637</th>\n",
       "      <td>VIVID_Landgate_20190910_112120213300.tif</td>\n",
       "      <td>POLYGON ((115.04883 -29.88281, 115.04883 -29.7...</td>\n",
       "    </tr>\n",
       "    <tr>\n",
       "      <th>3638</th>\n",
       "      <td>VIVID_Landgate_20190910_112121020012.tif</td>\n",
       "      <td>POLYGON ((118.38867 -32.25586, 118.38867 -32.1...</td>\n",
       "    </tr>\n",
       "    <tr>\n",
       "      <th>3639</th>\n",
       "      <td>VIVID_Landgate_20190910_112120302123.tif</td>\n",
       "      <td>POLYGON ((115.83984 -29.97070, 115.83984 -29.8...</td>\n",
       "    </tr>\n",
       "    <tr>\n",
       "      <th>3640</th>\n",
       "      <td>VIVID_Landgate_20190910_112121010312.tif</td>\n",
       "      <td>POLYGON ((120.14648 -33.31055, 120.14648 -33.2...</td>\n",
       "    </tr>\n",
       "  </tbody>\n",
       "</table>\n",
       "<p>3641 rows × 2 columns</p>\n",
       "</div>"
      ],
      "text/plain": [
       "                                          name  \\\n",
       "0     VIVID_Landgate_20190910_112102331132.tif   \n",
       "1     VIVID_Landgate_20190910_112103222132.tif   \n",
       "2     VIVID_Landgate_20190910_112120102333.tif   \n",
       "3     VIVID_Landgate_20190910_112120320102.tif   \n",
       "4     VIVID_Landgate_20190910_112120232132.tif   \n",
       "...                                        ...   \n",
       "3636  VIVID_Landgate_20190910_112120112021.tif   \n",
       "3637  VIVID_Landgate_20190910_112120213300.tif   \n",
       "3638  VIVID_Landgate_20190910_112121020012.tif   \n",
       "3639  VIVID_Landgate_20190910_112120302123.tif   \n",
       "3640  VIVID_Landgate_20190910_112121010312.tif   \n",
       "\n",
       "                                               geometry  \n",
       "0     POLYGON ((118.03711 -34.89258, 118.03711 -34.8...  \n",
       "1     POLYGON ((118.74023 -34.18945, 118.74023 -34.1...  \n",
       "2     POLYGON ((116.01562 -32.43164, 116.01562 -32.3...  \n",
       "3     POLYGON ((115.75195 -29.44336, 115.75195 -29.3...  \n",
       "4     POLYGON ((114.52148 -28.56445, 114.52148 -28.4...  \n",
       "...                                                 ...  \n",
       "3636  POLYGON ((116.89453 -32.87109, 116.89453 -32.7...  \n",
       "3637  POLYGON ((115.04883 -29.88281, 115.04883 -29.7...  \n",
       "3638  POLYGON ((118.38867 -32.25586, 118.38867 -32.1...  \n",
       "3639  POLYGON ((115.83984 -29.97070, 115.83984 -29.8...  \n",
       "3640  POLYGON ((120.14648 -33.31055, 120.14648 -33.2...  \n",
       "\n",
       "[3641 rows x 2 columns]"
      ]
     },
     "execution_count": 64,
     "metadata": {},
     "output_type": "execute_result"
    }
   ],
   "source": [
    "polygons = gpd.read_file('/media/nick/2TB Working 2/Image sets/VIVID South West polygons.gpkg')\n",
    "polygons"
   ]
  },
  {
   "cell_type": "code",
   "execution_count": 65,
   "id": "4d87f981",
   "metadata": {},
   "outputs": [
    {
     "data": {
      "text/plain": [
       "3641"
      ]
     },
     "execution_count": 65,
     "metadata": {},
     "output_type": "execute_result"
    }
   ],
   "source": [
    "valid_names = set(polygons.name.tolist())\n",
    "short_list = []\n",
    "for tif in geo_tiff_list:\n",
    "    file_name = os.path.basename(tif)\n",
    "    \n",
    "    if file_name in valid_names:\n",
    "        short_list.append(tif)\n",
    "        \n",
    "geo_tiff_list = short_list\n",
    "len(geo_tiff_list)    "
   ]
  },
  {
   "cell_type": "code",
   "execution_count": 66,
   "id": "1f9f0746",
   "metadata": {},
   "outputs": [],
   "source": [
    "def get_bounds(tif_path):\n",
    "#     open file\n",
    "    data = gdal.Open(tif_path)\n",
    "#     grab bounds\n",
    "    geoTransform = data.GetGeoTransform()\n",
    "    left = geoTransform[0]\n",
    "    top = geoTransform[3]\n",
    "    right = left + geoTransform[1] * data.RasterXSize\n",
    "    bottom = top + geoTransform[5] * data.RasterYSize\n",
    "    geo_tiff_bounds_dict = {'top':top,'left':left,'bottom':bottom,'right':right,'tif_path':tif_path}\n",
    "    return geo_tiff_bounds_dict"
   ]
  },
  {
   "cell_type": "code",
   "execution_count": 67,
   "id": "8448352a",
   "metadata": {},
   "outputs": [
    {
     "data": {
      "text/plain": [
       "{'top': -34.189453125,\n",
       " 'left': 114.9609375,\n",
       " 'bottom': -34.27734375,\n",
       " 'right': 115.048828125,\n",
       " 'tif_path': '/media/nick/Seagate Expansion Drive/Vivid 2.0 - Raster Tiles/VIVID_Landgate_20190910_112102233120.tif'}"
      ]
     },
     "execution_count": 67,
     "metadata": {},
     "output_type": "execute_result"
    }
   ],
   "source": [
    "geo_tiff_bounds = get_bounds(geo_tiff_list[0])\n",
    "geo_tiff_bounds"
   ]
  },
  {
   "cell_type": "code",
   "execution_count": 68,
   "id": "8637a06a",
   "metadata": {},
   "outputs": [
    {
     "data": {
      "application/vnd.jupyter.widget-view+json": {
       "model_id": "3161676d0cf8481e99bd0d39dfc5ee4f",
       "version_major": 2,
       "version_minor": 0
      },
      "text/plain": [
       "  0%|          | 0/3641 [00:00<?, ?it/s]"
      ]
     },
     "metadata": {},
     "output_type": "display_data"
    }
   ],
   "source": [
    "# use multiprocessing to extract raster bounds\n",
    "# interesting when using a small number of geotiffs its is slightly quicker to just run this as a loop\n",
    "# however once you get over a 100 or so this method is much quicker\n",
    "with Pool() as pool:\n",
    "    geo_tiff_bounds = list(tqdm(pool.imap(get_bounds, geo_tiff_list), total=len(geo_tiff_list)))\n",
    "\n",
    "# make new array with only bounds \n",
    "pure_bounds = []\n",
    "for geo_tif_bounds in geo_tiff_bounds:\n",
    "    pure_bounds.append([geo_tif_bounds['top'],geo_tif_bounds['left'],geo_tif_bounds['bottom'],geo_tif_bounds['right']])\n",
    "# convert into numpy array\n",
    "pure_bounds_np = np.array(pure_bounds)\n",
    "# # grab max extents\n",
    "bound_y_max = float(pure_bounds_np[:,0].max()) #top\n",
    "bound_x_min = float(pure_bounds_np[:,1].min()) #left\n",
    "bound_y_min = float(pure_bounds_np[:,2].min()) #bottom\n",
    "bound_x_max = float(pure_bounds_np[:,3].max()) #right"
   ]
  },
  {
   "cell_type": "code",
   "execution_count": 69,
   "id": "61e211e2",
   "metadata": {},
   "outputs": [
    {
     "name": "stdout",
     "output_type": "stream",
     "text": [
      "4.487879136029412e-06 -4.487879136029412e-06\n"
     ]
    }
   ],
   "source": [
    "# open one image to get the pixel size\n",
    "test_raster = gdal.Open(geo_tiff_list[0])\n",
    "test_raster_gt =test_raster.GetGeoTransform()\n",
    "pixel_size_x = test_raster_gt[1]\n",
    "pixel_size_y = test_raster_gt[5]\n",
    "print(pixel_size_x,pixel_size_y)"
   ]
  },
  {
   "cell_type": "code",
   "execution_count": 70,
   "id": "1d7c392c",
   "metadata": {},
   "outputs": [
    {
     "name": "stdout",
     "output_type": "stream",
     "text": [
      "0.003141515395220588 -0.003141515395220588\n"
     ]
    }
   ],
   "source": [
    "# calculate the geographical distance in each direction each tile must be from the last tile\n",
    "x_move = pixel_size_x*(tile_size_px[0]-tile_oxerlap_px)\n",
    "y_move = pixel_size_y*(tile_size_px[1]-tile_oxerlap_px)\n",
    "\n",
    "# calculate the geographical size of each tile\n",
    "x_tile_size = pixel_size_x*tile_size_px[0]\n",
    "y_tile_size = pixel_size_y*tile_size_px[1]\n",
    "print(x_move,y_move)"
   ]
  },
  {
   "cell_type": "code",
   "execution_count": 71,
   "id": "ccd5502b",
   "metadata": {},
   "outputs": [
    {
     "data": {
      "text/plain": [
       "2966"
      ]
     },
     "execution_count": 71,
     "metadata": {},
     "output_type": "execute_result"
    }
   ],
   "source": [
    "# calculate the number of cols so we can avoid using while loops\n",
    "number_of_cols = math.ceil(abs((bound_x_max-bound_x_min)/x_move))\n",
    "number_of_cols"
   ]
  },
  {
   "cell_type": "code",
   "execution_count": 72,
   "id": "d8d020a9",
   "metadata": {},
   "outputs": [
    {
     "data": {
      "text/plain": [
       "2490"
      ]
     },
     "execution_count": 72,
     "metadata": {},
     "output_type": "execute_result"
    }
   ],
   "source": [
    "# calculate the number of rows so we can avoid using while loops\n",
    "number_of_rows = math.ceil(abs((bound_y_max-bound_y_min)/y_move))\n",
    "number_of_rows"
   ]
  },
  {
   "cell_type": "code",
   "execution_count": 73,
   "id": "2f016525",
   "metadata": {},
   "outputs": [],
   "source": [
    "# will return a list of geotiffs which intersect \n",
    "def intersect_tile_with_geotiffs(tile_dict,geo_tiff_bounds):\n",
    "#     loop over each geotiff\n",
    "    intersecting_geotiffs = set()\n",
    "    \n",
    "    for geo_bounds in geo_tiff_bounds:\n",
    "#         check is tile top or bottom is inside geotiff\n",
    "        if (geo_bounds['top'] > tile_dict['top'] > geo_bounds['bottom'] or \n",
    "            geo_bounds['top'] > tile_dict['bottom'] > geo_bounds['bottom']):\n",
    "#         check if left or right are inside a geotiff\n",
    "            if geo_bounds['right'] > tile_dict['left'] > geo_bounds['left']:\n",
    "                intersecting_geotiffs.add(geo_bounds['tif_path'])\n",
    "            if geo_bounds['right'] > tile_dict['right'] > geo_bounds['left']:\n",
    "                intersecting_geotiffs.add(geo_bounds['tif_path'])\n",
    "    return intersecting_geotiffs"
   ]
  },
  {
   "cell_type": "code",
   "execution_count": 74,
   "id": "02ce53d7",
   "metadata": {},
   "outputs": [],
   "source": [
    "# will take tile bounds and only export them if they fall within a geotiff\n",
    "# this is called row by row by pool below\n",
    "def make_polygons(row):\n",
    "    tile_polygon_list = []\n",
    "    tile_top = bound_y_max + y_move*row\n",
    "    tile_bottom = tile_top + y_tile_size\n",
    "    tile_left = bound_x_min\n",
    "\n",
    "    for col in range(0,number_of_cols):\n",
    "        tile_left = bound_x_min + col*x_move\n",
    "        tile_right = tile_left + x_tile_size\n",
    "        tile_dict = {'top':tile_top,'left':tile_left,'bottom':tile_bottom,'right':tile_right}\n",
    "        tile_list = np.array([tile_top,tile_left,tile_bottom,tile_right])\n",
    "#         check if valid tile\n",
    "        intersect = intersect_tile_with_geotiffs(tile_dict,geo_tiff_bounds)\n",
    "        if len(intersect) > 0:\n",
    "            polygon = {'geometry':geometry.Polygon([[tile_left, tile_top], [tile_right, tile_top], [tile_right, tile_bottom], [tile_left, tile_bottom]]),\n",
    "                      'intersect':intersect, 'row':row, 'col':col}\n",
    "            tile_polygon_list.append(polygon)\n",
    "    return tile_polygon_list\n"
   ]
  },
  {
   "cell_type": "code",
   "execution_count": 75,
   "id": "d0fe4be6",
   "metadata": {},
   "outputs": [],
   "source": [
    "# %%time\n",
    "# tile_polygon_list = []\n",
    "# for row in tqdm(range(0,number_of_rows)):\n",
    "#     tile_polygon_list.append(make_polygons(row))"
   ]
  },
  {
   "cell_type": "code",
   "execution_count": 76,
   "id": "f27b806b",
   "metadata": {},
   "outputs": [
    {
     "data": {
      "application/vnd.jupyter.widget-view+json": {
       "model_id": "235f8710163448c988387dd4ae3a9461",
       "version_major": 2,
       "version_minor": 0
      },
      "text/plain": [
       "  0%|          | 0/2490 [00:00<?, ?it/s]"
      ]
     },
     "metadata": {},
     "output_type": "display_data"
    },
    {
     "name": "stdout",
     "output_type": "stream",
     "text": [
      "CPU times: user 36.5 s, sys: 1.69 s, total: 38.2 s\n",
      "Wall time: 12min 37s\n"
     ]
    }
   ],
   "source": [
    "%%time\n",
    "# multiprocess making polygons\n",
    "with Pool() as pool:\n",
    "#     tile_polygon_list = pool.map(make_polygons, range(0,number_of_rows))\n",
    "    tile_polygon_list = list(tqdm(pool.imap(make_polygons, range(0,number_of_rows)), total=len(range(0,number_of_rows))))\n",
    "\n",
    "# this is returned as a list of list so it must be flattened\n",
    "tile_polygon_list = list(np.concatenate(tile_polygon_list).ravel())"
   ]
  },
  {
   "cell_type": "code",
   "execution_count": 77,
   "id": "46639a71",
   "metadata": {},
   "outputs": [
    {
     "name": "stdout",
     "output_type": "stream",
     "text": [
      "CPU times: user 5.31 s, sys: 44 ms, total: 5.36 s\n",
      "Wall time: 5.36 s\n"
     ]
    }
   ],
   "source": [
    "%%time\n",
    "#  convert into geodataframe\n",
    "polygon_tiles_gpd = gpd.GeoDataFrame(tile_polygon_list,geometry='geometry',crs='EPSG:4326')\n",
    "del polygon_tiles_gpd['intersect']"
   ]
  },
  {
   "cell_type": "code",
   "execution_count": 46,
   "id": "43e015da",
   "metadata": {},
   "outputs": [
    {
     "data": {
      "text/plain": [
       "<AxesSubplot:>"
      ]
     },
     "execution_count": 46,
     "metadata": {},
     "output_type": "execute_result"
    },
    {
     "data": {
      "image/png": "[encoded data removed]",
      "text/plain": [
       "<Figure size 432x288 with 1 Axes>"
      ]
     },
     "metadata": {
      "needs_background": "light"
     },
     "output_type": "display_data"
    }
   ],
   "source": [
    "polygon_tiles_gpd.plot()"
   ]
  },
  {
   "cell_type": "code",
   "execution_count": 78,
   "id": "1c5a3b95",
   "metadata": {},
   "outputs": [],
   "source": [
    "polygon_tiles_gpd.to_file(os.path.join(output_folder,'output.gpkg'), driver=\"GPKG\")    "
   ]
  },
  {
   "cell_type": "code",
   "execution_count": 79,
   "id": "3d0b10dd",
   "metadata": {},
   "outputs": [
    {
     "data": {
      "text/plain": [
       "{'geometry': <shapely.geometry.polygon.Polygon at 0x7f45dc66e520>,\n",
       " 'intersect': {'/media/nick/Seagate Expansion Drive/Vivid 2.0 - Raster Tiles/VIVID_Landgate_20190910_112122010333.tif'},\n",
       " 'row': 0,\n",
       " 'col': 140}"
      ]
     },
     "execution_count": 79,
     "metadata": {},
     "output_type": "execute_result"
    }
   ],
   "source": [
    "tile_polygon_list[1]"
   ]
  },
  {
   "cell_type": "code",
   "execution_count": 82,
   "id": "4e95f0fb",
   "metadata": {},
   "outputs": [],
   "source": [
    "# make a list of which tiles are within which geotiffs\n",
    "# loop over each geotiff\n",
    "# for geo_tiff in tqdm(geo_tiff_list):\n",
    "def intersector(geo_tiff):\n",
    "    tiles_inside_geo_tiff = []\n",
    "#     loop over each tile and check if the geotiff is the the intersect list\n",
    "    for tile in tile_polygon_list:\n",
    "        if geo_tiff in tile['intersect']:\n",
    "#             we count this so we know if the tile will be incomplete or not\n",
    "            incomplete = len(tile['intersect'])>1\n",
    "#             build dict with geom the current row and col for naming\n",
    "            tiles_inside_geo_tiff.append({'geometry':tile['geometry'],'row':tile['row'],'col':tile['col'],'incomplete':incomplete})\n",
    "    return([geo_tiff,tiles_inside_geo_tiff])  "
   ]
  },
  {
   "cell_type": "code",
   "execution_count": 83,
   "id": "d6d2bfd8",
   "metadata": {},
   "outputs": [
    {
     "data": {
      "application/vnd.jupyter.widget-view+json": {
       "model_id": "f6f7939c66a34208a6e3d1384b65c3e0",
       "version_major": 2,
       "version_minor": 0
      },
      "text/plain": [
       "  0%|          | 0/3641 [00:00<?, ?it/s]"
      ]
     },
     "metadata": {},
     "output_type": "display_data"
    }
   ],
   "source": [
    "with Pool() as pool:\n",
    "    geo_tiff_with_tiles = list(tqdm(pool.imap(intersector, geo_tiff_list), total=len(geo_tiff_list)))\n",
    "\n",
    "# mak"
   ]
  },
  {
   "cell_type": "code",
   "execution_count": 84,
   "id": "de06b782",
   "metadata": {
    "scrolled": true
   },
   "outputs": [],
   "source": [
    "# loop over each geotiff\n",
    "# for geotiff in tqdm(geo_tiff_with_tiles):\n",
    "def cut_tiles(geotiff):\n",
    "#     grab path to to file and open it\n",
    "    geotiff_open = gdal.Open(geotiff[0])\n",
    "#     grab the filename and strip the extention\n",
    "    geo_tiff_filename = os.path.basename(geotiff[0]).replace(input_file_ext,'')\n",
    "    incomplete_tile_list = []\n",
    "    for tile in geotiff[1]:\n",
    "        time_geometry = tile['geometry']\n",
    "#         shapely bounds returns \"minx, miny, maxx, maxy\" but we need minx, maxy, maxx, miny\n",
    "        top = list(time_geometry.bounds)[3]\n",
    "        bottom = list(time_geometry.bounds)[1]\n",
    "        left = list(time_geometry.bounds)[0]\n",
    "        right =list(time_geometry.bounds)[2]\n",
    "        \n",
    "#         make row folder path\n",
    "        output_row_folder = os.path.join(output_folder,str(tile['row']))\n",
    "#       make row folder if nessasary\n",
    "        Path(output_row_folder).mkdir(parents=True, exist_ok=True)\n",
    "        export_file_name = str(tile['row'])+'_'+str(tile['col'])+'.tif'\n",
    "        \n",
    "#         check if tile is incomplete if so append the getiff name so that it is unique\n",
    "        if tile['incomplete']:\n",
    "            append_name = '-'+geo_tiff_filename+'_incomplete.tif'\n",
    "            export_file_name = export_file_name.replace('.tif',append_name)\n",
    "#             add tile to list so we dont need to refind them to compile incomplete tiles\n",
    "            export_file_path = os.path.join(output_row_folder,export_file_name)\n",
    "            incomplete_tile_list.append(export_file_path)\n",
    "        else:\n",
    "            export_file_path = os.path.join(output_row_folder,export_file_name)\n",
    "        \n",
    "#         check if already done\n",
    "        if not os.path.isfile(export_file_path):\n",
    "\n",
    "    #     clip the data\n",
    "    #         make a string of tile dims to pass as a command line arg, this is ugly, would like a better option\n",
    "            tile_clip_string = str(left) +' '+str(top) +' '+str(right) +' '+str(bottom)\n",
    "\n",
    "            translate_options = gdal.TranslateOptions(gdal.ParseCommandLine(\"-projwin \"+tile_clip_string)\n",
    "                                                     ,creationOptions=['COMPRESS='+output_compression])\n",
    "\n",
    "            tile_clip = gdal.Translate(export_file_path, geotiff_open, options = translate_options)\n",
    "    #     close the tile\n",
    "            tile_clip = None\n",
    "    #         break\n",
    "    return incomplete_tile_list\n",
    "\n",
    "    "
   ]
  },
  {
   "cell_type": "code",
   "execution_count": null,
   "id": "0c5b1547-fe96-4636-a7bf-b61f6c692c51",
   "metadata": {},
   "outputs": [
    {
     "data": {
      "application/vnd.jupyter.widget-view+json": {
       "model_id": "fd7e9335e9424e7082e2389e8845fe10",
       "version_major": 2,
       "version_minor": 0
      },
      "text/plain": [
       "  0%|          | 0/3641 [00:00<?, ?it/s]"
      ]
     },
     "metadata": {},
     "output_type": "display_data"
    }
   ],
   "source": [
    "pool = Pool()\n",
    "with pool:\n",
    "    incomplete_tile_list = list(tqdm(pool.imap(cut_tiles,geo_tiff_with_tiles), total=len(geo_tiff_with_tiles)))"
   ]
  },
  {
   "cell_type": "code",
   "execution_count": 25,
   "id": "b4fe4b14",
   "metadata": {},
   "outputs": [
    {
     "name": "stdout",
     "output_type": "stream",
     "text": [
      "0 incomplete tiles\n"
     ]
    }
   ],
   "source": [
    "#  the pool above returns all the incomplete tiles as a list of list, we need a flat list\n",
    "flat_incomplete_tile_list = [item for sublist in incomplete_tile_list for item in sublist]\n",
    "print(len(flat_incomplete_tile_list),'incomplete tiles')"
   ]
  },
  {
   "cell_type": "code",
   "execution_count": 26,
   "id": "c387973c",
   "metadata": {},
   "outputs": [],
   "source": [
    "incomplete_tile_file_names = []\n",
    "# from the flat list make a new list with just rows and cols to filter by\n",
    "for incomplete_tile in flat_incomplete_tile_list:\n",
    "    incomplete_tile_file_names.append(os.path.basename(incomplete_tile).split('-')[0])"
   ]
  },
  {
   "cell_type": "code",
   "execution_count": 57,
   "id": "19367e0f",
   "metadata": {},
   "outputs": [],
   "source": [
    "# make a new datframe with paths and row/cols\n",
    "incomplete_tile_df = pd.DataFrame(\n",
    "    {'incomplete_tiles': flat_incomplete_tile_list,\n",
    "     'row_col': incomplete_tile_file_names\n",
    "    })"
   ]
  },
  {
   "cell_type": "code",
   "execution_count": 58,
   "id": "8da67c28",
   "metadata": {},
   "outputs": [],
   "source": [
    "# handy gdal tool to merge files\n",
    "def merge_tiles(merge_imgs, output_path):\n",
    "    merge_command = ['gdal_merge.py', '-o', output_path, '-co','COMPRESS='+output_compression]\n",
    "    for name in merge_imgs:\n",
    "        merge_command.append(name)\n",
    "    subprocess.run(merge_command)"
   ]
  },
  {
   "cell_type": "code",
   "execution_count": 59,
   "id": "90092fb0",
   "metadata": {},
   "outputs": [],
   "source": [
    "def join_incomplete_tile(unique_tiles):\n",
    "# for unique_tiles in incomplete_tile_df.row_col.unique():\n",
    "#     filter the datframe down to only onw row and col\n",
    "    gapminder_2002 = incomplete_tile_df[incomplete_tile_df['row_col']==unique_tiles]\n",
    "#     get paths as list\n",
    "    combine_these = gapminder_2002['incomplete_tiles'].tolist()\n",
    "#     get export name by removing the geotiff names from end\n",
    "    export_file_name = os.path.basename(combine_these[0]).split('-')[0]+'.tif'\n",
    "#     grab the folder from the first tile\n",
    "    export_dir_path = os.path.dirname(combine_these[0])\n",
    "#     biuld full export path\n",
    "    export_full_path = os.path.join(export_dir_path,export_file_name)\n",
    "#     use gdal gdal_merge.py to merge the tiles\n",
    "    merge_tiles(combine_these,export_full_path)\n",
    "#     remove the incomplete tiles and msk files\n",
    "    for incomplete_tile in combine_these:\n",
    "        try:\n",
    "            os.remove(incomplete_tile)\n",
    "        except:\n",
    "            print('could not remove')\n",
    "        try:\n",
    "            os.remove(incomplete_tile+'.msk')\n",
    "        except:\n",
    "            print('could not remove')\n",
    "#     break\n",
    "    "
   ]
  },
  {
   "cell_type": "code",
   "execution_count": 60,
   "id": "e29d8828",
   "metadata": {},
   "outputs": [
    {
     "data": {
      "application/vnd.jupyter.widget-view+json": {
       "model_id": "fda5dd7f9cac4a65ae9462083a4bb2b3",
       "version_major": 2,
       "version_minor": 0
      },
      "text/plain": [
       "  0%|          | 0/182102 [00:00<?, ?it/s]"
      ]
     },
     "metadata": {},
     "output_type": "display_data"
    }
   ],
   "source": [
    "unique_tiles_list = incomplete_tile_df.row_col.unique()\n",
    "pool = Pool()\n",
    "with pool:\n",
    "    incomplete_tile_list = list(tqdm(pool.imap(join_incomplete_tile,unique_tiles_list), total=len(unique_tiles_list)))"
   ]
  },
  {
   "cell_type": "code",
   "execution_count": null,
   "id": "daf32f05",
   "metadata": {},
   "outputs": [],
   "source": []
  }
 ],
 "metadata": {
  "kernelspec": {
   "display_name": "Python 3",
   "language": "python",
   "name": "python3"
  },
  "language_info": {
   "codemirror_mode": {
    "name": "ipython",
    "version": 3
   },
   "file_extension": ".py",
   "mimetype": "text/x-python",
   "name": "python",
   "nbconvert_exporter": "python",
   "pygments_lexer": "ipython3",
   "version": "3.8.8"
  }
 },
 "nbformat": 4,
 "nbformat_minor": 5
}
