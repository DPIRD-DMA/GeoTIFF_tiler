{
 "cells": [
  {
   "cell_type": "code",
   "execution_count": 2,
   "id": "601b8758",
   "metadata": {},
   "outputs": [],
   "source": [
    "import os\n",
    "import numpy as np\n",
    "import rasterio\n",
    "from pathlib import Path\n",
    "from tqdm.auto import tqdm\n",
    "from multiprocess import Pool,cpu_count"
   ]
  },
  {
   "cell_type": "code",
   "execution_count": 3,
   "id": "a44bd0a6",
   "metadata": {},
   "outputs": [],
   "source": [
    "# set your tile size in pixels\n",
    "tile_size_px = [1024,1024] #y,x\n",
    "# pad out part tiles to the above dim?\n",
    "pad = True\n",
    "# what value would you like to pad with?\n",
    "pad_value = 0\n",
    "# set your overlap in pixels\n",
    "tile_overlap_px = 256\n",
    "# check above values\n",
    "if tile_overlap_px > tile_size_px[0] or tile_overlap_px > tile_size_px[1]:\n",
    "    print('You overlap must be less than the tile size')"
   ]
  },
  {
   "cell_type": "code",
   "execution_count": 4,
   "id": "91902818",
   "metadata": {},
   "outputs": [
    {
     "name": "stdout",
     "output_type": "stream",
     "text": [
      "Does the file exist? True\n",
      "output folder = /data/Road extraction/old/test areas/11/roadsv3.2_resnet18_500px_4.6_LR0.0001_FT_4_finshed\n"
     ]
    }
   ],
   "source": [
    "# set the compression for your tiles\n",
    "output_compression = 'LZW'#'JPEG'  #use JPEG for images and LZW for raw data \n",
    "# that folder is your input file wihtin?\n",
    "geotiff_folder = '/data/Road extraction/old/test areas/11'\n",
    "# what is the file name of the input file?\n",
    "geotiff_file_name = 'roadsv3.2_resnet18_500px_4.6_LR0.0001_FT_4_finshed.tif'\n",
    "# check file is correct\n",
    "geotiff_path = os.path.join(geotiff_folder,geotiff_file_name)\n",
    "print('Does the file exist?',os.path.isfile(geotiff_path))\n",
    "#make tile folder based on input path\n",
    "output_folder = os.path.splitext(geotiff_path)[0]\n",
    "print('output folder =',output_folder)\n",
    "Path(output_folder).mkdir(exist_ok=True)"
   ]
  },
  {
   "cell_type": "code",
   "execution_count": 5,
   "id": "4a946d7b",
   "metadata": {},
   "outputs": [
    {
     "data": {
      "text/plain": [
       "{'driver': 'GTiff',\n",
       " 'dtype': 'uint8',\n",
       " 'nodata': None,\n",
       " 'width': 5895,\n",
       " 'height': 4915,\n",
       " 'count': 1,\n",
       " 'crs': CRS.from_epsg(4326),\n",
       " 'transform': Affine(8.975758272058824e-05, 0.0, 127.96875,\n",
       "        0.0, -8.975758272058824e-05, -15.908203125)}"
      ]
     },
     "execution_count": 5,
     "metadata": {},
     "output_type": "execute_result"
    }
   ],
   "source": [
    "# grab a copy of the input metadata \n",
    "with rasterio.open(geotiff_path) as open_raster:\n",
    "    input_meta = open_raster.meta\n",
    "input_meta"
   ]
  },
  {
   "cell_type": "code",
   "execution_count": 6,
   "id": "47198c80",
   "metadata": {},
   "outputs": [
    {
     "name": "stdout",
     "output_type": "stream",
     "text": [
      "Tiles to make = 56\n"
     ]
    }
   ],
   "source": [
    "# make a list of tiles by looping over raster height and width\n",
    "# this will store each tile details \n",
    "tiles = []\n",
    "# keep track of the left edge of tile and tile count\n",
    "left = 0\n",
    "tile_count = 0\n",
    "# loop untill left is beyond the input width\n",
    "while left < input_meta['width']:\n",
    "#     reset the tile top after each loop\n",
    "    top=0\n",
    "#     keep looping untill the tile top is beyond the input height\n",
    "    while top < input_meta['height']:\n",
    "#         increment tile counter\n",
    "        tile_count += 1\n",
    "#         building tile name and export path\n",
    "        name = 'part_'+str(tile_count)+'_'+geotiff_file_name\n",
    "        export_path = os.path.join(output_folder,name)\n",
    "#         build dict with tile data\n",
    "        tiles.append({'left':left,\n",
    "                      'top':top,\n",
    "                      'export_path':export_path})\n",
    "#         increment tile top\n",
    "        top += tile_size_px[0]-tile_overlap_px\n",
    "#      increment tile left\n",
    "    left += tile_size_px[1]-tile_overlap_px\n",
    "    \n",
    "print('Tiles to make =',len(tiles))"
   ]
  },
  {
   "cell_type": "code",
   "execution_count": 7,
   "id": "cf6da183",
   "metadata": {},
   "outputs": [
    {
     "name": "stdout",
     "output_type": "stream",
     "text": [
      "thread count = 8\n"
     ]
    }
   ],
   "source": [
    "# this is your thread count, if the below process runs out or RAM manualy set this value to a lower number.\n",
    "processes = cpu_count()\n",
    "print('thread count =',processes)"
   ]
  },
  {
   "cell_type": "code",
   "execution_count": 8,
   "id": "dc218985",
   "metadata": {},
   "outputs": [],
   "source": [
    "def pad_array(array):\n",
    "    bands, y_shape, x_shape  = array.shape\n",
    "    x_missing =  tile_size_px[0] - x_shape\n",
    "    y_missing =  tile_size_px[1] - y_shape\n",
    "    \n",
    "    if x_missing or y_missing:\n",
    "        array = np.pad(array,[(0, 0),(0, y_missing), (0, x_missing)])\n",
    "    return array"
   ]
  },
  {
   "cell_type": "code",
   "execution_count": 9,
   "id": "52c98529",
   "metadata": {},
   "outputs": [],
   "source": [
    "# func to cut out list of tiles\n",
    "# for tile in tiles:\n",
    "def tile_cutter(tile):\n",
    "#     open raster\n",
    "    with rasterio.open(geotiff_path) as src:\n",
    "#         setup up windows extent to extract\n",
    "        win = rasterio.windows.Window(tile['left'], tile['top'], tile_size_px[1], tile_size_px[0])\n",
    "#         read only window extent\n",
    "        win_data = src.read(window=win)\n",
    "        if pad:\n",
    "            win_data = pad_array(win_data)\n",
    "#         generate transform for window\n",
    "        win_transform = src.window_transform(win)\n",
    "#         setup metadata for tile based on input image\n",
    "        meta = src.meta\n",
    "        meta['compress'] = output_compression\n",
    "        meta['driver'] = 'GTiff'\n",
    "        meta['transform'] = win_transform\n",
    "        meta['width'] = win_data.shape[2]\n",
    "        meta['height'] = win_data.shape[1]\n",
    "#         save out tile\n",
    "        with rasterio.open(tile['export_path'], 'w', **meta) as dst:\n",
    "            dst.write(win_data)\n"
   ]
  },
  {
   "cell_type": "code",
   "execution_count": 10,
   "id": "f718d152",
   "metadata": {},
   "outputs": [
    {
     "data": {
      "application/vnd.jupyter.widget-view+json": {
       "model_id": "9aa8153d6d0d4cb48cbb83604ed565ab",
       "version_major": 2,
       "version_minor": 0
      },
      "text/plain": [
       "  0%|          | 0/56 [00:00<?, ?it/s]"
      ]
     },
     "metadata": {},
     "output_type": "display_data"
    }
   ],
   "source": [
    "# # call the above func with multiprocessing, this won't on windows without passing all variables and libraries into the fun\n",
    "with Pool(processes) as p:\n",
    "    list(tqdm(p.imap(tile_cutter, tiles),total = len(tiles)))"
   ]
  },
  {
   "cell_type": "code",
   "execution_count": 59,
   "id": "e1833296",
   "metadata": {},
   "outputs": [],
   "source": [
    "# slower but should work on all systems\n",
    "# for tile in tqdm(tiles):\n",
    "#     tile_cutter(tile)"
   ]
  },
  {
   "cell_type": "code",
   "execution_count": null,
   "id": "f82fe576",
   "metadata": {},
   "outputs": [],
   "source": []
  }
 ],
 "metadata": {
  "kernelspec": {
   "display_name": "Python 3",
   "language": "python",
   "name": "python3"
  },
  "language_info": {
   "codemirror_mode": {
    "name": "ipython",
    "version": 3
   },
   "file_extension": ".py",
   "mimetype": "text/x-python",
   "name": "python",
   "nbconvert_exporter": "python",
   "pygments_lexer": "ipython3",
   "version": "3.9.7"
  }
 },
 "nbformat": 4,
 "nbformat_minor": 5
}
