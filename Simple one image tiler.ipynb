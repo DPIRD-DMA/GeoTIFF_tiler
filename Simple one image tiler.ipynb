{
 "cells": [
  {
   "cell_type": "code",
   "execution_count": 113,
   "id": "601b8758",
   "metadata": {},
   "outputs": [],
   "source": [
    "import os\n",
    "import rasterio\n",
    "from pathlib import Path\n",
    "from tqdm.auto import tqdm\n",
    "from multiprocess import Pool,cpu_count"
   ]
  },
  {
   "cell_type": "code",
   "execution_count": 114,
   "id": "a44bd0a6",
   "metadata": {},
   "outputs": [],
   "source": [
    "# set your tile size in pixels\n",
    "tile_size_px = [500,500] #x,y\n",
    "# set your overlap in pixels\n",
    "tile_overlap_px = 450\n",
    "# check above values\n",
    "if tile_overlap_px > tile_size_px[0] or tile_overlap_px > tile_size_px[1]:\n",
    "    print('You overlap must be less than the tile size')"
   ]
  },
  {
   "cell_type": "code",
   "execution_count": 121,
   "id": "91902818",
   "metadata": {},
   "outputs": [
    {
     "name": "stdout",
     "output_type": "stream",
     "text": [
      "Does the file exist? True\n",
      "output folder = /mnt/2TB Working 4/Projects/test tile data/tile this/dem1\n"
     ]
    }
   ],
   "source": [
    "# set the compression for your tiles\n",
    "output_compression = 'LZW'#'JPEG'  #use JPEG for images and LZW for raw data \n",
    "# that folder is your input file wihtin?\n",
    "geotiff_folder = '/mnt/2TB Working 4/Projects/test tile data/tile this'\n",
    "# what is the file name of the input file?\n",
    "geotiff_file_name = 'dem1.tif'\n",
    "# check file is correct\n",
    "geotiff_path = os.path.join(geotiff_folder,geotiff_file_name)\n",
    "print('Does the file exist?',os.path.isfile(geotiff_path))\n",
    "#make tile folder based on input path\n",
    "output_folder = os.path.splitext(geotiff_path)[0]\n",
    "print('output folder =',output_folder)\n",
    "Path(output_folder).mkdir(exist_ok=True)"
   ]
  },
  {
   "cell_type": "code",
   "execution_count": 122,
   "id": "4a946d7b",
   "metadata": {},
   "outputs": [
    {
     "data": {
      "text/plain": [
       "{'driver': 'GTiff',\n",
       " 'dtype': 'float32',\n",
       " 'nodata': 0.0,\n",
       " 'width': 1240,\n",
       " 'height': 745,\n",
       " 'count': 1,\n",
       " 'crs': CRS.from_epsg(28351),\n",
       " 'transform': Affine(10.000486048387135, 0.0, 322765.9481,\n",
       "        0.0, -9.995351543625029, 6283725.9253)}"
      ]
     },
     "execution_count": 122,
     "metadata": {},
     "output_type": "execute_result"
    }
   ],
   "source": [
    "# grab a copy of the input metadata \n",
    "with rasterio.open(geotiff_path) as open_raster:\n",
    "    input_meta = open_raster.meta\n",
    "input_meta"
   ]
  },
  {
   "cell_type": "code",
   "execution_count": 406,
   "id": "47198c80",
   "metadata": {},
   "outputs": [
    {
     "name": "stdout",
     "output_type": "stream",
     "text": [
      "Tiles to make = 375\n"
     ]
    }
   ],
   "source": [
    "# make a list of tiles by looping over raster height and width\n",
    "# this will store each tile details \n",
    "tiles = []\n",
    "# keep track of the left edge of tile and tile count\n",
    "left = 0\n",
    "tile_count = 0\n",
    "# loop untill left is beyond the input width\n",
    "while left < input_meta['width']:\n",
    "#     reset the tile top after each loop\n",
    "    top=0\n",
    "#     keep looping untill the tile top is beyond the input height\n",
    "    while top < input_meta['height']:\n",
    "#         increment tile counter\n",
    "        tile_count += 1\n",
    "#         building tile name and export path\n",
    "        name = 'part_'+str(tile_count)+'_'+geotiff_file_name\n",
    "        export_path = os.path.join(output_folder,name)\n",
    "#         build dict with tile data\n",
    "        tiles.append({'left':left,\n",
    "                      'top':top,\n",
    "                      'export_path':export_path})\n",
    "#         increment tile top\n",
    "        top += tile_size_px[1]-tile_overlap_px\n",
    "#      increment tile left\n",
    "    left += tile_size_px[0]-tile_overlap_px\n",
    "    \n",
    "print('Tiles to make =',len(tiles))"
   ]
  },
  {
   "cell_type": "code",
   "execution_count": 407,
   "id": "cf6da183",
   "metadata": {},
   "outputs": [
    {
     "name": "stdout",
     "output_type": "stream",
     "text": [
      "thread count = 32\n"
     ]
    }
   ],
   "source": [
    "# this is your thread count, if the below process runs out or RAM manualy set this value to a lower number.\n",
    "processes = cpu_count()\n",
    "print('thread count =',processes)"
   ]
  },
  {
   "cell_type": "code",
   "execution_count": 408,
   "id": "52c98529",
   "metadata": {},
   "outputs": [],
   "source": [
    "# func to cut out list of tiles\n",
    "def tile_cutter(tile):\n",
    "#     open raster\n",
    "    with rasterio.open(geotiff_path) as src:\n",
    "#         setup up windows extent to extract\n",
    "        win = rasterio.windows.Window(tile['left'], tile['top'], tile_size_px[0], tile_size_px[1])\n",
    "#         read only window extent\n",
    "        win_data = src.read(window=win)\n",
    "#         generate transform for window\n",
    "        win_transform = src.window_transform(win)\n",
    "#         setup metadata for tile based on input image\n",
    "        meta = src.meta\n",
    "        meta['compress'] = output_compression\n",
    "        meta['driver'] = 'GTiff'\n",
    "        meta['transform'] = win_transform\n",
    "        meta['width'] = win_data.shape[2]\n",
    "        meta['height'] = win_data.shape[1]\n",
    "#         save out tile\n",
    "        with rasterio.open(tile['export_path'], 'w', **meta) as dst:\n",
    "            dst.write(win_data)\n",
    "\n"
   ]
  },
  {
   "cell_type": "code",
   "execution_count": 410,
   "id": "f718d152",
   "metadata": {},
   "outputs": [
    {
     "data": {
      "application/vnd.jupyter.widget-view+json": {
       "model_id": "180254d49921493e9e000be06392615c",
       "version_major": 2,
       "version_minor": 0
      },
      "text/plain": [
       "  0%|          | 0/375 [00:00<?, ?it/s]"
      ]
     },
     "metadata": {},
     "output_type": "display_data"
    }
   ],
   "source": [
    "# call the above func with multiprocessing, this won't on windows without passing all variables and libraries into the fun\n",
    "with Pool(processes) as p:\n",
    "    list(tqdm(p.imap(tile_cutter, tiles),total = len(tiles)))"
   ]
  },
  {
   "cell_type": "code",
   "execution_count": 411,
   "id": "e1833296",
   "metadata": {},
   "outputs": [
    {
     "data": {
      "application/vnd.jupyter.widget-view+json": {
       "model_id": "a3df61d090ca4b73badc05214fa5aa7f",
       "version_major": 2,
       "version_minor": 0
      },
      "text/plain": [
       "  0%|          | 0/375 [00:00<?, ?it/s]"
      ]
     },
     "metadata": {},
     "output_type": "display_data"
    }
   ],
   "source": [
    "# slower but should work on all systems\n",
    "# for tile in tqdm(tiles):\n",
    "#     tile_cutter(tile)"
   ]
  },
  {
   "cell_type": "code",
   "execution_count": null,
   "id": "f82fe576",
   "metadata": {},
   "outputs": [],
   "source": []
  }
 ],
 "metadata": {
  "kernelspec": {
   "display_name": "Python 3 (ipykernel)",
   "language": "python",
   "name": "python3"
  },
  "language_info": {
   "codemirror_mode": {
    "name": "ipython",
    "version": 3
   },
   "file_extension": ".py",
   "mimetype": "text/x-python",
   "name": "python",
   "nbconvert_exporter": "python",
   "pygments_lexer": "ipython3",
   "version": "3.9.7"
  }
 },
 "nbformat": 4,
 "nbformat_minor": 5
}
