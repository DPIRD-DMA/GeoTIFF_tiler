{
 "cells": [
  {
   "cell_type": "code",
   "execution_count": 24,
   "metadata": {},
   "outputs": [],
   "source": [
    "from multiprocessing import Pool\n",
    "from tqdm.auto import tqdm\n",
    "import cProfile, pstats\n",
    "import numpy as np\n",
    "from numba import njit, prange\n",
    "%load_ext snakeviz"
   ]
  },
  {
   "cell_type": "code",
   "execution_count": 3,
   "metadata": {},
   "outputs": [],
   "source": [
    "#test pool with gen\n",
    "items = ['a','b','c']\n",
    "vals = (['a',[100,101,102]],['b',[200,201,202,203]],['c',[300,301]]) # list-based\n",
    "j = iter(range(len(vals)))\n",
    "k={}\n"
   ]
  },
  {
   "cell_type": "code",
   "execution_count": 4,
   "metadata": {},
   "outputs": [],
   "source": [
    "def test(item):\n",
    "    kk = next(j)\n",
    "    k[kk] = item\n",
    "    for val in enumerate(item[1]):\n",
    "        print(f'\\n{item[0]}[{i}] has {val}')"
   ]
  },
  {
   "cell_type": "code",
   "execution_count": 25,
   "metadata": {},
   "outputs": [],
   "source": [
    "@njit(parallel=True)\n",
    "def test_nb(item):\n",
    "    for val in prange(item.shape[0]):\n",
    "        print(f'\\n {val}')"
   ]
  },
  {
   "cell_type": "code",
   "execution_count": 5,
   "metadata": {},
   "outputs": [],
   "source": [
    "def dtest(items):\n",
    "    print(f'\\n[{items[0]}] has {items[1]}')"
   ]
  },
  {
   "cell_type": "code",
   "execution_count": 6,
   "metadata": {},
   "outputs": [
    {
     "data": {
      "text/plain": [
       "9"
      ]
     },
     "execution_count": 6,
     "metadata": {},
     "output_type": "execute_result"
    }
   ],
   "source": [
    "vs= {k:v for k,v in vals}\n",
    "v_ks = {i:k for i,k in enumerate(vs.keys())}\n",
    "val_count = sum( len(v) for v in list(vs.values()))\n",
    "val_count"
   ]
  },
  {
   "cell_type": "code",
   "execution_count": 7,
   "metadata": {},
   "outputs": [
    {
     "name": "stdout",
     "output_type": "stream",
     "text": [
      "associate members of [100, 101, 102] to [(0, 0), (0, 1), (0, 2)]\n",
      "(0, 0) <-- 100\n",
      "(0, 1) <-- 101\n",
      "(0, 2) <-- 102\n",
      "associate members of [200, 201, 202, 203] to [(1, 0), (1, 1), (1, 2), (1, 3)]\n",
      "(1, 0) <-- 200\n",
      "(1, 1) <-- 201\n",
      "(1, 2) <-- 202\n",
      "(1, 3) <-- 203\n",
      "associate members of [300, 301] to [(2, 0), (2, 1)]\n",
      "(2, 0) <-- 300\n",
      "(2, 1) <-- 301\n"
     ]
    }
   ],
   "source": [
    "ixn_keys = [[(ik,nk) for nk,_ in enumerate(vs[ v_ks[ik] ])] for ik in tuple(v_ks.keys())]\n",
    "dummy_dict = {}\n",
    "for inkl, nl in zip( ixn_keys,vs.values() ):\n",
    "    print(f'associate members of {nl} to {inkl}')\n",
    "    for ink,n in zip(inkl,nl):\n",
    "        print(f'{ink} <-- {n}')\n",
    "        dummy_dict[ink] = n #dict-based"
   ]
  },
  {
   "cell_type": "code",
   "execution_count": 8,
   "metadata": {},
   "outputs": [
    {
     "data": {
      "text/plain": [
       "(0, 0, 100)"
      ]
     },
     "execution_count": 8,
     "metadata": {},
     "output_type": "execute_result"
    }
   ],
   "source": [
    "(a,b), c = list(dummy_dict.items())[0]\n",
    "a,b,c"
   ]
  },
  {
   "cell_type": "code",
   "execution_count": 26,
   "metadata": {},
   "outputs": [],
   "source": [
    "def test_():\n",
    "    pool = Pool()\n",
    "    with pool:\n",
    "        tuple( tqdm( pool.imap( test_nb, vals ), total=3) )"
   ]
  },
  {
   "cell_type": "code",
   "execution_count": 10,
   "metadata": {},
   "outputs": [],
   "source": [
    "def dtest_():\n",
    "    pool = Pool()\n",
    "    with pool:\n",
    "        tuple( tqdm( pool.imap( dtest, dummy_dict.items() ), total=3) )"
   ]
  },
  {
   "cell_type": "code",
   "execution_count": 11,
   "metadata": {},
   "outputs": [],
   "source": [
    "def profile_f(f):\n",
    "    profiler = cProfile.Profile()\n",
    "    profiler.enable()\n",
    "    f()\n",
    "    profiler.disable()\n",
    "    stats = pstats.Stats(profiler).sort_stats('tottime')\n",
    "    return stats"
   ]
  },
  {
   "cell_type": "code",
   "execution_count": 13,
   "metadata": {},
   "outputs": [],
   "source": [
    "# lt = profile_f(test_).print_stats()\n",
    "# dt = profile_f(dtest_).print_stats()\n"
   ]
  },
  {
   "cell_type": "code",
   "execution_count": 27,
   "metadata": {},
   "outputs": [
    {
     "name": "stderr",
     "output_type": "stream",
     "text": [
      "  0%|          | 0/3 [00:00<?, ?it/s]"
     ]
    },
    {
     "name": "stdout",
     "output_type": "stream",
     "text": [
      "\n",
      "[(0, 1)] has 101\n",
      "[(0, 0)] has 100\n",
      "\n",
      "[(1, 1)] has 201\n",
      "\n",
      "\n",
      "[(1, 2)] has 202\n",
      "\n",
      "[(1, 0)] has 200\n",
      "[(1, 3)] has 203\n",
      "\n",
      "[(2, 0)] has 300\n",
      "[(0, 2)] has 102\n",
      "\n",
      "[(2, 1)] has 301\n",
      "\n",
      "\n"
     ]
    },
    {
     "name": "stderr",
     "output_type": "stream",
     "text": [
      "9it [00:00, 249.83it/s]              \n"
     ]
    },
    {
     "name": "stdout",
     "output_type": "stream",
     "text": [
      " \n",
      "*** Profile stats marshalled to file '/tmp/tmp696161vu'. \n",
      "Embedding SnakeViz in this document...\n"
     ]
    },
    {
     "data": {
      "text/html": [
       "\n",
       "<iframe id='snakeviz-cac0e030-9db0-11eb-b4aa-f8b156ac39ab' frameborder=0 seamless width='100%' height='1000'></iframe>\n",
       "<script>document.getElementById(\"snakeviz-cac0e030-9db0-11eb-b4aa-f8b156ac39ab\").setAttribute(\"src\", \"http://\" + document.location.hostname + \":8080/snakeviz/%2Ftmp%2Ftmp696161vu\")</script>\n"
      ],
      "text/plain": [
       "<IPython.core.display.HTML object>"
      ]
     },
     "metadata": {},
     "output_type": "display_data"
    }
   ],
   "source": [
    "%snakeviz dtest_()"
   ]
  }
 ],
 "metadata": {
  "kernelspec": {
   "display_name": "Python 3.8.8 64-bit ('geotiff_tiler': conda)",
   "language": "python",
   "name": "python38864bitgeotifftilerconda473bcde926cf4313b8a555f984deadad"
  },
  "language_info": {
   "codemirror_mode": {
    "name": "ipython",
    "version": 3
   },
   "file_extension": ".py",
   "mimetype": "text/x-python",
   "name": "python",
   "nbconvert_exporter": "python",
   "pygments_lexer": "ipython3",
   "version": "3.8.8"
  }
 },
 "nbformat": 4,
 "nbformat_minor": 4
}
