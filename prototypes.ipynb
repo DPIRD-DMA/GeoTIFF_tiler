{
 "cells": [
  {
   "cell_type": "code",
   "execution_count": null,
   "metadata": {},
   "outputs": [],
   "source": [
    "from multiprocessing import Pool\n",
    "from tqdm.auto import tqdm\n",
    "import cProfile, pstats\n",
    "import numpy as np\n",
    "from numba import njit, prange\n",
    "%load_ext snakeviz"
   ]
  },
  {
   "cell_type": "code",
   "execution_count": null,
   "metadata": {},
   "outputs": [],
   "source": [
    "#test pool with gen\n",
    "items = ['a','b','c']\n",
    "vals = (['a',[100,101,102]],['b',[200,201,202,203]],['c',[300,301]]) # list-based\n",
    "j = iter(range(len(vals)))\n",
    "k={}\n"
   ]
  },
  {
   "cell_type": "code",
   "execution_count": null,
   "metadata": {},
   "outputs": [],
   "source": [
    "def test(item):\n",
    "    kk = next(j)\n",
    "    k[kk] = item\n",
    "    for val in enumerate(item[1]):\n",
    "        print(f'\\n{item[0]}[{i}] has {val}')"
   ]
  },
  {
   "cell_type": "code",
   "execution_count": null,
   "metadata": {},
   "outputs": [],
   "source": [
    "@njit(parallel=True)\n",
    "def test_nb(item):\n",
    "    for val in prange(item.shape[0]):\n",
    "        print(f'\\n {val}')"
   ]
  },
  {
   "cell_type": "code",
   "execution_count": null,
   "metadata": {},
   "outputs": [],
   "source": [
    "def dtest(items):\n",
    "    print(f'\\n[{items[0]}] has {items[1]}')"
   ]
  },
  {
   "cell_type": "code",
   "execution_count": null,
   "metadata": {},
   "outputs": [],
   "source": [
    "vs= {k:v for k,v in vals}\n",
    "v_ks = {i:k for i,k in enumerate(vs.keys())}\n",
    "val_count = sum( len(v) for v in list(vs.values()))\n",
    "val_count"
   ]
  },
  {
   "cell_type": "code",
   "execution_count": null,
   "metadata": {},
   "outputs": [],
   "source": [
    "ixn_keys = [[(ik,nk) for nk,_ in enumerate(vs[ v_ks[ik] ])] for ik in tuple(v_ks.keys())]\n",
    "dummy_dict = {}\n",
    "for inkl, nl in zip( ixn_keys,vs.values() ):\n",
    "    print(f'associate members of {nl} to {inkl}')\n",
    "    for ink,n in zip(inkl,nl):\n",
    "        print(f'{ink} <-- {n}')\n",
    "        dummy_dict[ink] = n #dict-based"
   ]
  },
  {
   "cell_type": "code",
   "execution_count": null,
   "metadata": {},
   "outputs": [],
   "source": [
    "(a,b), c = list(dummy_dict.items())[0]\n",
    "a,b,c"
   ]
  },
  {
   "cell_type": "code",
   "execution_count": null,
   "metadata": {},
   "outputs": [],
   "source": [
    "def test_():\n",
    "    pool = Pool()\n",
    "    with pool:\n",
    "        tuple( tqdm( pool.imap( test_nb, vals ), total=3) )"
   ]
  },
  {
   "cell_type": "code",
   "execution_count": null,
   "metadata": {},
   "outputs": [],
   "source": [
    "def dtest_():\n",
    "    pool = Pool()\n",
    "    with pool:\n",
    "        tuple( tqdm( pool.imap( dtest, dummy_dict.items() ), total=3) )"
   ]
  },
  {
   "cell_type": "code",
   "execution_count": null,
   "metadata": {},
   "outputs": [],
   "source": [
    "def profile_f(f):\n",
    "    profiler = cProfile.Profile()\n",
    "    profiler.enable()\n",
    "    f()\n",
    "    profiler.disable()\n",
    "    stats = pstats.Stats(profiler).sort_stats('tottime')\n",
    "    return stats"
   ]
  },
  {
   "cell_type": "code",
   "execution_count": null,
   "metadata": {},
   "outputs": [],
   "source": [
    "# lt = profile_f(test_).print_stats()\n",
    "# dt = profile_f(dtest_).print_stats()\n"
   ]
  },
  {
   "cell_type": "code",
   "execution_count": null,
   "metadata": {},
   "outputs": [],
   "source": [
    "%snakeviz dtest_()"
   ]
  },
  {
   "cell_type": "markdown",
   "metadata": {},
   "source": [
    "### Potential Chip Dimensions"
   ]
  },
  {
   "cell_type": "code",
   "execution_count": null,
   "metadata": {},
   "outputs": [],
   "source": [
    "from math import floor, ceil\n",
    "to_cm = lambda x: round(x*2.7/10,1)\n",
    "\n",
    "img_w = 9504\n",
    "img_h = 6336\n",
    "nws = []\n",
    "nhs = []\n",
    "# thr = 0.001\n",
    "for s in range(floor(img_w/40),img_w):\n",
    "    w = s\n",
    "    h = w * (2/3)\n",
    "    if h/3*2 % 1 == 0:\n",
    "        min_ov,max_ov = floor(w*.10), ceil(w*.66)\n",
    "        for o in range(min_ov,max_ov):\n",
    "            # how many blocks of side x side fit on width and height of the image\n",
    "            nw = (img_w - o)/(s - o)\n",
    "            nh = (img_h - o)/(s - o)\n",
    "            if nw % 1 == 0 and nh % 1 == 0:\n",
    "                nws.append(nw)\n",
    "                nhs.append(nh)\n",
    "                print(f'{int(nw-1)}x{int(nh-1)} colxrow_tiles/img, {s} px/side or ~{to_cm(s)}cm/tile_side, overlapping by {o}px or {round(o/s*100,1)}% or ~{to_cm(o)}cm ')\n",
    "                print(f'{nw*nh} tiles per image')\n",
    "                print('----------------------------------------------------------------------')\n",
    "print(f'nws: {len(nws)}, nhs: {len(nhs)}')"
   ]
  },
  {
   "cell_type": "markdown",
   "metadata": {},
   "source": [
    "### Rasterio Tiler (Not concurrent processing)"
   ]
  },
  {
   "cell_type": "code",
   "execution_count": null,
   "metadata": {},
   "outputs": [],
   "source": [
    "import os\n",
    "import rasterio as rio\n",
    "from rasterio import windows\n",
    "from itertools import product\n",
    "\n",
    "jp = lambda *p: os.path.join(*p)\n",
    "\n",
    "sites = ['CND']\n",
    "\n",
    "in_paths = {site:f'E:\\\\Georeferenced\\\\{site}' for site in sites}\n",
    "in_flnms = os.listdir(in_paths['CND'])\n",
    "\n",
    "out_paths = {site:f'E:\\\\Tiled\\\\{site}' for site in sites}\n",
    "out_flnm = 'tile_{}-{}.tif' # tile_IMG_jxi\n",
    "\n",
    "\n",
    "#64tiles/block 508px (137.2cm) wide -- ovlp 128px (~25.2%, 34.6cm)\n",
    "\n",
    "# https://gis.stackexchange.com/questions/285499\n",
    "\n",
    "def get_overlapping_tiles(ds, width=508, height=508, ovlp=128):\n",
    "    ncols, nrows = [ds.meta[v] for v in ('width','height')]\n",
    "    xoff, yoff = [v-ovlp for v in (width, height)]\n",
    "    offsets = product(*[range(0,direction,offset) for direction,offset in zip( (ncols,nrows), (xoff,yoff) )])\n",
    "    big_window = windows.Window(col_off=0, row_off = 0, width=ncols, height=nrows)\n",
    "    for col_off, row_off in offsets:\n",
    "        window = windows.Window(col_off=col_off, row_off=row_off, width=width, height=height).intersection(big_window)\n",
    "        transform = windows.transform(window,ds.transform)\n",
    "        yield window, transform\n",
    "\n",
    "with rio.open( jp(in_paths['CND'],in_flnms[0]) ) as inds:\n",
    "    tile_width = tile_height = 508\n",
    "    meta = inds.meta.copy()\n",
    "    img_nm = os.path.basename(in_flnms[0])\n",
    "    img_id = img_nm.replace('_DSC','').replace.split('.')[0]\n",
    "    \n",
    "\n",
    "    for window, transform in get_overlapping_tiles(inds):\n",
    "        print(window)\n",
    "        meta['transform'] = transform\n",
    "        meta['width'], meta['height'] = window.width, window.height\n",
    "        os.makedirs(out_paths['CND'],exist_ok=True)\n",
    "        outpath = jp(out_paths['CND'],out_flnm.format(*[int(loc) for loc in (window.col_off, window.row_off)]))\n",
    "        with rio.open(outpath, 'w', **meta) as outds:\n",
    "            outds.write(inds.read(window=window))"
   ]
  }
 ],
 "metadata": {
  "kernelspec": {
   "display_name": "Python 3",
   "language": "python",
   "name": "python3"
  },
  "language_info": {
   "codemirror_mode": {
    "name": "ipython",
    "version": 3
   },
   "file_extension": ".py",
   "mimetype": "text/x-python",
   "name": "python",
   "nbconvert_exporter": "python",
   "pygments_lexer": "ipython3",
   "version": "3.8.8"
  }
 },
 "nbformat": 4,
 "nbformat_minor": 4
}
