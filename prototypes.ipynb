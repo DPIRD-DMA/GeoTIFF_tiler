{
 "cells": [
  {
   "cell_type": "code",
   "execution_count": null,
   "metadata": {},
   "outputs": [],
   "source": [
    "from multiprocessing import Pool\n",
    "from tqdm.auto import tqdm\n",
    "import cProfile, pstats\n",
    "import numpy as np\n",
    "from numba import njit, prange\n",
    "%load_ext snakeviz"
   ]
  },
  {
   "cell_type": "code",
   "execution_count": null,
   "metadata": {},
   "outputs": [],
   "source": [
    "#test pool with gen\n",
    "items = ['a','b','c']\n",
    "vals = (['a',[100,101,102]],['b',[200,201,202,203]],['c',[300,301]]) # list-based\n",
    "j = iter(range(len(vals)))\n",
    "k={}\n"
   ]
  },
  {
   "cell_type": "code",
   "execution_count": null,
   "metadata": {},
   "outputs": [],
   "source": [
    "def test(item):\n",
    "    kk = next(j)\n",
    "    k[kk] = item\n",
    "    for val in enumerate(item[1]):\n",
    "        print(f'\\n{item[0]}[{i}] has {val}')"
   ]
  },
  {
   "cell_type": "code",
   "execution_count": null,
   "metadata": {},
   "outputs": [],
   "source": [
    "@njit(parallel=True)\n",
    "def test_nb(item):\n",
    "    for val in prange(item.shape[0]):\n",
    "        print(f'\\n {val}')"
   ]
  },
  {
   "cell_type": "code",
   "execution_count": null,
   "metadata": {},
   "outputs": [],
   "source": [
    "def dtest(items):\n",
    "    print(f'\\n[{items[0]}] has {items[1]}')"
   ]
  },
  {
   "cell_type": "code",
   "execution_count": null,
   "metadata": {},
   "outputs": [],
   "source": [
    "vs= {k:v for k,v in vals}\n",
    "v_ks = {i:k for i,k in enumerate(vs.keys())}\n",
    "val_count = sum( len(v) for v in list(vs.values()))\n",
    "val_count"
   ]
  },
  {
   "cell_type": "code",
   "execution_count": null,
   "metadata": {},
   "outputs": [],
   "source": [
    "ixn_keys = [[(ik,nk) for nk,_ in enumerate(vs[ v_ks[ik] ])] for ik in tuple(v_ks.keys())]\n",
    "dummy_dict = {}\n",
    "for inkl, nl in zip( ixn_keys,vs.values() ):\n",
    "    print(f'associate members of {nl} to {inkl}')\n",
    "    for ink,n in zip(inkl,nl):\n",
    "        print(f'{ink} <-- {n}')\n",
    "        dummy_dict[ink] = n #dict-based"
   ]
  },
  {
   "cell_type": "code",
   "execution_count": null,
   "metadata": {},
   "outputs": [],
   "source": [
    "(a,b), c = list(dummy_dict.items())[0]\n",
    "a,b,c"
   ]
  },
  {
   "cell_type": "code",
   "execution_count": null,
   "metadata": {},
   "outputs": [],
   "source": [
    "def test_():\n",
    "    pool = Pool()\n",
    "    with pool:\n",
    "        tuple( tqdm( pool.imap( test_nb, vals ), total=3) )"
   ]
  },
  {
   "cell_type": "code",
   "execution_count": null,
   "metadata": {},
   "outputs": [],
   "source": [
    "def dtest_():\n",
    "    pool = Pool()\n",
    "    with pool:\n",
    "        tuple( tqdm( pool.imap( dtest, dummy_dict.items() ), total=3) )"
   ]
  },
  {
   "cell_type": "code",
   "execution_count": null,
   "metadata": {},
   "outputs": [],
   "source": [
    "def profile_f(f):\n",
    "    profiler = cProfile.Profile()\n",
    "    profiler.enable()\n",
    "    f()\n",
    "    profiler.disable()\n",
    "    stats = pstats.Stats(profiler).sort_stats('tottime')\n",
    "    return stats"
   ]
  },
  {
   "cell_type": "code",
   "execution_count": null,
   "metadata": {},
   "outputs": [],
   "source": [
    "# lt = profile_f(test_).print_stats()\n",
    "# dt = profile_f(dtest_).print_stats()\n"
   ]
  },
  {
   "cell_type": "code",
   "execution_count": null,
   "metadata": {},
   "outputs": [],
   "source": [
    "%snakeviz dtest_()"
   ]
  }
 ],
 "metadata": {
  "kernelspec": {
   "display_name": "Python 3.8.8 64-bit ('geotiff_tiler': conda)",
   "language": "python",
   "name": "python38864bitgeotifftilerconda473bcde926cf4313b8a555f984deadad"
  },
  "language_info": {
   "codemirror_mode": {
    "name": "ipython",
    "version": 3
   },
   "file_extension": ".py",
   "mimetype": "text/x-python",
   "name": "python",
   "nbconvert_exporter": "python",
   "pygments_lexer": "ipython3",
   "version": "3.8.8"
  }
 },
 "nbformat": 4,
 "nbformat_minor": 4
}